{
 "cells": [
  {
   "cell_type": "markdown",
   "metadata": {
    "nbpresent": {
     "id": "13101ac1-2637-4d0f-9f1f-cd32215b02c3"
    },
    "slideshow": {
     "slide_type": "slide"
    }
   },
   "source": [
    "## Нелинейные алгебраические уравнения и системы\n",
    "### Метод простой итерации. Метод Ньютона\n",
    "\n",
    "\n",
    "Цыбулин Иван ([tsybulin@crec.mipt.ru](mailto:tsybulin@crec.mipt.ru))"
   ]
  },
  {
   "cell_type": "markdown",
   "metadata": {
    "nbpresent": {
     "id": "31cc3d04-22a5-4773-b4e1-abfb09f8bbc2"
    },
    "slideshow": {
     "slide_type": "slide"
    }
   },
   "source": [
    "## Особенности нелинейных уравнений\n",
    "В отличие от линейного уравнения (и невырожденных линейных систем), нелиейное уравнение вида\n",
    "$$\n",
    "f(x) = 0\n",
    "$$\n",
    "может иметь сколько угодно решений, в том числе и вовсе их не иметь.\n",
    "\n",
    "Для корректной постановки требуется локализовать корень, например так\n",
    "$$\n",
    "a < x < b\n",
    "$$"
   ]
  },
  {
   "cell_type": "markdown",
   "metadata": {
    "slideshow": {
     "slide_type": "slide"
    }
   },
   "source": [
    "## Метод дихотомии\n",
    "Простейший метод решения скалярного уравнения &mdash; метод деления отрезка пополам. Допустим, что функция $f(x)$ непрерывна и в концах отрезка $[a,b]$ принимает значения разного знака. Вычислим функцию в середине отрезка $c = \\frac{a+b}{2}$. Если $f(c)$ того же знака, что и $f(a)$, тогда корень расположен на отрезке $[c, b]$. В противном случае, корень расположен на отрезке $[a, c]$"
   ]
  },
  {
   "cell_type": "markdown",
   "metadata": {
    "slideshow": {
     "slide_type": "subslide"
    }
   },
   "source": [
    "<img src=\"bisect.png\" width=\"600\">\n",
    "\n",
    "Процедура деления отрезка снова применяется к новому интервалу. Итерации заканчиваются, когда очередной отрезок $[a_k, b_k]$ становится достаточно мал: $b_k - a_k < \\epsilon$"
   ]
  },
  {
   "cell_type": "code",
   "execution_count": 4,
   "metadata": {
    "collapsed": false,
    "slideshow": {
     "slide_type": "slide"
    }
   },
   "outputs": [
    {
     "name": "stdout",
     "output_type": "stream",
     "text": [
      "[3.0000000000, 3.5000000000]\n",
      "[3.0000000000, 3.2500000000]\n",
      "[3.1250000000, 3.2500000000]\n",
      "[3.1250000000, 3.1875000000]\n",
      "[3.1250000000, 3.1562500000]\n",
      "[3.1406250000, 3.1562500000]\n",
      "[3.1406250000, 3.1484375000]\n",
      "[3.1406250000, 3.1445312500]\n",
      "[3.1406250000, 3.1425781250]\n",
      "[3.1406250000, 3.1416015625]\n",
      "[3.1411132812, 3.1416015625]\n",
      "[3.1413574219, 3.1416015625]\n",
      "[3.1414794922, 3.1416015625]\n",
      "[3.1415405273, 3.1416015625]\n",
      "[3.1415710449, 3.1416015625]\n",
      "[3.1415863037, 3.1416015625]\n",
      "[3.1415863037, 3.1415939331]\n",
      "[3.1415901184, 3.1415939331]\n",
      "[3.1415920258, 3.1415939331]\n",
      "[3.1415920258, 3.1415929794]\n"
     ]
    },
    {
     "data": {
      "text/plain": [
       "-1.5099579897537296e-07"
      ]
     },
     "execution_count": 4,
     "metadata": {},
     "output_type": "execute_result"
    }
   ],
   "source": [
    "import numpy as np\n",
    "def bisect(f, a, b, eps=1e-6):\n",
    "    fa = f(a); fb = f(b)\n",
    "    while b - a > eps:\n",
    "        c = (a + b) / 2\n",
    "        fc = f(c)\n",
    "        if fa * fc > 0: # If sign f(a) = sign f(c)\n",
    "            a = c; fa = fc\n",
    "        else:\n",
    "            b = c; fb = fc\n",
    "        print('[%12.10f, %12.10f]' % (a, b))\n",
    "    return (a + b) / 2\n",
    "\n",
    "def f(x): return np.tan(x / 4) - 1\n",
    "bisect(f, 3, 4) - np.pi"
   ]
  },
  {
   "cell_type": "markdown",
   "metadata": {
    "slideshow": {
     "slide_type": "slide"
    }
   },
   "source": [
    "Метод дихотомии на каждой итерации делит отрезок пополам, следовательно\n",
    "$$\n",
    "\\left|x^* - \\frac{a_k + b_k}{2}\\right| \\leqslant \\frac{b_k - a_k}{2} = \\left(\\frac{1}{2}\\right)^k \\frac{b_0 - a_0}{2}.\n",
    "$$\n",
    "Видно, что метод сходится со скоростью $q = \\frac{1}{2}$."
   ]
  },
  {
   "cell_type": "markdown",
   "metadata": {
    "slideshow": {
     "slide_type": "slide"
    }
   },
   "source": [
    "## Метод простой итерации\n",
    "Рассмотрим следующий (одношаговый) итерационный метод\n",
    "$$\n",
    "x_{k+1} = \\varphi(x_k)\n",
    "$$\n",
    "\n",
    "Пусть этот процесс сходится $x_k \\to x^*$. Что можно сказать про $x^*$?"
   ]
  },
  {
   "cell_type": "markdown",
   "metadata": {
    "slideshow": {
     "slide_type": "fragment"
    }
   },
   "source": [
    "$$\n",
    "x^* = \\varphi(x^*)\n",
    "$$"
   ]
  },
  {
   "cell_type": "markdown",
   "metadata": {
    "slideshow": {
     "slide_type": "slide"
    }
   },
   "source": [
    "## Сходимость метода простой итерации\n",
    "**Теорема Банаха**. Если $\\varphi(x)$ задает на отрезке $[a, b]$ сжимающее отображение, то есть отображает отрезок в себя $\\varphi([a, b]) \\subseteq [a,b]$ и уменьшает расстояния между любой парой точек\n",
    "$$\n",
    "|\\varphi(x) - \\varphi(y)| \\leqslant q |x-y|,\\quad \\forall x,y \\in [a,b],\n",
    "$$\n",
    "где $q < 1$, то у такого отображения на отрезке $[a,b]$ есть единственная неподвижная точка $x^* = \\varphi(x^*)$ и последовательность $x_{k+1} = \\varphi(x_k)$ сходится к ней при любом $x_0 \\in [a,b]$."
   ]
  },
  {
   "cell_type": "markdown",
   "metadata": {
    "slideshow": {
     "slide_type": "slide"
    }
   },
   "source": [
    "Если $\\varphi(x)$ &mdash; сжимающее отображение, то\n",
    "$$\n",
    "|x_{k+1} - x^*| \\leqslant q|x_k - x^*| \\leqslant \\cdots \\leqslant q^{k+1} |x_0 - x^*|\n",
    "$$\n",
    "То есть итерационный процесс сходится со скоростью $q$."
   ]
  },
  {
   "cell_type": "markdown",
   "metadata": {
    "slideshow": {
     "slide_type": "slide"
    }
   },
   "source": [
    "## Достаточное условие сжимаемости\n",
    " * Функция $\\varphi(x)$ отображает отрезок в себя (важное условие!): $ \\varphi(x) \\in [a,b], \\quad \\forall x \\in [a,b] $\n",
    " * Производная $\\varphi'(x)$ по модулю меньше единицы на $[a,b]$:\n",
    " $$\n",
    " q = \\max_{x\\in [a,b]} |f'(x)|\n",
    " $$\n",
    " \n",
    "Если $|\\varphi'(x^*)| < 1$, то существует такая окрестность корня $[x_0 - \\epsilon, x_0 + \\epsilon]$, где $\\varphi(x)$ задает сжимающее отображение. При необходимости можно измельчать отрезок $[a,b]$ дихотомией до выполнения первого условия."
   ]
  },
  {
   "cell_type": "markdown",
   "metadata": {
    "slideshow": {
     "slide_type": "slide"
    }
   },
   "source": [
    "Рассмотрим уравнение \n",
    "$$\n",
    "x = \\ln(x+2)\n",
    "$$"
   ]
  },
  {
   "cell_type": "code",
   "execution_count": 5,
   "metadata": {
    "collapsed": false,
    "hideCode": true,
    "hidePrompt": false,
    "slideshow": {
     "slide_type": "fragment"
    }
   },
   "outputs": [
    {
     "data": {
      "image/png": "[encoded data removed]",
      "text/plain": [
       "<matplotlib.figure.Figure at 0x7fd8b97683c8>"
      ]
     },
     "metadata": {},
     "output_type": "display_data"
    }
   ],
   "source": [
    "import matplotlib.pyplot as plt\n",
    "%matplotlib inline\n",
    "plt.rc('font', **{'size' : 14})\n",
    "x = np.linspace(-2. + 0.001, 3, 1000);\n",
    "plt.figure(figsize=(7,4))\n",
    "plt.plot(x, x, 'r', label='$x$');\n",
    "plt.plot(x, np.log(x + 2), 'g', label='$\\ln(x+2)$');\n",
    "plt.grid()\n",
    "plt.legend(loc='upper left')\n",
    "plt.ylim(-3, 3)\n",
    "plt.show()"
   ]
  },
  {
   "cell_type": "markdown",
   "metadata": {
    "slideshow": {
     "slide_type": "slide"
    }
   },
   "source": [
    "Из графиков видно, что один корень расположен в на отрезке $[1, 2]$, а второй &mdash; на отрезке $[-1.9, -1]$. Действительно,\n",
    "$$\\begin{aligned}\n",
    "x - \\ln(x+2)\\big|_{x = 1} &= 1 - \\ln 3 < 1 - \\ln e = 0\\\\\n",
    "x - \\ln(x+2)\\big|_{x = 2} &= 2 - \\ln 4 > 2 - \\ln e^2 = 0\\\\\n",
    "x - \\ln(x+2)\\big|_{x = -1.9} &= -1.9 - \\ln 0.1 > -1.9 - \\ln e^{-2} = 0.1 > 0\\\\\n",
    "x - \\ln(x+2)\\big|_{x = -1} &= -1 - \\ln 1 = -1 < 0\n",
    "\\end{aligned}\n",
    "$$"
   ]
  },
  {
   "cell_type": "markdown",
   "metadata": {
    "slideshow": {
     "slide_type": "slide"
    }
   },
   "source": [
    "Возьмем итерационный процесс $x_{k+1} = \\varphi(x_k)$, где $\\varphi(x) = \\ln(x+2)$. Это отображение переводит отрезок $[1, 2]$ внутрь себя:\n",
    "$$\n",
    "1 < \\ln 3 \\leqslant \\ln(x + 2) \\leqslant \\ln 4 < 2.\n",
    "$$\n",
    "Производная этого отображения равна\n",
    "$$\n",
    "\\varphi'(x) = \\frac{1}{x+2}, \\qquad q = \\max_{x\\in[1,2]}|\\varphi'(x)| = \\frac{1}{3} < 1.\n",
    "$$\n",
    "Значит, $\\varphi(x)$ &mdash; сжимающее отображение на $[1,2]$. "
   ]
  },
  {
   "cell_type": "code",
   "execution_count": 6,
   "metadata": {
    "collapsed": false,
    "slideshow": {
     "slide_type": "subslide"
    }
   },
   "outputs": [
    {
     "name": "stdout",
     "output_type": "stream",
     "text": [
      "x = 1.1461966638 , x* = 1.14619322062\n",
      "x - x* = 3.4431762046e-06\n"
     ]
    }
   ],
   "source": [
    "from scipy.optimize import fsolve\n",
    "\n",
    "def phi(x):\n",
    "    return np.log(x + 2)\n",
    "\n",
    "x = 1.5\n",
    "for i in range(10):\n",
    "    x = phi(x)\n",
    "    \n",
    "[xtrue] = fsolve(lambda x: x - phi(x), 1.5, xtol=1e-20)\n",
    "print('x =', x, ', x* =', xtrue)\n",
    "print('x - x* =', x - xtrue)"
   ]
  },
  {
   "cell_type": "markdown",
   "metadata": {
    "slideshow": {
     "slide_type": "subslide"
    }
   },
   "source": [
    "Попробуем применить то же отображение, но к другому корню $x \\approx -1.84141$"
   ]
  },
  {
   "cell_type": "code",
   "execution_count": 7,
   "metadata": {
    "collapsed": false,
    "slideshow": {
     "slide_type": "fragment"
    }
   },
   "outputs": [
    {
     "name": "stdout",
     "output_type": "stream",
     "text": [
      "x = 1.02413690972 , x* = -1.84140566044\n",
      "x - x* = 2.86554257015\n"
     ]
    }
   ],
   "source": [
    "x0 = -1.84140\n",
    "x = x0\n",
    "for i in range(10):\n",
    "    x = phi(x)\n",
    "    \n",
    "[xtrue] = fsolve(lambda x: x - phi(x), x0, xtol=1e-20)\n",
    "print('x =', x, ', x* =', xtrue)\n",
    "print('x - x* =', x - xtrue)"
   ]
  },
  {
   "cell_type": "markdown",
   "metadata": {
    "slideshow": {
     "slide_type": "slide"
    }
   },
   "source": [
    "Дело в том, что $\\varphi(x) = \\log(x+2)$ не задает сжимающее отображение на $[-1.9, -1]$, это видно хотя бы из того, что\n",
    "$$\n",
    "|\\varphi'(x)| = \\left|\\frac{1}{x+2} \\right| \\geqslant 1\n",
    "$$"
   ]
  },
  {
   "cell_type": "markdown",
   "metadata": {
    "slideshow": {
     "slide_type": "subslide"
    }
   },
   "source": [
    "Предложите другой способ записать решение уравнения $x = \\ln(x+2)$\n",
    "в виде неподвижной точки некоторого итерационного процесса $x_{k+1} = \\tilde\\varphi(x_k)$\n",
    "$$\n",
    "x = \\tilde\\varphi(x)\n",
    "$$"
   ]
  },
  {
   "cell_type": "markdown",
   "metadata": {
    "slideshow": {
     "slide_type": "slide"
    }
   },
   "source": [
    "Рассмотрим $\\tilde \\varphi(x) = e^x - 2$. Это отображение переводит отрезок $[-1.9, -1]$ в себя:\n",
    "$$\n",
    "-1.9 < -1.85 \\lesssim e^{-1.9} - 2 < e^x - 2 < \\frac{1}{e} - 2 < -1,\n",
    "$$\n",
    "а его производная\n",
    "$$\n",
    "\\tilde\\varphi'(x) = e^x, \\qquad q = \\max_{x \\in [-1.9, -1]} |e^x| = \\frac{1}{e} \\approx 0.3679\n",
    "$$"
   ]
  },
  {
   "cell_type": "code",
   "execution_count": 8,
   "metadata": {
    "collapsed": false,
    "slideshow": {
     "slide_type": "subslide"
    }
   },
   "outputs": [
    {
     "name": "stdout",
     "output_type": "stream",
     "text": [
      "x = -1.84140565539 , x* = -1.84140566044\n",
      "x - x* = 5.04783015387e-09\n"
     ]
    }
   ],
   "source": [
    "def phi2(x):\n",
    "    return np.exp(x) - 2\n",
    "\n",
    "x0 = -1.45\n",
    "x = x0\n",
    "for i in range(10):\n",
    "    x = phi2(x)\n",
    "    \n",
    "[xtrue] = fsolve(lambda x: x - phi2(x), x0, xtol=1e-20)\n",
    "print('x =', x, ', x* =', xtrue)\n",
    "print('x - x* =', x - xtrue)"
   ]
  },
  {
   "cell_type": "markdown",
   "metadata": {
    "slideshow": {
     "slide_type": "slide"
    }
   },
   "source": [
    "## Метод Ньютона\n",
    "Рассмотрим уравнение $f(x) = 0$. Пусть нам известно приближение к решению $x_k \\approx x^*$. *Линеаризуем* функцию $f(x)$ в окрестности $x = x_k$:\n",
    "$$\n",
    "f(x) \\approx f(x_k) + f'(x_k) (x - x_k).\n",
    "$$\n",
    "Вместо $f(x_{k+1}) = 0$ решим линеаризованное уравнение $f(x_k) + f'(x_k) (x_{k+1} - x_k) = 0$:\n",
    "$$\n",
    "x_{k+1} = x_k - \\frac{f(x_k)}{f'(x_k)}.\n",
    "$$"
   ]
  },
  {
   "cell_type": "markdown",
   "metadata": {
    "slideshow": {
     "slide_type": "subslide"
    }
   },
   "source": [
    "Запишем метод Ньютона в виде метода простой итерации\n",
    "$$\n",
    "\\varphi(x) = x - \\frac{f(x)}{f'(x)}, \\qquad\n",
    "\\varphi'(x) = 1 - \\frac{f'(x)}{f'(x)} + \\frac{f(x) f''(x)}{(f'(x))^2} = \\frac{f(x) f''(x)}{(f'(x))^2}\n",
    "$$\n",
    "Видно, что в окрестности корня $f(x) = 0$ производная $\\varphi'(x)$ по модулю будет меньше единицы."
   ]
  },
  {
   "cell_type": "markdown",
   "metadata": {
    "slideshow": {
     "slide_type": "subslide"
    }
   },
   "source": [
    "На самом деле, верна следующая теорема: если точка $x_k$ *достаточно близка* к $x^*$, то\n",
    "$$\n",
    "|x_{k+1} - x^*| \\leqslant C |x_{k} - x^*|^\\color{red}{2} \\leqslant \n",
    "C \\left(C |x_{k-1} - x^*|^2\\right)^2 = \n",
    "C^3 |x_{k-1} - x^*|^4\n",
    "\\leqslant \n",
    "\\cdots \\leqslant C^{2^{k+1}-1} |x_0 - x^*|^\\color{red}{2^{k+1}}.\n",
    "$$\n",
    "Говорят, что метод Ньютона сходится *квадратично*.\n",
    "\n",
    "Грубо говоря, $k$ итераций метода Ньютона так же эффективны, как $2^k$ итераций метода с постоянным $q$."
   ]
  },
  {
   "cell_type": "code",
   "execution_count": 9,
   "metadata": {
    "collapsed": false,
    "slideshow": {
     "slide_type": "slide"
    }
   },
   "outputs": [
    {
     "name": "stdout",
     "output_type": "stream",
     "text": [
      "x_1 - x^* = 6.547214e-01\n",
      "x_2 - x^* = 1.178428e-01\n",
      "x_3 - x^* = 3.538901e-03\n",
      "x_4 - x^* = 3.132800e-06\n",
      "x_5 - x^* = 2.453593e-12\n",
      "x_6 - x^* = 0.000000e+00\n"
     ]
    }
   ],
   "source": [
    "def f(x):\n",
    "    return np.tan(x / 4) - 1\n",
    "def fprime(x):\n",
    "    return 0.25 / np.cos(x / 4)**2\n",
    "\n",
    "x = 1.\n",
    "for i in range(1, 7):\n",
    "    x = x - f(x) / fprime(x)\n",
    "    print('x_%d - x^* = %e' % (i, x - np.pi))"
   ]
  },
  {
   "cell_type": "markdown",
   "metadata": {
    "slideshow": {
     "slide_type": "slide"
    }
   },
   "source": [
    "Метод Ньютона нуждается в хорошем начальном приближении. Если начальное приближение задано неудачно, метод разойдется (причем тоже квадратично &mdash; ошибка будет на каждой итерации возводиться в квадрат). Метод также допускает наглядную интерпретацию:"
   ]
  },
  {
   "cell_type": "code",
   "execution_count": 10,
   "metadata": {
    "collapsed": false,
    "hideCode": true,
    "slideshow": {
     "slide_type": "fragment"
    }
   },
   "outputs": [
    {
     "data": {
      "image/png": "[encoded data removed]",
      "text/plain": [
       "<matplotlib.figure.Figure at 0x7fd890555860>"
      ]
     },
     "metadata": {},
     "output_type": "display_data"
    }
   ],
   "source": [
    "def f(x):\n",
    "    return (x-1)*(x+2)**2\n",
    "def fprime(x):\n",
    "    return 3 * x * (x+2)\n",
    "\n",
    "x0 = 2.8\n",
    "x = [x0]\n",
    "n = 3\n",
    "for i in range(n):\n",
    "    x.append(x[-1] - f(x[-1]) / fprime(x[-1]))\n",
    "    \n",
    "X = np.linspace(0, 3, 1000)\n",
    "plt.figure(figsize=(7, 4))\n",
    "plt.plot(X, f(X), 'b')\n",
    "plt.plot(X, 0*X, 'k')\n",
    "for i in range(n):\n",
    "    plt.plot([x[i], x[i]], [0, f(x[i])], 'g')\n",
    "for i in range(n+1):    \n",
    "    plt.annotate('$x_{%d}$' % i, xy=(x[i]-0.05, -3))\n",
    "for i in range(n):\n",
    "    plt.plot([x[i], x[i+1]], [f(x[i]), 0], 'r')\n",
    "\n",
    "plt.grid()"
   ]
  },
  {
   "cell_type": "markdown",
   "metadata": {
    "slideshow": {
     "slide_type": "slide"
    }
   },
   "source": [
    "Если корень функции кратный, метод Ньютона метод Ньютона сходится медленее (линейно, а не квадратично)"
   ]
  },
  {
   "cell_type": "code",
   "execution_count": 11,
   "metadata": {
    "collapsed": false,
    "hideCode": false,
    "slideshow": {
     "slide_type": "subslide"
    }
   },
   "outputs": [
    {
     "name": "stdout",
     "output_type": "stream",
     "text": [
      "x_1 - x^* = 1.166667e+00\n",
      "x_2 - x^* = 6.549708e-01\n",
      "x_3 - x^* = 3.544152e-01\n",
      "x_4 - x^* = 1.860994e-01\n",
      "x_5 - x^* = 9.569009e-02\n",
      "x_6 - x^* = 4.857325e-02\n",
      "x_7 - x^* = 2.447858e-02\n",
      "x_8 - x^* = 1.228862e-02\n",
      "x_9 - x^* = 6.156817e-03\n"
     ]
    }
   ],
   "source": [
    "def f(x):\n",
    "    return (x-1)**2 * (x+2)\n",
    "def fprime(x):\n",
    "    return 3 * (x**2 - 1)\n",
    "\n",
    "x = 3.\n",
    "for i in range(1, 10):\n",
    "    x = x - f(x) / fprime(x)\n",
    "    print('x_%d - x^* = %e' % (i, x - 1))"
   ]
  },
  {
   "cell_type": "code",
   "execution_count": 12,
   "metadata": {
    "collapsed": false,
    "hideCode": true,
    "slideshow": {
     "slide_type": "subslide"
    }
   },
   "outputs": [
    {
     "data": {
      "image/png": "[encoded data removed]",
      "text/plain": [
       "<matplotlib.figure.Figure at 0x7fd89648fa90>"
      ]
     },
     "metadata": {},
     "output_type": "display_data"
    }
   ],
   "source": [
    "def f(x):\n",
    "    return (x-1)**2 * (x+2)\n",
    "def fprime(x):\n",
    "    return 3 * (x**2 - 1)\n",
    "\n",
    "x0 = 2.8\n",
    "x = [x0]\n",
    "n = 4\n",
    "for i in range(n):\n",
    "    x.append(x[-1] - f(x[-1]) / fprime(x[-1]))\n",
    "    \n",
    "X = np.linspace(0, 3, 1000)\n",
    "plt.figure(figsize=(7, 4))\n",
    "plt.plot(X, f(X), 'b')\n",
    "plt.plot(X, 0*X, 'k')\n",
    "for i in range(n):\n",
    "    plt.plot([x[i], x[i]], [0, f(x[i])], 'g')\n",
    "for i in range(n+1):    \n",
    "    plt.annotate('$x_{%d}$' % i, xy=(x[i]-0.05, -1))\n",
    "for i in range(n):\n",
    "    plt.plot([x[i], x[i+1]], [f(x[i]), 0], 'r')\n",
    "plt.ylim(-3, 20)\n",
    "\n",
    "plt.grid()"
   ]
  },
  {
   "cell_type": "markdown",
   "metadata": {
    "slideshow": {
     "slide_type": "slide"
    }
   },
   "source": [
    "### Системы уравнений\n",
    "Будем рассматривать системы алгебраических уравнений\n",
    "$$\n",
    "\\mathbf f(\\mathbf x) = \\mathbf 0,\n",
    "$$\n",
    "в которых число неизвестных равно числу уравнений."
   ]
  },
  {
   "cell_type": "markdown",
   "metadata": {
    "slideshow": {
     "slide_type": "slide"
    }
   },
   "source": [
    "### Сжиамющие отображения\n",
    "Аналогично одномерному случаю, отображение $\\boldsymbol \\varphi$ называется сжимающим в области $G$, если\n",
    "* Отображает область в себя: $\\boldsymbol \\varphi(\\mathbf  x) \\in G, \\; \\forall \\mathbf x \\in G$\n",
    "* Уменьшает расстояния: существует такое $q < 1$, что\n",
    "$$\n",
    "\\|\\boldsymbol \\varphi(\\mathbf y) - \\boldsymbol \\varphi(\\mathbf  x)\\| \\leqslant\n",
    "q \\|\\mathbf y - \\mathbf x\\|, \\; \\forall \\mathbf x, \\mathbf y \\in G.\n",
    "$$\n",
    "\n",
    "В этом случае $\\mathbf x_{n+1} = \\boldsymbol \\varphi(\\mathbf x_n)$ сходится к неподвижной точке при любом $\\mathbf x_0 \\in G$"
   ]
  },
  {
   "cell_type": "markdown",
   "metadata": {
    "slideshow": {
     "slide_type": "slide"
    }
   },
   "source": [
    "### Достаточное условие сжимаемости\n",
    "Для того, чтобы $\\boldsymbol \\varphi$ задавала сжимающее отображение в $G$ достаточно, чтобы $\\boldsymbol \\varphi$\n",
    "* Отображала область в себя: $\\boldsymbol \\varphi(\\mathbf  x) \\in G, \\; \\forall \\mathbf x \\in G$\n",
    "* Имела норму матрицы Якоби меньше единицы:\n",
    "$$\n",
    "q = \\max_{\\mathbf x \\in G} \\left\\|\\frac{\\partial \\boldsymbol \\varphi}{\\partial \\mathbf x}(\\mathbf x)\\right\\| < 1\n",
    "$$\n",
    "Как и для линейных систем, для сходимости достаточно найти хотя бы одну такую норму."
   ]
  },
  {
   "cell_type": "markdown",
   "metadata": {
    "slideshow": {
     "slide_type": "slide"
    }
   },
   "source": [
    "### Пример\n",
    "\n",
    "Рассмотрим систему уравнений\n",
    "$$\n",
    "\\begin{cases}\n",
    "x - \\cos y = 0\\\\\n",
    "\\sin x - y = 0\n",
    "\\end{cases}\n",
    "$$\n",
    "Необходимо найти корень в области $0 < x < 1,\\; 0 < y < 1$.\n",
    "\n",
    "Для наглядности изобразим каждое уравнение в виде графика."
   ]
  },
  {
   "cell_type": "code",
   "execution_count": 27,
   "metadata": {
    "collapsed": false,
    "hideCode": true,
    "slideshow": {
     "slide_type": "subslide"
    }
   },
   "outputs": [
    {
     "data": {
      "image/png": "[encoded data removed]",
      "text/plain": [
       "<matplotlib.figure.Figure at 0x7fd88ffd26a0>"
      ]
     },
     "metadata": {},
     "output_type": "display_data"
    }
   ],
   "source": [
    "t = np.linspace(0, 1, 10)\n",
    "plt.figure(figsize=(8, 6))\n",
    "plt.plot(np.cos(t), t, 'r', label='$x = \\cos(y)$', lw=2)\n",
    "plt.plot(t, np.sin(t), 'b', label='$y = \\sin(x)$', lw=2)\n",
    "plt.xlabel('$x$')\n",
    "plt.ylabel('$y$')\n",
    "plt.legend(loc='center left', bbox_to_anchor=(1, 0.5))\n",
    "plt.axis('square')\n",
    "plt.show()"
   ]
  },
  {
   "cell_type": "markdown",
   "metadata": {
    "slideshow": {
     "slide_type": "subslide"
    }
   },
   "source": [
    "Решение исходной системы является неподвижной точкой для следующего итерационного процесса\n",
    "$$\n",
    "\\begin{pmatrix}\n",
    "x_{k+1}\\\\y_{k+1}\n",
    "\\end{pmatrix} = \n",
    "\\begin{pmatrix}\n",
    "\\cos y_k\\\\\\sin x_k\n",
    "\\end{pmatrix},\n",
    "$$\n",
    "задаваемого вектор-функцией\n",
    "$$\n",
    "\\boldsymbol\\varphi\\begin{pmatrix}\n",
    "x\\\\y\n",
    "\\end{pmatrix} = \n",
    "\\begin{pmatrix}\n",
    "\\cos y\\\\\\sin x\n",
    "\\end{pmatrix}\n",
    "$$\n",
    "Изучим его сходимость"
   ]
  },
  {
   "cell_type": "markdown",
   "metadata": {
    "slideshow": {
     "slide_type": "subslide"
    }
   },
   "source": [
    "Нетрудно видеть, что точка из $G = \\{0 \\leqslant x \\leqslant 1, \\; 0 \\leqslant y \\leqslant 1\\}$ отображается снова в $G$:\n",
    "$$\n",
    "1 \\geqslant \\varphi_1(x, y) = \\cos y \\geqslant \\cos 1 > 0\\\\\n",
    "0 \\leqslant \\varphi_2(x, y) = \\sin x \\leqslant \\sin 1 < 1\n",
    "$$\n",
    "\n",
    "Значит $\\boldsymbol\\varphi(G) \\subseteq G$"
   ]
  },
  {
   "cell_type": "markdown",
   "metadata": {
    "slideshow": {
     "slide_type": "subslide"
    }
   },
   "source": [
    "Проверим матрицу Якоби:\n",
    "$$\n",
    "\\mathbf B(\\mathbf x) = \\frac{\\partial \\boldsymbol \\varphi}{\\partial \\mathbf x} = \n",
    "\\begin{pmatrix}\n",
    "0 & -\\sin y\\\\\n",
    "\\cos x & 0\n",
    "\\end{pmatrix}\n",
    "$$\n",
    "\n",
    "Ее $\\infty$ и $\\ell_1$ нормы совпадают и равны соответственно\n",
    "$$\n",
    "\\|\\mathbf B(\\mathbf x)\\|_{\\infty} = \\max(|\\cos x|, |\\sin y|).\n",
    "$$\n",
    "Однако, величина $q = \\max_{\\mathbf x \\in G} \\|\\mathbf B(\\mathbf x)\\|_{\\infty} = 1 \\not < 1.$ Гарантировать сжимаемость мы не можем"
   ]
  },
  {
   "cell_type": "markdown",
   "metadata": {
    "slideshow": {
     "slide_type": "subslide"
    }
   },
   "source": [
    "Выясним, из-за чего $q$ получилось равным $1$. Дело в линии $x = 0$, на ней $\\cos x = 1$. Необходимо исключить эту линию из области $G$ вместе с некоторой окрестностью. Пусть\n",
    "$$\n",
    "G' = \\{a \\leqslant x \\leqslant 1, \\; 0 \\leqslant y \\leqslant 1\\}, \\quad a > 0\n",
    "$$\n",
    "При этом в $G'$\n",
    "$$\n",
    "q' = \\max_{\\mathbf x \\in G'} \\|\\mathbf B(\\mathbf x)\\|_\\infty = \\max(\\cos a, \\sin 1) < 1.\n",
    "$$\n",
    "Осталось только выбрать такое $a$, чтобы не нарушить свойство $\\boldsymbol\\varphi(G') \\subseteq G'$."
   ]
  },
  {
   "cell_type": "markdown",
   "metadata": {
    "slideshow": {
     "slide_type": "subslide"
    }
   },
   "source": [
    "В уменьшенной области\n",
    "$$\n",
    "G' = \\{a \\leqslant x \\leqslant 1, \\; 0 \\leqslant y \\leqslant 1\\}, \\quad a > 0\n",
    "$$\n",
    "условие $\\varphi(G') \\subseteq G'$ соответствует\n",
    "$$\n",
    "1 \\geqslant \\varphi_1(x, y) = \\cos y \\color{red}{\\geqslant} a\\\\\n",
    "0 < \\sin a \\leqslant \\varphi_2(x, y) = \\sin x \\leqslant \\sin 1 < 1.\n",
    "$$\n",
    "Условие $\\cos y \\geqslant a$ может нарушаться, если выбрать слишком большое $a$. Возьмем $a = \\cos 1$ &mdash; предельно возможное значение $\\cos y$."
   ]
  },
  {
   "cell_type": "markdown",
   "metadata": {
    "slideshow": {
     "slide_type": "subslide"
    }
   },
   "source": [
    "Итак, в области\n",
    "$$\n",
    "G' = \\{\\cos 1 \\leqslant x \\leqslant 1, \\; 0 \\leqslant y \\leqslant 1\\} \\approx\n",
    "\\{0.5403 \\leqslant x \\leqslant 1, \\; 0 \\leqslant y \\leqslant 1\\}\n",
    "$$\n",
    "функция $\\boldsymbol \\varphi(x, y) = (\\cos y, \\sin x)$ задает сжимающее отображение с \n",
    "$$\n",
    "q = \\max(\\cos \\cos 1, \\sin 1) \\approx 0.8576\n",
    "$$"
   ]
  },
  {
   "cell_type": "code",
   "execution_count": 38,
   "metadata": {
    "collapsed": false,
    "slideshow": {
     "slide_type": "slide"
    }
   },
   "outputs": [
    {
     "name": "stdout",
     "output_type": "stream",
     "text": [
      "it = 10 x = 0.767511630584 y = 0.692510335887\n",
      "it = 20 x = 0.768182766819 y = 0.694867420509\n",
      "it = 30 x = 0.768168875029 y = 0.694818702769\n",
      "it = 40 x = 0.768169162568 y = 0.69481971118\n",
      "it = 50 x = 0.768169156616 y = 0.694819690308\n",
      "it = 60 x = 0.768169156739 y = 0.69481969074\n",
      "it = 70 x = 0.768169156737 y = 0.694819690731\n",
      "it = 80 x = 0.768169156737 y = 0.694819690731\n",
      "it = 90 x = 0.768169156737 y = 0.694819690731\n"
     ]
    }
   ],
   "source": [
    "def phi(x, y):\n",
    "    return np.cos(y), np.sin(x)\n",
    "\n",
    "x, y = 0.8, 0.8\n",
    "for i in range(1, 91):\n",
    "    x, y = phi(x, y)\n",
    "    if i % 10 == 0: print('it =', i, 'x =', x, 'y =', y)"
   ]
  },
  {
   "cell_type": "markdown",
   "metadata": {
    "slideshow": {
     "slide_type": "slide"
    }
   },
   "source": [
    "### Метод Ньютона для систем\n",
    "Пусть имеется приближение $\\mathbf x_k$ к решеннию системы $\\mathbf f(\\mathbf x) = \\mathbf 0$. Точно так же, как в случае скалярного уравнения, заменим уравнение приближенным линейным\n",
    "$$\n",
    "0 = \\mathbf f(\\mathbf x) = \\mathbf f(\\mathbf x_k) + \\frac{\\partial \\mathbf f}{\\partial \\mathbf x}(\\mathbf x_k)(\\mathbf x - \\mathbf x_k) + O\\big((\\mathbf x - \\mathbf x_k)^2\\big) \\approx \\mathbf f(\\mathbf x_k) + \\frac{\\partial \\mathbf f}{\\partial \\mathbf x}(\\mathbf x_k)(\\mathbf x - \\mathbf x_k)\n",
    "$$\n",
    "Решение системы линейных уравнений принимаем в качестве нового приближения\n",
    "$$\n",
    "\\frac{\\partial \\mathbf f}{\\partial \\mathbf x}(\\mathbf x_k)(\\mathbf x_{k+1} - \\mathbf x_k) = -\\mathbf f(\\mathbf x_k)\n",
    "\\mathbf x_{k+1} = \\mathbf x_k - \\left[\\frac{\\partial \\mathbf f}{\\partial \\mathbf x}(\\mathbf x_k)\n",
    "\\right]^{-1} \\mathbf f(\\mathbf x_k)\n",
    "$$"
   ]
  },
  {
   "cell_type": "code",
   "execution_count": 53,
   "metadata": {
    "collapsed": false,
    "slideshow": {
     "slide_type": "slide"
    }
   },
   "outputs": [
    {
     "name": "stdout",
     "output_type": "stream",
     "text": [
      "x = 0.77270838674620 y = 0.71874966329392 dx = -2.73e-01 dy = -2.19e-01\n",
      "x = 0.76831340773161 y = 0.69493015833692 dx =  4.39e-03 dy =  2.38e-02\n",
      "x = 0.76816915677603 y = 0.69481969798874 dx =  1.44e-04 dy =  1.10e-04\n",
      "x = 0.76816915673680 y = 0.69481969073079 dx =  3.92e-11 dy =  7.26e-09\n",
      "x = 0.76816915673680 y = 0.69481969073079 dx = -4.87e-17 dy =  7.60e-17\n"
     ]
    }
   ],
   "source": [
    "def f(xy):\n",
    "    x, y = xy\n",
    "    return np.array([x - np.cos(y), y - np.sin(x)])\n",
    "def jacf(xy):\n",
    "    x, y = xy\n",
    "    return np.array([[1, np.sin(y)], [-np.cos(x), 1]])\n",
    "\n",
    "xy = np.array([0.5, 0.5])\n",
    "for _ in range(5):\n",
    "    dxy = np.linalg.solve(jacf(xy), f(xy))\n",
    "    xy -= dxy\n",
    "    print('x = %.14f y = %.14f' % tuple(xy), 'dx = % 6.2e dy = % 6.2e' % tuple(dxy))"
   ]
  }
 ],
 "metadata": {
  "anaconda-cloud": {},
  "celltoolbar": "Slideshow",
  "kernelspec": {
   "display_name": "Python [Root]",
   "language": "python",
   "name": "Python [Root]"
  },
  "language_info": {
   "codemirror_mode": {
    "name": "ipython",
    "version": 3
   },
   "file_extension": ".py",
   "mimetype": "text/x-python",
   "name": "python",
   "nbconvert_exporter": "python",
   "pygments_lexer": "ipython3",
   "version": "3.5.2"
  },
  "livereveal": {
   "theme": "beige",
   "transition": "none"
  },
  "nbpresent": {
   "slides": {
    "1ffee25c-251f-4cbf-af3d-a1d5521081b9": {
     "id": "1ffee25c-251f-4cbf-af3d-a1d5521081b9",
     "prev": "eb43fa9f-eb7c-417b-ab1a-99371ff452e2",
     "regions": {
      "2e1a7b46-c253-4096-a0a5-dfbc6cfb086e": {
       "attrs": {
        "height": 0.8,
        "width": 0.8,
        "x": 0.1,
        "y": 0.1
       },
       "content": {
        "cell": "bf40e897-f1f8-4e69-b826-fe53fb761aad",
        "part": "whole"
       },
       "id": "2e1a7b46-c253-4096-a0a5-dfbc6cfb086e"
      }
     }
    },
    "37c43f64-6426-4a98-8de1-a6ca1dd72190": {
     "id": "37c43f64-6426-4a98-8de1-a6ca1dd72190",
     "prev": "d2b700ea-e44e-4bed-9ce4-ddf1532b44cb",
     "regions": {
      "45a20e24-b33f-4c55-8df2-e96075b5e2af": {
       "attrs": {
        "height": 0.8,
        "width": 0.8,
        "x": 0.1,
        "y": 0.1
       },
       "content": {
        "cell": "e730e690-97c9-4acd-bf81-4c5ab0bbd48e",
        "part": "whole"
       },
       "id": "45a20e24-b33f-4c55-8df2-e96075b5e2af"
      }
     }
    },
    "5bf0841a-23d1-413e-a557-911111e3e336": {
     "id": "5bf0841a-23d1-413e-a557-911111e3e336",
     "prev": "ebd3a807-2380-4bd6-8e58-c9424f3ed713",
     "regions": {
      "3c8adac9-5366-49e9-96ab-965c77e83485": {
       "attrs": {
        "height": 0.8,
        "width": 0.8,
        "x": 0.1,
        "y": 0.1
       },
       "content": {
        "cell": "2e08a439-2699-4ecf-9189-dfbbf745ad4e",
        "part": "whole"
       },
       "id": "3c8adac9-5366-49e9-96ab-965c77e83485"
      }
     }
    },
    "60ffd9bc-f20d-41e5-8771-5f11695177c6": {
     "id": "60ffd9bc-f20d-41e5-8771-5f11695177c6",
     "prev": "97575fe4-de27-4833-b616-7479f99519d0",
     "regions": {
      "807a955a-60c8-4f03-8734-54dfd52113d6": {
       "attrs": {
        "height": 0.8,
        "width": 0.8,
        "x": 0.1,
        "y": 0.1
       },
       "content": {
        "cell": "795c8121-f820-4edc-aeba-fc399b38f4b2",
        "part": "whole"
       },
       "id": "807a955a-60c8-4f03-8734-54dfd52113d6"
      }
     }
    },
    "623d8bc9-43df-451f-b862-76c2b54708ea": {
     "id": "623d8bc9-43df-451f-b862-76c2b54708ea",
     "prev": "eded54a5-7710-4ab6-8229-3ca4029d1ae7",
     "regions": {
      "42b1d4d4-2905-454b-b564-92f58dec8f81": {
       "attrs": {
        "height": 0.8,
        "width": 0.8,
        "x": 0.1,
        "y": 0.1
       },
       "content": {
        "cell": "16fd05b0-8ac8-4da2-8980-54d0d253d110",
        "part": "whole"
       },
       "id": "42b1d4d4-2905-454b-b564-92f58dec8f81"
      }
     }
    },
    "6dabcfe1-1c90-4893-8f01-c39e431f00bb": {
     "id": "6dabcfe1-1c90-4893-8f01-c39e431f00bb",
     "prev": "37c43f64-6426-4a98-8de1-a6ca1dd72190",
     "regions": {
      "1126b4c4-7df3-4db1-962b-abe099db9928": {
       "attrs": {
        "height": 0.8,
        "width": 0.8,
        "x": 0.1,
        "y": 0.1
       },
       "content": {
        "cell": "54519c05-1028-4e5c-a2d2-e21f821e99aa",
        "part": "whole"
       },
       "id": "1126b4c4-7df3-4db1-962b-abe099db9928"
      }
     }
    },
    "91753ba8-05fe-465f-806d-0faf4a21a031": {
     "id": "91753ba8-05fe-465f-806d-0faf4a21a031",
     "prev": "5bf0841a-23d1-413e-a557-911111e3e336",
     "regions": {
      "eb271beb-70d0-452e-b896-43695be4ae85": {
       "attrs": {
        "height": 0.8,
        "width": 0.8,
        "x": 0.1,
        "y": 0.1
       },
       "content": {
        "cell": "31cc3d04-22a5-4773-b4e1-abfb09f8bbc2",
        "part": "whole"
       },
       "id": "eb271beb-70d0-452e-b896-43695be4ae85"
      }
     }
    },
    "97575fe4-de27-4833-b616-7479f99519d0": {
     "id": "97575fe4-de27-4833-b616-7479f99519d0",
     "prev": "b8aebb38-1266-40c2-928a-026f9d33ec5c",
     "regions": {
      "01deb5d1-73e8-4d64-b93e-e7646647af3b": {
       "attrs": {
        "height": 0.8,
        "width": 0.8,
        "x": 0.1,
        "y": 0.1
       },
       "content": {
        "cell": "7f2bdffe-4f2a-446b-8805-d4fd262fced1",
        "part": "whole"
       },
       "id": "01deb5d1-73e8-4d64-b93e-e7646647af3b"
      }
     }
    },
    "9cc88d72-9ac9-4c24-96d5-abc94cea6e92": {
     "id": "9cc88d72-9ac9-4c24-96d5-abc94cea6e92",
     "prev": "1ffee25c-251f-4cbf-af3d-a1d5521081b9",
     "regions": {
      "78febecd-5100-493b-8f0d-0cc35ceae42e": {
       "attrs": {
        "height": 0.8,
        "width": 0.8,
        "x": 0.1,
        "y": 0.1
       },
       "content": {
        "cell": "bef00443-818c-4614-aa63-8a2e117462ec",
        "part": "whole"
       },
       "id": "78febecd-5100-493b-8f0d-0cc35ceae42e"
      }
     }
    },
    "a5df524d-67a8-4ae1-8258-9231728bdd14": {
     "id": "a5df524d-67a8-4ae1-8258-9231728bdd14",
     "prev": "623d8bc9-43df-451f-b862-76c2b54708ea",
     "regions": {
      "68e876ca-f943-4b2e-8268-439db992b310": {
       "attrs": {
        "height": 0.8,
        "width": 0.8,
        "x": 0.1,
        "y": 0.1
       },
       "content": {
        "cell": "40af6766-3ae3-4acc-8417-439eb8968553",
        "part": "whole"
       },
       "id": "68e876ca-f943-4b2e-8268-439db992b310"
      }
     }
    },
    "b62355d8-8b93-4dfc-8016-6548952c0f8c": {
     "id": "b62355d8-8b93-4dfc-8016-6548952c0f8c",
     "prev": "f59840cf-124e-4d10-8b89-3aafe98f38ba",
     "regions": {
      "381cc6bd-bde3-4d58-8277-99fbd69c7a4f": {
       "attrs": {
        "height": 0.8,
        "width": 0.8,
        "x": 0.1,
        "y": 0.1
       },
       "content": {
        "cell": "b92c1827-c799-44b9-b770-f45e95c917da",
        "part": "whole"
       },
       "id": "381cc6bd-bde3-4d58-8277-99fbd69c7a4f"
      }
     }
    },
    "b8aebb38-1266-40c2-928a-026f9d33ec5c": {
     "id": "b8aebb38-1266-40c2-928a-026f9d33ec5c",
     "prev": "9cc88d72-9ac9-4c24-96d5-abc94cea6e92",
     "regions": {
      "1bc2d24e-0782-443b-83a4-bc683c5ac6cb": {
       "attrs": {
        "height": 0.8,
        "width": 0.8,
        "x": 0.1,
        "y": 0.1
       },
       "content": {
        "cell": "cbb3d96a-fdd6-436e-86b6-1be446b43e84",
        "part": "whole"
       },
       "id": "1bc2d24e-0782-443b-83a4-bc683c5ac6cb"
      }
     }
    },
    "d2b700ea-e44e-4bed-9ce4-ddf1532b44cb": {
     "id": "d2b700ea-e44e-4bed-9ce4-ddf1532b44cb",
     "prev": "a5df524d-67a8-4ae1-8258-9231728bdd14",
     "regions": {
      "474bc80d-f262-4e62-afae-4565c0979e03": {
       "attrs": {
        "height": 0.8,
        "width": 0.8,
        "x": 0.1,
        "y": 0.1
       },
       "content": {
        "cell": "a67001a3-e51e-4a22-bdcd-249cde5581c1",
        "part": "whole"
       },
       "id": "474bc80d-f262-4e62-afae-4565c0979e03"
      }
     }
    },
    "d989978f-1d85-4802-953f-0e82f1a0fd51": {
     "id": "d989978f-1d85-4802-953f-0e82f1a0fd51",
     "prev": null,
     "regions": {
      "e3ddb97a-209b-4c70-91d7-df0cadcefb0d": {
       "attrs": {
        "height": 0.8,
        "width": 0.8,
        "x": 0.1,
        "y": 0.1
       },
       "content": {
        "cell": "13101ac1-2637-4d0f-9f1f-cd32215b02c3",
        "part": "whole"
       },
       "id": "e3ddb97a-209b-4c70-91d7-df0cadcefb0d"
      }
     }
    },
    "eb43fa9f-eb7c-417b-ab1a-99371ff452e2": {
     "id": "eb43fa9f-eb7c-417b-ab1a-99371ff452e2",
     "prev": "b62355d8-8b93-4dfc-8016-6548952c0f8c",
     "regions": {
      "b9415d21-f857-4a93-a788-c7dc51dedea0": {
       "attrs": {
        "height": 0.8,
        "width": 0.8,
        "x": 0.1,
        "y": 0.1
       },
       "content": {
        "cell": "e29b9590-fc86-46fd-83be-3ff48c7a8df4",
        "part": "whole"
       },
       "id": "b9415d21-f857-4a93-a788-c7dc51dedea0"
      }
     }
    },
    "ebd3a807-2380-4bd6-8e58-c9424f3ed713": {
     "id": "ebd3a807-2380-4bd6-8e58-c9424f3ed713",
     "prev": "f3fb61c6-f807-4942-8c41-0e80240a5146",
     "regions": {
      "7eaeb4e2-d47e-43e4-92c4-ed8cc1e9aac7": {
       "attrs": {
        "height": 0.8,
        "width": 0.8,
        "x": 0.1,
        "y": 0.1
       },
       "content": {
        "cell": "412353c7-42b2-42c7-8702-69568c809a97",
        "part": "whole"
       },
       "id": "7eaeb4e2-d47e-43e4-92c4-ed8cc1e9aac7"
      }
     }
    },
    "eded54a5-7710-4ab6-8229-3ca4029d1ae7": {
     "id": "eded54a5-7710-4ab6-8229-3ca4029d1ae7",
     "prev": "91753ba8-05fe-465f-806d-0faf4a21a031",
     "regions": {
      "816c3f73-4147-4cdb-b7d1-f5f82fa6003b": {
       "attrs": {
        "height": 0.8,
        "width": 0.8,
        "x": 0.1,
        "y": 0.1
       },
       "content": {
        "cell": "fa2d4b89-0d7a-41f1-8635-c5905d106cf3",
        "part": "whole"
       },
       "id": "816c3f73-4147-4cdb-b7d1-f5f82fa6003b"
      }
     }
    },
    "f3fb61c6-f807-4942-8c41-0e80240a5146": {
     "id": "f3fb61c6-f807-4942-8c41-0e80240a5146",
     "prev": "d989978f-1d85-4802-953f-0e82f1a0fd51",
     "regions": {
      "4f7abbfb-161b-44ce-bdab-05ef0b2a5542": {
       "attrs": {
        "height": 0.8,
        "width": 0.8,
        "x": 0.1,
        "y": 0.1
       },
       "content": {
        "cell": "8ce7bf3f-66e0-4462-a540-e87bceeadb7f",
        "part": "whole"
       },
       "id": "4f7abbfb-161b-44ce-bdab-05ef0b2a5542"
      }
     }
    },
    "f59840cf-124e-4d10-8b89-3aafe98f38ba": {
     "id": "f59840cf-124e-4d10-8b89-3aafe98f38ba",
     "prev": "6dabcfe1-1c90-4893-8f01-c39e431f00bb",
     "regions": {
      "e67fa4b9-f237-40ff-8621-fcdbfdd83101": {
       "attrs": {
        "height": 0.8,
        "width": 0.8,
        "x": 0.1,
        "y": 0.1
       },
       "content": {
        "cell": "4ae9a30c-81bc-4396-90d8-939a8e59f287",
        "part": "whole"
       },
       "id": "e67fa4b9-f237-40ff-8621-fcdbfdd83101"
      }
     }
    }
   },
   "themes": {
    "default": "c04eebe0-c348-41e9-bcfb-a65d4bd126df",
    "theme": {
     "c04eebe0-c348-41e9-bcfb-a65d4bd126df": {
      "id": "c04eebe0-c348-41e9-bcfb-a65d4bd126df",
      "palette": {
       "19cc588f-0593-49c9-9f4b-e4d7cc113b1c": {
        "id": "19cc588f-0593-49c9-9f4b-e4d7cc113b1c",
        "rgb": [
         252,
         252,
         252
        ]
       },
       "31af15d2-7e15-44c5-ab5e-e04b16a89eff": {
        "id": "31af15d2-7e15-44c5-ab5e-e04b16a89eff",
        "rgb": [
         68,
         68,
         68
        ]
       },
       "50f92c45-a630-455b-aec3-788680ec7410": {
        "id": "50f92c45-a630-455b-aec3-788680ec7410",
        "rgb": [
         155,
         177,
         192
        ]
       },
       "c5cc3653-2ee1-402a-aba2-7caae1da4f6c": {
        "id": "c5cc3653-2ee1-402a-aba2-7caae1da4f6c",
        "rgb": [
         43,
         126,
         184
        ]
       },
       "efa7f048-9acb-414c-8b04-a26811511a21": {
        "id": "efa7f048-9acb-414c-8b04-a26811511a21",
        "rgb": [
         25.118061674008803,
         73.60176211453744,
         107.4819383259912
        ]
       }
      },
      "rules": {
       "blockquote": {
        "color": "50f92c45-a630-455b-aec3-788680ec7410"
       },
       "code": {
        "font-family": "Anonymous Pro"
       },
       "h1": {
        "color": "c5cc3653-2ee1-402a-aba2-7caae1da4f6c",
        "font-family": "Lato",
        "font-size": 8
       },
       "h2": {
        "color": "c5cc3653-2ee1-402a-aba2-7caae1da4f6c",
        "font-family": "Lato",
        "font-size": 6
       },
       "h3": {
        "color": "50f92c45-a630-455b-aec3-788680ec7410",
        "font-family": "Lato",
        "font-size": 5.5
       },
       "h4": {
        "color": "c5cc3653-2ee1-402a-aba2-7caae1da4f6c",
        "font-family": "Lato",
        "font-size": 5
       },
       "h5": {
        "font-family": "Lato"
       },
       "h6": {
        "font-family": "Lato"
       },
       "h7": {
        "font-family": "Lato"
       },
       "pre": {
        "font-family": "Anonymous Pro",
        "font-size": 4
       }
      },
      "text-base": {
       "font-family": "Merriweather",
       "font-size": 4
      }
     },
     "f0b95bb9-67a7-4d14-bf09-657a5b556dbe": {
      "id": "f0b95bb9-67a7-4d14-bf09-657a5b556dbe",
      "palette": {
       "19cc588f-0593-49c9-9f4b-e4d7cc113b1c": {
        "id": "19cc588f-0593-49c9-9f4b-e4d7cc113b1c",
        "rgb": [
         252,
         252,
         252
        ]
       },
       "31af15d2-7e15-44c5-ab5e-e04b16a89eff": {
        "id": "31af15d2-7e15-44c5-ab5e-e04b16a89eff",
        "rgb": [
         68,
         68,
         68
        ]
       },
       "50f92c45-a630-455b-aec3-788680ec7410": {
        "id": "50f92c45-a630-455b-aec3-788680ec7410",
        "rgb": [
         155,
         177,
         192
        ]
       },
       "c5cc3653-2ee1-402a-aba2-7caae1da4f6c": {
        "id": "c5cc3653-2ee1-402a-aba2-7caae1da4f6c",
        "rgb": [
         43,
         126,
         184
        ]
       },
       "efa7f048-9acb-414c-8b04-a26811511a21": {
        "id": "efa7f048-9acb-414c-8b04-a26811511a21",
        "rgb": [
         25.118061674008803,
         73.60176211453744,
         107.4819383259912
        ]
       }
      },
      "rules": {
       "blockquote": {
        "color": "50f92c45-a630-455b-aec3-788680ec7410"
       },
       "code": {
        "font-family": "Anonymous Pro"
       },
       "h1": {
        "color": "c5cc3653-2ee1-402a-aba2-7caae1da4f6c",
        "font-family": "Lato",
        "font-size": 8
       },
       "h2": {
        "color": "c5cc3653-2ee1-402a-aba2-7caae1da4f6c",
        "font-family": "Lato",
        "font-size": 6
       },
       "h3": {
        "color": "50f92c45-a630-455b-aec3-788680ec7410",
        "font-family": "Lato",
        "font-size": 5.5
       },
       "h4": {
        "color": "c5cc3653-2ee1-402a-aba2-7caae1da4f6c",
        "font-family": "Lato",
        "font-size": 5
       },
       "h5": {
        "font-family": "Lato"
       },
       "h6": {
        "font-family": "Lato"
       },
       "h7": {
        "font-family": "Lato"
       },
       "pre": {
        "font-family": "Anonymous Pro",
        "font-size": 4
       }
      },
      "text-base": {
       "font-family": "Merriweather",
       "font-size": 4
      }
     }
    }
   }
  }
 },
 "nbformat": 4,
 "nbformat_minor": 0
}
