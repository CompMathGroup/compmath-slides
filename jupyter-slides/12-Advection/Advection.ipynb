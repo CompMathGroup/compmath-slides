{
 "cells": [
  {
   "cell_type": "markdown",
   "metadata": {
    "nbpresent": {
     "id": "13101ac1-2637-4d0f-9f1f-cd32215b02c3"
    },
    "slideshow": {
     "slide_type": "slide"
    }
   },
   "source": [
    "## Уравнение переноса\n",
    "\n",
    "\n",
    "Цыбулин Иван ([tsybulin@crec.mipt.ru](mailto:tsybulin@crec.mipt.ru))"
   ]
  },
  {
   "cell_type": "markdown",
   "metadata": {
    "slideshow": {
     "slide_type": "slide"
    }
   },
   "source": [
    "### Линейное уравнение переноса\n",
    "\n",
    "Уравнение переноса &mdash; простейшее уравнение гиперболического типа. Неизвестной является функция $u(t, x)$.\n",
    "\n",
    "$$\\begin{aligned}\n",
    "\\frac{\\partial u}{\\partial t} + c \\frac{\\partial u}{\\partial x} = f(t, x), \\qquad c > 0, \\; c = \\operatorname{const}\n",
    "\\end{aligned}\\\\\n",
    "u\\big|_{t=0} = u_0(x)\n",
    "$$\n",
    "\n",
    "Физический смысл решения &mdash; перенос начального профиля решения с постоянной скоростью $c$ вправо:\n",
    "$$\n",
    "u(t, x) = u_0(x - c t)\n",
    "$$\n",
    "\n",
    "Описывает, например, перенос загрязнения в равномерном течении жидкости или динамику плотности машин на дороге."
   ]
  },
  {
   "cell_type": "markdown",
   "metadata": {
    "slideshow": {
     "slide_type": "slide"
    }
   },
   "source": [
    "### Сетка\n",
    "\n",
    "При переходе к уравнениям в частных производных сетка становится многомерной:\n",
    "\n",
    "<img src=\"grid.png\" style=\"height:400px\">\n",
    "\n",
    "Верхний индекс $n$ означает номер слоя по времени, а нижний индекс $m$ означает номер узла по пространству. Также шаг по времени принято обозначать $\\tau$, а по пространственной переменной &mdash; $h$."
   ]
  },
  {
   "cell_type": "markdown",
   "metadata": {
    "slideshow": {
     "slide_type": "slide"
    }
   },
   "source": [
    "### Шаблон разностной схемы\n",
    "\n",
    "Пусть для вычисления $u^{n+1}_m$ требуются значения сеточной функции $u$ в нескольких узлах. Тогда вместе с узлом $(n+1, m)$ они образуют *шаблон разностной схемы*. Шаблон удобно изображать графически, например, ниже приведен шаблон схемы «явный левый уголок».\n",
    "\n",
    "<img src=\"stencil.png\" style=\"height:200px\">\n",
    "\n",
    "Некоторые выводы о разностной схеме можно сделать изучив только ее шаблон."
   ]
  },
  {
   "cell_type": "markdown",
   "metadata": {
    "collapsed": true,
    "slideshow": {
     "slide_type": "slide"
    }
   },
   "source": [
    "### Условие Куранта-Фридрихса-Леви\n",
    "\n",
    "Все уравнения гиперболического типа имеют характеристики. Для уравнения переноса\n",
    "$$\n",
    "u_t + c u_x = 0\n",
    "$$\n",
    "характеристиками будут линии\n",
    "$$\n",
    "dx - c dt = 0 \\Leftrightarrow x - ct = \\operatorname{const}\n",
    "$$\n",
    "Условие Куранта-Фридрихса-Леви запрещает схемам быть устойчивыми, если характеристика, выпущенная из расчетного узла выходит за пределы шаблона разностной схемы.\n",
    "\n",
    "<img src=\"cfl.png\" style=\"height:200px\">"
   ]
  },
  {
   "cell_type": "markdown",
   "metadata": {
    "slideshow": {
     "slide_type": "slide"
    }
   },
   "source": [
    "### Некоторые схемы для уравнения переноса\n",
    "\n",
    "* Явный левый уголок\n",
    "$$\n",
    "\\frac{u^{n+1}_m - u^n_m}{\\tau} + c \\frac{u^n_m - u^n_{m-1}}{h} = f^n_m\n",
    "$$\n",
    "\n",
    "* Явный правый уголок\n",
    "$$\n",
    "\\frac{u^{n+1}_m - u^n_m}{\\tau} + c \\frac{u^n_{m+1} - u^n_m}{h} = f^n_m\n",
    "$$\n",
    "\n",
    "* Схема с центральной разностью\n",
    "$$\n",
    "\\frac{u^{n+1}_m - u^n_m}{\\tau} + c \\frac{u^n_{m+1} - u^n_{m-1}}{2h} = f^n_m\n",
    "$$\n",
    "\n",
    "* Схема Лакса\n",
    "$$\n",
    "\\frac{u^{n+1}_m - \\frac{1}{2}\\left(u^n_{m-1} + u^n_{m+1}\\right)}{\\tau} + c \\frac{u^n_{m+1} - u^n_{m-1}}{2h} = f^n_m\n",
    "$$"
   ]
  },
  {
   "cell_type": "code",
   "execution_count": 37,
   "metadata": {
    "collapsed": true,
    "slideshow": {
     "slide_type": "slide"
    }
   },
   "outputs": [],
   "source": [
    "import numpy as np\n",
    "import matplotlib.pyplot as plt\n",
    "%matplotlib inline\n",
    "\n",
    "def solve_advection(u0, g, method, M=200, courant=0.5, verbose=False):\n",
    "    X = np.linspace(0, 1, M+1); h = X[1] - X[0]\n",
    "    if verbose: print('Метод:', method.name, ', число Куранта cт/h =', courant)\n",
    "    tau = courant * h   # Скорость с = 1\n",
    "    u = u0(X)           # Заполняем начальное условие\n",
    "    t = 0; tmax = 0.6; steps = 0\n",
    "    while t < tmax:\n",
    "        if t + tau > tmax: tau = tmax - t + 1e-14\n",
    "        unext = np.empty_like(u)\n",
    "        unext[0] = g(t+tau) # Используем в левом узле гран условия\n",
    "        # В остальных точках считаем по заданной схеме\n",
    "        unext[1:] = method(u, tau, h)\n",
    "        u = unext       # Переходим на новый слой по времени\n",
    "        t += tau; steps += 1\n",
    "    if verbose: print('t =', t, ', сделано', steps, 'шагов')\n",
    "    return X, u"
   ]
  },
  {
   "cell_type": "code",
   "execution_count": 38,
   "metadata": {
    "collapsed": true,
    "slideshow": {
     "slide_type": "subslide"
    }
   },
   "outputs": [],
   "source": [
    "def upwind(u, tau, h):\n",
    "    sigma = tau/h\n",
    "    return sigma*u[:-1] + (1-sigma)*u[1:]\n",
    "upwind.name = 'Левый уголок'\n",
    "\n",
    "def central(u, tau, h):\n",
    "    sigma = tau/h\n",
    "    return np.append(\n",
    "        u[1:-1] - sigma/2 * (u[2:] - u[:-2]),\n",
    "        [sigma*u[-2] + (1-sigma)*u[-1]]) # Уголок в самой правой точке\n",
    "central.name = 'Центральная разность'\n",
    "\n",
    "def lax(u, tau, h):\n",
    "    sigma = tau/h\n",
    "    return np.append(\n",
    "        0.5*(1+sigma)*u[:-2] + 0.5*(1-sigma)*u[2:],\n",
    "        [sigma*u[-2] + (1-sigma)*u[-1]]) # Уголок в самой правой точке\n",
    "lax.name = 'Схема Лакса'"
   ]
  },
  {
   "cell_type": "code",
   "execution_count": 39,
   "metadata": {
    "collapsed": true,
    "slideshow": {
     "slide_type": "subslide"
    }
   },
   "outputs": [],
   "source": [
    "def step(x): # Начальное условие - ступенька\n",
    "    return np.double(x < 0.2)\n",
    "\n",
    "def g(t): # Левое граничное условие\n",
    "    return 1.0"
   ]
  },
  {
   "cell_type": "code",
   "execution_count": 71,
   "metadata": {
    "collapsed": false,
    "slideshow": {
     "slide_type": "slide"
    }
   },
   "outputs": [
    {
     "name": "stdout",
     "output_type": "stream",
     "text": [
      "Метод: Левый уголок , число Куранта cт/h = 0.5\n",
      "t = 0.6 , сделано 241 шагов\n"
     ]
    },
    {
     "data": {
      "image/png": "[encoded data removed]",
      "text/plain": [
       "<matplotlib.figure.Figure at 0x7f86efdb7c50>"
      ]
     },
     "metadata": {},
     "output_type": "display_data"
    }
   ],
   "source": [
    "X, u = solve_advection(step, g, upwind, courant=0.5, verbose=True)\n",
    "plt.plot(X, u)\n",
    "plt.plot(X, step(X - 0.6), 'k', label='exact solution')\n",
    "plt.ylim(-0.1, 1.2)\n",
    "plt.title('Upwind, $M = 200, \\sigma=0.5$'); plt.show()"
   ]
  },
  {
   "cell_type": "code",
   "execution_count": 72,
   "metadata": {
    "collapsed": false,
    "slideshow": {
     "slide_type": "subslide"
    }
   },
   "outputs": [
    {
     "name": "stdout",
     "output_type": "stream",
     "text": [
      "Метод: Центральная разность , число Куранта cт/h = 0.5\n",
      "t = 0.6 , сделано 241 шагов\n"
     ]
    },
    {
     "data": {
      "image/png": "[encoded data removed]",
      "text/plain": [
       "<matplotlib.figure.Figure at 0x7f86efbe7f60>"
      ]
     },
     "metadata": {},
     "output_type": "display_data"
    }
   ],
   "source": [
    "X, u = solve_advection(step, g, central, courant=0.5, verbose=True)\n",
    "plt.plot(X, u)\n",
    "plt.plot(X, step(X - 0.6), 'k', label='exact solution')\n",
    "plt.ylim(-0.1, 1.2)\n",
    "plt.title('Central, $M = 200, \\sigma=0.5$'); plt.show()"
   ]
  },
  {
   "cell_type": "code",
   "execution_count": 73,
   "metadata": {
    "collapsed": false,
    "slideshow": {
     "slide_type": "subslide"
    }
   },
   "outputs": [
    {
     "name": "stdout",
     "output_type": "stream",
     "text": [
      "Метод: Центральная разность , число Куранта cт/h = 0.01\n",
      "t = 0.6 , сделано 12001 шагов\n"
     ]
    },
    {
     "data": {
      "image/png": "[encoded data removed]",
      "text/plain": [
       "<matplotlib.figure.Figure at 0x7f86efc10c50>"
      ]
     },
     "metadata": {},
     "output_type": "display_data"
    }
   ],
   "source": [
    "# Схему с центральной разностью можно считать устойчивой при\n",
    "# выполнении условия т=O(h^2), то есть при малых числах Куранта\n",
    "X, u = solve_advection(step, g, central, courant=0.01, verbose=True)\n",
    "plt.plot(X, u)\n",
    "plt.plot(X, step(X - 0.6), 'k', label='exact solution')\n",
    "plt.ylim(-0.1, 1.2)\n",
    "plt.title('Central, $M = 200, \\sigma=0.01$'); plt.show()"
   ]
  },
  {
   "cell_type": "code",
   "execution_count": 74,
   "metadata": {
    "collapsed": false,
    "slideshow": {
     "slide_type": "subslide"
    }
   },
   "outputs": [
    {
     "name": "stdout",
     "output_type": "stream",
     "text": [
      "Метод: Схема Лакса , число Куранта cт/h = 0.5\n",
      "t = 0.6 , сделано 241 шагов\n"
     ]
    },
    {
     "data": {
      "image/png": "[encoded data removed]",
      "text/plain": [
       "<matplotlib.figure.Figure at 0x7f86f0040668>"
      ]
     },
     "metadata": {},
     "output_type": "display_data"
    }
   ],
   "source": [
    "X, u = solve_advection(step, g, lax, courant=0.5, verbose=True)\n",
    "plt.plot(X, u)\n",
    "plt.plot(X, step(X - 0.6), 'k', label='exact solution')\n",
    "plt.ylim(-0.1, 1.1)\n",
    "plt.title('Lax, $M = 200$'); plt.show()"
   ]
  },
  {
   "cell_type": "markdown",
   "metadata": {
    "slideshow": {
     "slide_type": "slide"
    }
   },
   "source": [
    "Схема Лакса обладает условной аппроксимацией. Ее ошибка аппроксимации имеет вид $O\\left(\\tau, \\frac{h^2}{\\tau}\\right)$. Если $\\tau = O(h)$, то схема ведет себя как схема первого порядка по времени, но вот если взять $\\tau = O(h^2)$, то численное решение будет сходиться к решению другой задачи!\n",
    "\n",
    "Напротив, схема «явный левый уголок» аппроксимирует уравнение с первым порядком по времени и пространству безусловно. "
   ]
  },
  {
   "cell_type": "code",
   "execution_count": 75,
   "metadata": {
    "collapsed": false,
    "slideshow": {
     "slide_type": "slide"
    }
   },
   "outputs": [
    {
     "data": {
      "image/png": "[encoded data removed]",
      "text/plain": [
       "<matplotlib.figure.Figure at 0x7f86f068fb00>"
      ]
     },
     "metadata": {},
     "output_type": "display_data"
    }
   ],
   "source": [
    "X1, u1 = solve_advection(step, g, lax, M= 50, courant=0.5)\n",
    "X2, u2 = solve_advection(step, g, lax, M=100, courant=0.5)\n",
    "X3, u3 = solve_advection(step, g, lax, M=200, courant=0.5)\n",
    "X4, u4 = solve_advection(step, g, lax, M=400, courant=0.5)\n",
    "plt.plot(X1, u1, label='M=50'); plt.plot(X2, u2, label='M=100');\n",
    "plt.plot(X3, u3, label='M=200'); plt.plot(X4, u4, label='M=400')\n",
    "plt.plot(X3, step(X3 - 0.6), 'k', label='exact solution')\n",
    "plt.ylim(-0.1, 1.1); plt.legend(loc='lower left')\n",
    "plt.title('Lax, $\\sigma = 0.5$'); plt.show()"
   ]
  },
  {
   "cell_type": "code",
   "execution_count": 76,
   "metadata": {
    "collapsed": false,
    "slideshow": {
     "slide_type": "subslide"
    }
   },
   "outputs": [
    {
     "data": {
      "image/png": "[encoded data removed]",
      "text/plain": [
       "<matplotlib.figure.Figure at 0x7f86efe4c6d8>"
      ]
     },
     "metadata": {},
     "output_type": "display_data"
    }
   ],
   "source": [
    "X1, u1 = solve_advection(step, g, lax, M= 50, courant=0.5)\n",
    "X2, u2 = solve_advection(step, g, lax, M=100, courant=0.25)\n",
    "X3, u3 = solve_advection(step, g, lax, M=200, courant=0.125)\n",
    "X4, u4 = solve_advection(step, g, lax, M=400, courant=0.0625)\n",
    "plt.plot(X1, u1, label='M=50'); plt.plot(X2, u2, label='M=100');\n",
    "plt.plot(X3, u3, label='M=200'); plt.plot(X4, u4, label='M=400')\n",
    "plt.plot(X3, step(X3 - 0.6), 'k', label='exact solution')\n",
    "plt.ylim(-0.1, 1.1); plt.legend(loc='lower left')\n",
    "plt.title(r'Lax, $\\tau = 25h^2$'); plt.show()"
   ]
  },
  {
   "cell_type": "code",
   "execution_count": 61,
   "metadata": {
    "collapsed": false,
    "slideshow": {
     "slide_type": "slide"
    }
   },
   "outputs": [
    {
     "data": {
      "image/png": "[encoded data removed]",
      "text/plain": [
       "<matplotlib.figure.Figure at 0x7f86f00bbf98>"
      ]
     },
     "metadata": {},
     "output_type": "display_data"
    }
   ],
   "source": [
    "X1, u1 = solve_advection(step, g, upwind, M= 50, courant=0.5)\n",
    "X2, u2 = solve_advection(step, g, upwind, M=100, courant=0.5)\n",
    "X3, u3 = solve_advection(step, g, upwind, M=200, courant=0.5)\n",
    "X4, u4 = solve_advection(step, g, upwind, M=400, courant=0.5)\n",
    "plt.plot(X1, u1, label='M=50'); plt.plot(X2, u2, label='M=100');\n",
    "plt.plot(X3, u3, label='M=200'); plt.plot(X4, u4, label='M=400')\n",
    "plt.plot(X3, step(X3 - 0.6), 'k', label='exact solution')\n",
    "plt.ylim(-0.1, 1.1); plt.legend(loc='lower left')\n",
    "plt.title('Upwind, $\\sigma = 0.5$'); plt.show()"
   ]
  },
  {
   "cell_type": "code",
   "execution_count": 62,
   "metadata": {
    "collapsed": false,
    "slideshow": {
     "slide_type": "subslide"
    }
   },
   "outputs": [
    {
     "data": {
      "image/png": "[encoded data removed]",
      "text/plain": [
       "<matplotlib.figure.Figure at 0x7f86f00ca390>"
      ]
     },
     "metadata": {},
     "output_type": "display_data"
    }
   ],
   "source": [
    "X1, u1 = solve_advection(step, g, upwind, M= 50, courant=0.5)\n",
    "X2, u2 = solve_advection(step, g, upwind, M=100, courant=0.25)\n",
    "X3, u3 = solve_advection(step, g, upwind, M=200, courant=0.125)\n",
    "X4, u4 = solve_advection(step, g, upwind, M=400, courant=0.0625)\n",
    "plt.plot(X1, u1, label='M=50'); plt.plot(X2, u2, label='M=100');\n",
    "plt.plot(X3, u3, label='M=200'); plt.plot(X4, u4, label='M=400')\n",
    "plt.plot(X3, step(X3 - 0.6), 'k', label='exact solution')\n",
    "plt.ylim(-0.1, 1.1); plt.legend(loc='lower left')\n",
    "plt.title(r'Upwind, $\\tau = 25h^2$'); plt.show()"
   ]
  },
  {
   "cell_type": "markdown",
   "metadata": {
    "slideshow": {
     "slide_type": "slide"
    }
   },
   "source": [
    "### Устойчивость\n",
    "\n",
    "Устойчивость разностной задачи для уравнений в частных производных определяется аналогично устойчивости для обыкновенных дифференциальных уравнейний. \n",
    "\n",
    "Пусть $u^n_m$ &mdash; решение разностной задачи с начальными условиями $\\psi_m$, граничными условиями $\\beta^n$ и правой частью $f^n_m$. Разностная задача называется устойчивой, если при небольших возмущениях $\\psi \\to \\tilde \\psi, \\beta \\to \\tilde \\beta$ и $f \\to \\tilde f$ разностная задача продолжает иметь единственное решение $\\tilde{u}^n_m$, причем в некоторой норме выполнено\n",
    "$$\n",
    "\\|\\tilde u - u\\| \\leqslant C \\left(\\|\\tilde \\psi - \\psi\\| + \\|\\tilde \\beta - \\beta\\| + \\|\\tilde f - f\\|\\right),\n",
    "$$\n",
    "где константа $C$ не зависит от сеточных параметров $\\tau$ и $h$. Для линейных разностных задач это требование эквивалентно выполнению \n",
    "$$\n",
    "\\|u\\| \\leqslant C \\left(\\|\\psi\\| + \\|\\beta\\| + \\|f\\|\\right).\n",
    "$$"
   ]
  },
  {
   "cell_type": "markdown",
   "metadata": {
    "slideshow": {
     "slide_type": "slide"
    }
   },
   "source": [
    "### Доказательство устойчивости по определению\n",
    "Возьмем следующую задачу (уравнение переноса, схема Лакса внутри области, на правой границе - уголок)\n",
    "* Начальные условия (слой $n = 0$)\n",
    "$$u^0_m = \\psi_m, \\qquad m = 0, 1, \\dots, M$$\n",
    "* Левое граничное условие (узел $m = 0$)\n",
    "$$u^{n+1}_0 = \\beta^{n+1}$$\n",
    "* Схема в области (узлы $m = 1, 2, \\dots, M-1$)\n",
    "$$\\frac{u^{n+1}_m - \\frac{1}{2}(u^n_{m-1} + u^n_{m+1})}{\\tau} + \n",
    "c \\frac{u^n_{m+1} - u^n_{m-1}}{2h} = f^n_m$$\n",
    "* Схема у правой границы (узел $m = M$)\n",
    "$$\\frac{u^{n+1}_M - u^n_M}{\\tau} + \n",
    "c \\frac{u^n_M - u^n_{M-1}}{h} = f^n_M$$"
   ]
  },
  {
   "cell_type": "markdown",
   "metadata": {
    "slideshow": {
     "slide_type": "subslide"
    }
   },
   "source": [
    "Разрешим уравнения относительно слоя $u^{n+1}$ (введем обозначение $\\sigma = \\frac{c\\tau}{h}$):\n",
    "$$\n",
    "\\begin{aligned}\n",
    "u^{n+1}_0 &= \\beta^{n+1}\\\\\n",
    "u^{n+1}_m &= \\frac{1+\\sigma}{2} u^n_{m-1} + \\frac{1-\\sigma}{2} u^n_{m+1} + \\tau f^n_m, \\quad m = 1, 2, \\dots, M-1\\\\\n",
    "u^{n+1}_M &= \\sigma u^n_{M-1} + (1-\\sigma) u^n_M + \\tau f^n_M\n",
    "\\end{aligned}\n",
    "$$\n",
    "\n",
    "Возьмем следующие нормы:\n",
    "$$\n",
    "\\|u^n\\| = \\max_{m=0,1,\\dots,M} |u^n_m|, \\qquad \\|u\\| = \\max_{n=0,1,\\dots,N} \\|u^n\\|\n",
    "$$"
   ]
  },
  {
   "cell_type": "markdown",
   "metadata": {
    "slideshow": {
     "slide_type": "subslide"
    }
   },
   "source": [
    "Оценим $\\|u^{n+1}\\|$:\n",
    "$$\n",
    "|u^{n+1}_0| \\leqslant |\\beta^{n+1}|\\\\\n",
    "|u^{n+1}_m| \\leqslant \\left|\\frac{1+\\sigma}{2}\\right| |u^n_{m-1}| + \\left|\\frac{1-\\sigma}{2}\\right| |u^n_{m+1}| + \\tau |f^n_m|, \\quad m = 1, 2, \\dots, M-1\\\\\n",
    "|u^{n+1}_M| \\leqslant |\\sigma| |u^n_{M-1}| + |1-\\sigma| |u^n_M| + \\tau |f^n_M|\n",
    "$$\n",
    "Учтем, что $|u^n_m| \\leqslant \\|u^n\\|, |f^n_m| \\leqslant \\|f\\|$ и $|\\beta^{n+1}| \\leqslant \\|\\beta\\|$:\n",
    "$$\n",
    "|u^{n+1}_0| \\leqslant \\|\\beta\\|\\\\\n",
    "|u^{n+1}_m| \\leqslant \\left|\\frac{1+\\sigma}{2}\\right| \\|u^n\\| + \\left|\\frac{1-\\sigma}{2}\\right| \\|u^n\\| + \\tau \\|f\\|, \\quad m = 1, 2, \\dots, M-1\\\\\n",
    "|u^{n+1}_M| \\leqslant |\\sigma| \\|u^n\\| + |1-\\sigma| \\|u^n\\| + \\tau \\|f\\|\n",
    "$$"
   ]
  },
  {
   "cell_type": "markdown",
   "metadata": {
    "slideshow": {
     "slide_type": "subslide"
    }
   },
   "source": [
    "Заметим, что при $0 \\leqslant \\sigma \\leqslant 1$ модули с коэффициентов можно снять:\n",
    "$$\n",
    "|u^{n+1}_m| \\leqslant \\left|\\frac{1+\\sigma}{2}\\right| \\|u^n\\| + \\left|\\frac{1-\\sigma}{2}\\right| \\|u^n\\| + \\tau \\|f\\| = \\\\ = \\frac{1+\\sigma}{2} \\|u^n\\| + \\frac{1-\\sigma}{2} \\|u^n\\| + \\tau \\|f\\| = \\\\ =\n",
    "\\|u^n\\| + \\tau\\|f\\|, \\qquad m = 1, 2, \\dots, M-1\n",
    "$$\n",
    "Аналогично на правой границе\n",
    "$$\n",
    "|u^{n+1}_M| \\leqslant |\\sigma| \\|u^n\\| + |1-\\sigma| \\|u^n\\| + \\tau \\|f\\| = \\\\ =\n",
    "\\sigma \\|u^n\\| + (1-\\sigma) \\|u^n\\| + \\tau \\|f\\| = \\|u^n\\| + \\tau \\|f\\|.\n",
    "$$\n",
    "Таким образом, на всем $n+1$ слое по времени выполняется\n",
    "$$\n",
    "\\color{green}{\\|u^{n+1}\\| \\leqslant \\max\\left(\\|\\beta\\|, \\|u^n\\| + \\tau \\|f\\|\\right)\n",
    "\\leqslant \\max\\left(\\|\\beta\\|, \\|u^n\\|\\right) + \\tau \\|f\\|} \n",
    "$$"
   ]
  },
  {
   "cell_type": "markdown",
   "metadata": {
    "slideshow": {
     "slide_type": "subslide"
    }
   },
   "source": [
    "Будем подставлять это условие в себя:\n",
    "$$\n",
    "\\begin{aligned}\n",
    "\\|u^{n+1}\\| &\\leqslant \\max(\\|\\beta\\|, \\|u^n\\|) + \\tau \\|f\\| \\leqslant \\\\\n",
    "&\\leqslant \\max\\big(\\|\\beta\\|, \\max(\\|\\beta\\|, \\|u^{n-1}\\|) + \\tau \\|f\\|\\big) + \\tau \\|f\\| \\leqslant \\\\\n",
    "&\\leqslant \\max\\big(\\|\\beta\\|, \\|u^{n-1}\\|\\big) + 2\\tau \\|f\\| \\leqslant \\dots \\leqslant\\\\\n",
    "&\\leqslant \\max\\big(\\|\\beta\\|, \\|u^0\\|\\big) + (n+1)\\tau \\|f\\| \\leqslant \\\\\n",
    "&\\leqslant \\max\\big(\\|\\beta\\|, \\|\\psi\\|\\big) + T \\|f\\|.\n",
    "\\end{aligned}\n",
    "$$\n",
    "Таким образом, мы показали устойчивость задачи по определению:\n",
    "$$\n",
    "\\|u\\| \\leqslant \\max\\big(\\|\\beta\\|, \\|\\psi\\|\\big) + T \\|f\\|.\n",
    "$$"
   ]
  },
  {
   "cell_type": "markdown",
   "metadata": {
    "slideshow": {
     "slide_type": "slide"
    }
   },
   "source": [
    "### Монотонные схемы\n",
    "Такой способ доказательства устойчивости по определению работает всегда, когда удается записать разностное уравнение в виде\n",
    "$$\n",
    "u^{n+1}_m = \\sum_{\\mu} \\alpha_\\mu u^n_{m+\\mu} + O(\\tau),\n",
    "$$\n",
    "где все коэффициенты $\\alpha_\\mu \\geqslant 0$. Такие схемы называются монотонными (по Фридрихсу), но известно, что линейные такие схемы для уравнения переноса не могут иметь порядок аппроксимации выше, чем первый."
   ]
  },
  {
   "cell_type": "markdown",
   "metadata": {
    "slideshow": {
     "slide_type": "slide"
    }
   },
   "source": [
    "### Спектральный признак\n",
    "\n",
    "На практике часто пользуются следующим довольно простым признаком устойчивости. С помощью него можно проверить только устойчивость однородной разностной задачи Коши с постоянными коэффициентами. Для того, чтобы им воспользоваться, необходимо провести ряд упрощений в разностной задаче:\n",
    "* Избавиться от граничных условий, превратив задачу в задачу Коши (рассматривать уравнение при $m = -\\infty,\\dots,+\\infty$)\n",
    "* Избавиться от правой части (сделать задачу однородной)\n",
    "* Сделать все коэффициенты в задаче постоянными &mdash; «заморозить» их.\n",
    "* Искать решение в специальном виде $u^n_m = \\lambda^n e^{i\\alpha m}, \\quad \\alpha \\in \\mathbb R$"
   ]
  },
  {
   "cell_type": "markdown",
   "metadata": {
    "slideshow": {
     "slide_type": "subslide"
    }
   },
   "source": [
    "Исследуем схему уголок спектральным признаком. После всех упрощений получаем разностное уравнение\n",
    "$$\n",
    "\\frac{u^{n+1}_m - u^n_m}{\\tau} + c \\frac{u^n_m - u^n_{m-1}}{h} = 0\n",
    "$$\n",
    "Подставляем $u^n_m = \\lambda^n e^{i\\alpha m}$:\n",
    "$$\n",
    "\\frac{\\lambda^{n+1} e^{i\\alpha m} - \\lambda^n e^{i\\alpha m}}{\\tau} + c \\frac{\\lambda^n e^{i\\alpha m} - \\lambda^n e^{i\\alpha (m-1)}}{h} = 0\n",
    "$$\n",
    "Сократим на $\\lambda^n e^{i\\alpha m}$:\n",
    "$$\n",
    "\\frac{\\lambda - 1}{\\tau} + c \\frac{1 - e^{-i\\alpha}}{h} = 0\n",
    "\\quad\\Rightarrow\\quad\n",
    "\\lambda = 1 + \\sigma (1 - e^{-i\\alpha}), \\qquad \\sigma \\equiv \\frac{c\\tau}{h}\n",
    "$$\n",
    "\n",
    "Величина $\\lambda$ показывает как в задаче ведут себя возмущения вида $e^{i\\alpha m}$. Если $|\\lambda| \\leqslant 1$, то возмущения не растут. Если $|\\lambda| > 1$, возмущения нарастают экспоненциально и схема неустойчива. Для устойчивости условие $|\\lambda| \\leqslant 1$ должно быть выполнено при всех $\\alpha \\in \\mathbb R$."
   ]
  },
  {
   "cell_type": "markdown",
   "metadata": {
    "slideshow": {
     "slide_type": "subslide"
    }
   },
   "source": [
    "Для схемы левый уголок мы получили выражение\n",
    "$$\n",
    "\\lambda = 1 + \\sigma (1 - e^{-i\\alpha}).\n",
    "$$\n",
    "Исследовать $\\lambda$ удобнее всего графически. При $0 \\leqslant \\sigma \\leqslant 1$ график $\\lambda(\\alpha)$ имеет вид окружности, касающейся изнутри окружности $|\\lambda| = 1$, а при $\\sigma \\not \\in [0, 1]$ график $\\lambda(\\alpha)$ касается $|\\lambda| = 1$ снаружи.\n",
    "\n",
    "Таким образом, спектральный признак говорит, что при $\\sigma \\not \\in [0, 1]$ схема левый уголок неусточива (условие КФЛ говорит то же самое). При $\\sigma \\in [0, 1]$ можно гарантировать устойчивость упрощенного уравнения (без граничных условий, без правой части и с замороженным коэффициентом). Как правило, и исходная схема устойчива в этом случае."
   ]
  },
  {
   "cell_type": "markdown",
   "metadata": {
    "slideshow": {
     "slide_type": "subslide"
    }
   },
   "source": [
    "Попробуйте решить следующие задачи самостоятельно:\n",
    "* Покажите, что монотонная схема всегда устойчива по спектральному признаку\n",
    "* Исследуйте схему с центральной разностью по спектральному признаку. Покажите, что при $\\tau = O(h^2)$ для $\\lambda$ справделиво\n",
    "$$\n",
    "|\\lambda| = 1 + O(\\tau).\n",
    "$$\n",
    "Покажите, что в этом случае величина $\\lambda^n$ все же ограничена (если $n \\leqslant N = \\frac{T}{\\tau}$)."
   ]
  }
 ],
 "metadata": {
  "anaconda-cloud": {},
  "celltoolbar": "Slideshow",
  "kernelspec": {
   "display_name": "Python [Root]",
   "language": "python",
   "name": "Python [Root]"
  },
  "language_info": {
   "codemirror_mode": {
    "name": "ipython",
    "version": 3
   },
   "file_extension": ".py",
   "mimetype": "text/x-python",
   "name": "python",
   "nbconvert_exporter": "python",
   "pygments_lexer": "ipython3",
   "version": "3.5.2"
  },
  "livereveal": {
   "theme": "beige",
   "transition": "none"
  },
  "nbpresent": {
   "slides": {
    "1ffee25c-251f-4cbf-af3d-a1d5521081b9": {
     "id": "1ffee25c-251f-4cbf-af3d-a1d5521081b9",
     "prev": "eb43fa9f-eb7c-417b-ab1a-99371ff452e2",
     "regions": {
      "2e1a7b46-c253-4096-a0a5-dfbc6cfb086e": {
       "attrs": {
        "height": 0.8,
        "width": 0.8,
        "x": 0.1,
        "y": 0.1
       },
       "content": {
        "cell": "bf40e897-f1f8-4e69-b826-fe53fb761aad",
        "part": "whole"
       },
       "id": "2e1a7b46-c253-4096-a0a5-dfbc6cfb086e"
      }
     }
    },
    "37c43f64-6426-4a98-8de1-a6ca1dd72190": {
     "id": "37c43f64-6426-4a98-8de1-a6ca1dd72190",
     "prev": "d2b700ea-e44e-4bed-9ce4-ddf1532b44cb",
     "regions": {
      "45a20e24-b33f-4c55-8df2-e96075b5e2af": {
       "attrs": {
        "height": 0.8,
        "width": 0.8,
        "x": 0.1,
        "y": 0.1
       },
       "content": {
        "cell": "e730e690-97c9-4acd-bf81-4c5ab0bbd48e",
        "part": "whole"
       },
       "id": "45a20e24-b33f-4c55-8df2-e96075b5e2af"
      }
     }
    },
    "5bf0841a-23d1-413e-a557-911111e3e336": {
     "id": "5bf0841a-23d1-413e-a557-911111e3e336",
     "prev": "ebd3a807-2380-4bd6-8e58-c9424f3ed713",
     "regions": {
      "3c8adac9-5366-49e9-96ab-965c77e83485": {
       "attrs": {
        "height": 0.8,
        "width": 0.8,
        "x": 0.1,
        "y": 0.1
       },
       "content": {
        "cell": "2e08a439-2699-4ecf-9189-dfbbf745ad4e",
        "part": "whole"
       },
       "id": "3c8adac9-5366-49e9-96ab-965c77e83485"
      }
     }
    },
    "60ffd9bc-f20d-41e5-8771-5f11695177c6": {
     "id": "60ffd9bc-f20d-41e5-8771-5f11695177c6",
     "prev": "97575fe4-de27-4833-b616-7479f99519d0",
     "regions": {
      "807a955a-60c8-4f03-8734-54dfd52113d6": {
       "attrs": {
        "height": 0.8,
        "width": 0.8,
        "x": 0.1,
        "y": 0.1
       },
       "content": {
        "cell": "795c8121-f820-4edc-aeba-fc399b38f4b2",
        "part": "whole"
       },
       "id": "807a955a-60c8-4f03-8734-54dfd52113d6"
      }
     }
    },
    "623d8bc9-43df-451f-b862-76c2b54708ea": {
     "id": "623d8bc9-43df-451f-b862-76c2b54708ea",
     "prev": "eded54a5-7710-4ab6-8229-3ca4029d1ae7",
     "regions": {
      "42b1d4d4-2905-454b-b564-92f58dec8f81": {
       "attrs": {
        "height": 0.8,
        "width": 0.8,
        "x": 0.1,
        "y": 0.1
       },
       "content": {
        "cell": "16fd05b0-8ac8-4da2-8980-54d0d253d110",
        "part": "whole"
       },
       "id": "42b1d4d4-2905-454b-b564-92f58dec8f81"
      }
     }
    },
    "6dabcfe1-1c90-4893-8f01-c39e431f00bb": {
     "id": "6dabcfe1-1c90-4893-8f01-c39e431f00bb",
     "prev": "37c43f64-6426-4a98-8de1-a6ca1dd72190",
     "regions": {
      "1126b4c4-7df3-4db1-962b-abe099db9928": {
       "attrs": {
        "height": 0.8,
        "width": 0.8,
        "x": 0.1,
        "y": 0.1
       },
       "content": {
        "cell": "54519c05-1028-4e5c-a2d2-e21f821e99aa",
        "part": "whole"
       },
       "id": "1126b4c4-7df3-4db1-962b-abe099db9928"
      }
     }
    },
    "91753ba8-05fe-465f-806d-0faf4a21a031": {
     "id": "91753ba8-05fe-465f-806d-0faf4a21a031",
     "prev": "5bf0841a-23d1-413e-a557-911111e3e336",
     "regions": {
      "eb271beb-70d0-452e-b896-43695be4ae85": {
       "attrs": {
        "height": 0.8,
        "width": 0.8,
        "x": 0.1,
        "y": 0.1
       },
       "content": {
        "cell": "31cc3d04-22a5-4773-b4e1-abfb09f8bbc2",
        "part": "whole"
       },
       "id": "eb271beb-70d0-452e-b896-43695be4ae85"
      }
     }
    },
    "97575fe4-de27-4833-b616-7479f99519d0": {
     "id": "97575fe4-de27-4833-b616-7479f99519d0",
     "prev": "b8aebb38-1266-40c2-928a-026f9d33ec5c",
     "regions": {
      "01deb5d1-73e8-4d64-b93e-e7646647af3b": {
       "attrs": {
        "height": 0.8,
        "width": 0.8,
        "x": 0.1,
        "y": 0.1
       },
       "content": {
        "cell": "7f2bdffe-4f2a-446b-8805-d4fd262fced1",
        "part": "whole"
       },
       "id": "01deb5d1-73e8-4d64-b93e-e7646647af3b"
      }
     }
    },
    "9cc88d72-9ac9-4c24-96d5-abc94cea6e92": {
     "id": "9cc88d72-9ac9-4c24-96d5-abc94cea6e92",
     "prev": "1ffee25c-251f-4cbf-af3d-a1d5521081b9",
     "regions": {
      "78febecd-5100-493b-8f0d-0cc35ceae42e": {
       "attrs": {
        "height": 0.8,
        "width": 0.8,
        "x": 0.1,
        "y": 0.1
       },
       "content": {
        "cell": "bef00443-818c-4614-aa63-8a2e117462ec",
        "part": "whole"
       },
       "id": "78febecd-5100-493b-8f0d-0cc35ceae42e"
      }
     }
    },
    "a5df524d-67a8-4ae1-8258-9231728bdd14": {
     "id": "a5df524d-67a8-4ae1-8258-9231728bdd14",
     "prev": "623d8bc9-43df-451f-b862-76c2b54708ea",
     "regions": {
      "68e876ca-f943-4b2e-8268-439db992b310": {
       "attrs": {
        "height": 0.8,
        "width": 0.8,
        "x": 0.1,
        "y": 0.1
       },
       "content": {
        "cell": "40af6766-3ae3-4acc-8417-439eb8968553",
        "part": "whole"
       },
       "id": "68e876ca-f943-4b2e-8268-439db992b310"
      }
     }
    },
    "b62355d8-8b93-4dfc-8016-6548952c0f8c": {
     "id": "b62355d8-8b93-4dfc-8016-6548952c0f8c",
     "prev": "f59840cf-124e-4d10-8b89-3aafe98f38ba",
     "regions": {
      "381cc6bd-bde3-4d58-8277-99fbd69c7a4f": {
       "attrs": {
        "height": 0.8,
        "width": 0.8,
        "x": 0.1,
        "y": 0.1
       },
       "content": {
        "cell": "b92c1827-c799-44b9-b770-f45e95c917da",
        "part": "whole"
       },
       "id": "381cc6bd-bde3-4d58-8277-99fbd69c7a4f"
      }
     }
    },
    "b8aebb38-1266-40c2-928a-026f9d33ec5c": {
     "id": "b8aebb38-1266-40c2-928a-026f9d33ec5c",
     "prev": "9cc88d72-9ac9-4c24-96d5-abc94cea6e92",
     "regions": {
      "1bc2d24e-0782-443b-83a4-bc683c5ac6cb": {
       "attrs": {
        "height": 0.8,
        "width": 0.8,
        "x": 0.1,
        "y": 0.1
       },
       "content": {
        "cell": "cbb3d96a-fdd6-436e-86b6-1be446b43e84",
        "part": "whole"
       },
       "id": "1bc2d24e-0782-443b-83a4-bc683c5ac6cb"
      }
     }
    },
    "d2b700ea-e44e-4bed-9ce4-ddf1532b44cb": {
     "id": "d2b700ea-e44e-4bed-9ce4-ddf1532b44cb",
     "prev": "a5df524d-67a8-4ae1-8258-9231728bdd14",
     "regions": {
      "474bc80d-f262-4e62-afae-4565c0979e03": {
       "attrs": {
        "height": 0.8,
        "width": 0.8,
        "x": 0.1,
        "y": 0.1
       },
       "content": {
        "cell": "a67001a3-e51e-4a22-bdcd-249cde5581c1",
        "part": "whole"
       },
       "id": "474bc80d-f262-4e62-afae-4565c0979e03"
      }
     }
    },
    "d989978f-1d85-4802-953f-0e82f1a0fd51": {
     "id": "d989978f-1d85-4802-953f-0e82f1a0fd51",
     "prev": null,
     "regions": {
      "e3ddb97a-209b-4c70-91d7-df0cadcefb0d": {
       "attrs": {
        "height": 0.8,
        "width": 0.8,
        "x": 0.1,
        "y": 0.1
       },
       "content": {
        "cell": "13101ac1-2637-4d0f-9f1f-cd32215b02c3",
        "part": "whole"
       },
       "id": "e3ddb97a-209b-4c70-91d7-df0cadcefb0d"
      }
     }
    },
    "eb43fa9f-eb7c-417b-ab1a-99371ff452e2": {
     "id": "eb43fa9f-eb7c-417b-ab1a-99371ff452e2",
     "prev": "b62355d8-8b93-4dfc-8016-6548952c0f8c",
     "regions": {
      "b9415d21-f857-4a93-a788-c7dc51dedea0": {
       "attrs": {
        "height": 0.8,
        "width": 0.8,
        "x": 0.1,
        "y": 0.1
       },
       "content": {
        "cell": "e29b9590-fc86-46fd-83be-3ff48c7a8df4",
        "part": "whole"
       },
       "id": "b9415d21-f857-4a93-a788-c7dc51dedea0"
      }
     }
    },
    "ebd3a807-2380-4bd6-8e58-c9424f3ed713": {
     "id": "ebd3a807-2380-4bd6-8e58-c9424f3ed713",
     "prev": "f3fb61c6-f807-4942-8c41-0e80240a5146",
     "regions": {
      "7eaeb4e2-d47e-43e4-92c4-ed8cc1e9aac7": {
       "attrs": {
        "height": 0.8,
        "width": 0.8,
        "x": 0.1,
        "y": 0.1
       },
       "content": {
        "cell": "412353c7-42b2-42c7-8702-69568c809a97",
        "part": "whole"
       },
       "id": "7eaeb4e2-d47e-43e4-92c4-ed8cc1e9aac7"
      }
     }
    },
    "eded54a5-7710-4ab6-8229-3ca4029d1ae7": {
     "id": "eded54a5-7710-4ab6-8229-3ca4029d1ae7",
     "prev": "91753ba8-05fe-465f-806d-0faf4a21a031",
     "regions": {
      "816c3f73-4147-4cdb-b7d1-f5f82fa6003b": {
       "attrs": {
        "height": 0.8,
        "width": 0.8,
        "x": 0.1,
        "y": 0.1
       },
       "content": {
        "cell": "fa2d4b89-0d7a-41f1-8635-c5905d106cf3",
        "part": "whole"
       },
       "id": "816c3f73-4147-4cdb-b7d1-f5f82fa6003b"
      }
     }
    },
    "f3fb61c6-f807-4942-8c41-0e80240a5146": {
     "id": "f3fb61c6-f807-4942-8c41-0e80240a5146",
     "prev": "d989978f-1d85-4802-953f-0e82f1a0fd51",
     "regions": {
      "4f7abbfb-161b-44ce-bdab-05ef0b2a5542": {
       "attrs": {
        "height": 0.8,
        "width": 0.8,
        "x": 0.1,
        "y": 0.1
       },
       "content": {
        "cell": "8ce7bf3f-66e0-4462-a540-e87bceeadb7f",
        "part": "whole"
       },
       "id": "4f7abbfb-161b-44ce-bdab-05ef0b2a5542"
      }
     }
    },
    "f59840cf-124e-4d10-8b89-3aafe98f38ba": {
     "id": "f59840cf-124e-4d10-8b89-3aafe98f38ba",
     "prev": "6dabcfe1-1c90-4893-8f01-c39e431f00bb",
     "regions": {
      "e67fa4b9-f237-40ff-8621-fcdbfdd83101": {
       "attrs": {
        "height": 0.8,
        "width": 0.8,
        "x": 0.1,
        "y": 0.1
       },
       "content": {
        "cell": "4ae9a30c-81bc-4396-90d8-939a8e59f287",
        "part": "whole"
       },
       "id": "e67fa4b9-f237-40ff-8621-fcdbfdd83101"
      }
     }
    }
   },
   "themes": {
    "default": "c04eebe0-c348-41e9-bcfb-a65d4bd126df",
    "theme": {
     "c04eebe0-c348-41e9-bcfb-a65d4bd126df": {
      "id": "c04eebe0-c348-41e9-bcfb-a65d4bd126df",
      "palette": {
       "19cc588f-0593-49c9-9f4b-e4d7cc113b1c": {
        "id": "19cc588f-0593-49c9-9f4b-e4d7cc113b1c",
        "rgb": [
         252,
         252,
         252
        ]
       },
       "31af15d2-7e15-44c5-ab5e-e04b16a89eff": {
        "id": "31af15d2-7e15-44c5-ab5e-e04b16a89eff",
        "rgb": [
         68,
         68,
         68
        ]
       },
       "50f92c45-a630-455b-aec3-788680ec7410": {
        "id": "50f92c45-a630-455b-aec3-788680ec7410",
        "rgb": [
         155,
         177,
         192
        ]
       },
       "c5cc3653-2ee1-402a-aba2-7caae1da4f6c": {
        "id": "c5cc3653-2ee1-402a-aba2-7caae1da4f6c",
        "rgb": [
         43,
         126,
         184
        ]
       },
       "efa7f048-9acb-414c-8b04-a26811511a21": {
        "id": "efa7f048-9acb-414c-8b04-a26811511a21",
        "rgb": [
         25.118061674008803,
         73.60176211453744,
         107.4819383259912
        ]
       }
      },
      "rules": {
       "blockquote": {
        "color": "50f92c45-a630-455b-aec3-788680ec7410"
       },
       "code": {
        "font-family": "Anonymous Pro"
       },
       "h1": {
        "color": "c5cc3653-2ee1-402a-aba2-7caae1da4f6c",
        "font-family": "Lato",
        "font-size": 8
       },
       "h2": {
        "color": "c5cc3653-2ee1-402a-aba2-7caae1da4f6c",
        "font-family": "Lato",
        "font-size": 6
       },
       "h3": {
        "color": "50f92c45-a630-455b-aec3-788680ec7410",
        "font-family": "Lato",
        "font-size": 5.5
       },
       "h4": {
        "color": "c5cc3653-2ee1-402a-aba2-7caae1da4f6c",
        "font-family": "Lato",
        "font-size": 5
       },
       "h5": {
        "font-family": "Lato"
       },
       "h6": {
        "font-family": "Lato"
       },
       "h7": {
        "font-family": "Lato"
       },
       "pre": {
        "font-family": "Anonymous Pro",
        "font-size": 4
       }
      },
      "text-base": {
       "font-family": "Merriweather",
       "font-size": 4
      }
     },
     "f0b95bb9-67a7-4d14-bf09-657a5b556dbe": {
      "id": "f0b95bb9-67a7-4d14-bf09-657a5b556dbe",
      "palette": {
       "19cc588f-0593-49c9-9f4b-e4d7cc113b1c": {
        "id": "19cc588f-0593-49c9-9f4b-e4d7cc113b1c",
        "rgb": [
         252,
         252,
         252
        ]
       },
       "31af15d2-7e15-44c5-ab5e-e04b16a89eff": {
        "id": "31af15d2-7e15-44c5-ab5e-e04b16a89eff",
        "rgb": [
         68,
         68,
         68
        ]
       },
       "50f92c45-a630-455b-aec3-788680ec7410": {
        "id": "50f92c45-a630-455b-aec3-788680ec7410",
        "rgb": [
         155,
         177,
         192
        ]
       },
       "c5cc3653-2ee1-402a-aba2-7caae1da4f6c": {
        "id": "c5cc3653-2ee1-402a-aba2-7caae1da4f6c",
        "rgb": [
         43,
         126,
         184
        ]
       },
       "efa7f048-9acb-414c-8b04-a26811511a21": {
        "id": "efa7f048-9acb-414c-8b04-a26811511a21",
        "rgb": [
         25.118061674008803,
         73.60176211453744,
         107.4819383259912
        ]
       }
      },
      "rules": {
       "blockquote": {
        "color": "50f92c45-a630-455b-aec3-788680ec7410"
       },
       "code": {
        "font-family": "Anonymous Pro"
       },
       "h1": {
        "color": "c5cc3653-2ee1-402a-aba2-7caae1da4f6c",
        "font-family": "Lato",
        "font-size": 8
       },
       "h2": {
        "color": "c5cc3653-2ee1-402a-aba2-7caae1da4f6c",
        "font-family": "Lato",
        "font-size": 6
       },
       "h3": {
        "color": "50f92c45-a630-455b-aec3-788680ec7410",
        "font-family": "Lato",
        "font-size": 5.5
       },
       "h4": {
        "color": "c5cc3653-2ee1-402a-aba2-7caae1da4f6c",
        "font-family": "Lato",
        "font-size": 5
       },
       "h5": {
        "font-family": "Lato"
       },
       "h6": {
        "font-family": "Lato"
       },
       "h7": {
        "font-family": "Lato"
       },
       "pre": {
        "font-family": "Anonymous Pro",
        "font-size": 4
       }
      },
      "text-base": {
       "font-family": "Merriweather",
       "font-size": 4
      }
     }
    }
   }
  }
 },
 "nbformat": 4,
 "nbformat_minor": 0
}
