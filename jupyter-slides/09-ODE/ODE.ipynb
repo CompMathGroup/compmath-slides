{
 "cells": [
  {
   "cell_type": "markdown",
   "metadata": {
    "nbpresent": {
     "id": "13101ac1-2637-4d0f-9f1f-cd32215b02c3"
    },
    "slideshow": {
     "slide_type": "slide"
    }
   },
   "source": [
    "## Обыкновенные дифференциальные уравнения\n",
    "\n",
    "### Задача Коши\n",
    "### Методы Рунге-Кутты. Методы Адамса\n",
    "\n",
    "\n",
    "Цыбулин Иван ([tsybulin@crec.mipt.ru](mailto:tsybulin@crec.mipt.ru))"
   ]
  },
  {
   "cell_type": "markdown",
   "metadata": {
    "slideshow": {
     "slide_type": "slide"
    }
   },
   "source": [
    "## Задача Коши для ОДУ\n",
    "\n",
    "Рассмотрим дифференциальное уравнение первого порядка вида\n",
    "$$\n",
    "\\frac{dy(t)}{dt} = G(t, y(t)), \\qquad 0 < t \\leqslant T\n",
    "$$\n",
    "\n",
    "Чтобы выделить единственное решение, небходимо наложить дополнительные условия, например,\n",
    "$$\n",
    " y\\Big|_{t=0} =  y_0\n",
    "$$\n",
    "Так поставленная задача называется *задачей Коши*."
   ]
  },
  {
   "cell_type": "markdown",
   "metadata": {
    "slideshow": {
     "slide_type": "slide"
    }
   },
   "source": [
    "### Сетка\n",
    "\n",
    "Для решения задачи Коши на отрезке $[0, T]$ вводят сетку (равномерную или неравномерную), а вместо функции $y(t)$ ищут ее значения в узлах сетки.\n",
    "\n",
    "![grid](grid-0.png)"
   ]
  },
  {
   "cell_type": "markdown",
   "metadata": {
    "slideshow": {
     "slide_type": "slide"
    }
   },
   "source": [
    "### Сеточная функция\n",
    "\n",
    "Функция $u_n$, заданная в узлах сетки, в отличие от непрерывной $y(t)$, является элементом конечномерного пространства $\\mathbb R^N$. Из любой непрерывной функции $y(t)$ можно получить сеточную, данная операция называется проецированием:\n",
    "$$\n",
    "u_n = [y]_n \\equiv y(t_n)\n",
    "$$\n",
    "\n",
    "<img src=\"proj2.png\" height=\"200px\">"
   ]
  },
  {
   "cell_type": "markdown",
   "metadata": {
    "slideshow": {
     "slide_type": "slide"
    }
   },
   "source": [
    "### Разностная задача\n",
    "\n",
    "Для нахождения сеточной функции формулируется *разностная задача*, «похожая» на исходную дифференциальную.\n",
    "\n",
    "Например,\n",
    "$$\n",
    "\\begin{cases}\n",
    "\\frac{dy}{dt} + \\sin y(t) = 1, \\quad 0 < t \\leqslant 2\\\\\n",
    "y(0) = 5\n",
    "\\end{cases}\n",
    "\\quad\\Longrightarrow\n",
    "\\quad\n",
    "\\begin{cases}\n",
    "\\frac{u_{n+1} - u_n}{\\tau} + \\sin u_n = 1, \\quad n = 0, \\dots, N-1\\\\\n",
    "u_0 = 5\n",
    "\\end{cases}\n",
    "$$\n",
    "\n",
    "Легко видеть, что при стремлении $\\tau \\to 0$ разностная задача переходит в дифференциальную."
   ]
  },
  {
   "cell_type": "markdown",
   "metadata": {
    "slideshow": {
     "slide_type": "slide"
    }
   },
   "source": [
    "### Аппроксимация\n",
    "\n",
    "Более строго, говорят, что разностная задача *аппроксимирует* дифференциальную, если проекция точного решения дифференциальной задачи удовлетворяет разностной задаче с малой невязкой. Эта невязка называется ошибкой аппроксимации.\n",
    "\n",
    "Чем меньше ошибка аппроксимации, тем точнее разностная задача приближает дифференциальную. Если ошибка аппроксимации имеет величину $O(\\tau^p)$, то говорят, что порядок аппроксимации равен $p$."
   ]
  },
  {
   "cell_type": "markdown",
   "metadata": {
    "slideshow": {
     "slide_type": "subslide"
    }
   },
   "source": [
    "### Изучение аппроксимации\n",
    "\n",
    "Рассмотрим дифференциальную задачу Коши\n",
    "$$\n",
    "y'(t) + \\sin y(t) = 0\\\\\n",
    "y(0) = 1\n",
    "$$\n",
    "и разностную задачу\n",
    "$$\n",
    "\\frac{u_{n+1} - u_n}{\\tau} + \\sin \\left(u_n - \\frac{\\tau}{2} \\sin u_n\\right) = 0\\\\\n",
    "u_0 = 1\n",
    "$$\n",
    "\n",
    "Для изучения аппроксимации подставим $u_n = [y]_n$."
   ]
  },
  {
   "cell_type": "markdown",
   "metadata": {
    "slideshow": {
     "slide_type": "subslide"
    }
   },
   "source": [
    "### Изучение аппроксимации\n",
    "\n",
    "После подстановки в разностном уравнении возникает невязка ($[y]_n$ &mdash; не решение разностной задачи)\n",
    "$$\n",
    "\\frac{[y]_{n+1} - [y]_n}{\\tau} + \\sin \\left([y]_n - \\frac{\\tau}{2} \\sin [y]_n\\right) = \\color{red}{\\delta_{n+1}}\\\\\n",
    "[y]_0 = 1 + \\color{red}{\\delta_0}\n",
    "$$\n",
    "\n",
    "Так как $[y]_0 = y(0) = 1$, ошибка аппроксимации в нулевом узле $\\delta_0$ равна нулю. Найдем величину $\\delta_{n+1}$, учитывая, что $y(t)$ удовлетворяет условиям\n",
    "$$\n",
    "y'(t) + \\sin y(t) = 0\\\\\n",
    "y(0) = 1\n",
    "$$"
   ]
  },
  {
   "cell_type": "markdown",
   "metadata": {
    "slideshow": {
     "slide_type": "subslide"
    }
   },
   "source": [
    "### Изучение аппроксимации\n",
    "\n",
    "$$\n",
    "\\delta_{n+1} = \\frac{[y]_{n+1} - [y]_n}{\\tau} + \\sin \\left([y]_n - \\frac{\\tau}{2} \\sin [y]_n\\right)\n",
    "$$\n",
    "Пользуясь формулой Телора можем записать:\n",
    "$$\n",
    "y(t_n + \\tau) = y(t_n) + \\tau y'(t_n) + \\frac{\\tau^2}{2} y''(t_n) + \\frac{\\tau^3}{6} y'''(t_n) + O(\\tau^4)\n",
    "$$\n",
    "Используя обозначение проекции, эта формула запишется в виде\n",
    "$$\n",
    "[y]_{n+1} = [y]_n + \\tau [y']_n + \\frac{\\tau^2}{2} [y'']_n + \\frac{\\tau^3}{6} [y''']_n + O(\\tau^4)\n",
    "$$\n"
   ]
  },
  {
   "cell_type": "markdown",
   "metadata": {
    "slideshow": {
     "slide_type": "subslide"
    }
   },
   "source": [
    "### Изучение аппроксимации\n",
    "\n",
    "$$\n",
    "[y]_{n+1} = [y]_n + \\tau [y']_n + \\frac{\\tau^2}{2} [y'']_n + \\frac{\\tau^3}{6} [y''']_n + O(\\tau^4)\n",
    "$$\n",
    "\n",
    "$$\n",
    "\\begin{aligned}\n",
    "\\delta_{n+1} \n",
    "&= \\frac{[y]_{n+1} - [y]_n}{\\tau} + \\sin \\left([y]_n - \\frac{\\tau}{2} \\sin [y]_n\\right) = \\\\ \n",
    "&= [y']_n + \\frac{\\tau}{2}[y'']_n + \\frac{\\tau^2}{6}[y''']_n + O(\\tau^3) + \\\\\n",
    "&{} + \\sin [y]_n - \\frac{\\tau}{2} \\sin [y]_n \\cos [y]_n \n",
    "{} - \\frac{\\tau^2}{8} \\sin^3 [y]_n + O(\\tau^3)\n",
    "\\end{aligned}\n",
    "$$"
   ]
  },
  {
   "cell_type": "markdown",
   "metadata": {
    "slideshow": {
     "slide_type": "subslide"
    }
   },
   "source": [
    "### Изучение аппроксимации\n",
    "\n",
    "Собирая слагаемые одного порядка вместе, получаем\n",
    "$$\n",
    "\\delta_{n+1} = ([y']_n + \\sin [y]_n) + \\frac{\\tau}{2}([y'']_n - \\sin [y]_n \\cos [y]_n) + \\frac{\\tau^2}{24} (4[y''']_n - 3\\sin^3 [y]_n) + O(\\tau^3)\n",
    "$$\n",
    "Слагаемое $[y']_n + \\sin [y]_n$ обнуляется, так как $y' + \\sin y = 0$. Но оказывается, что и второе слагаемое также обнуляется:\n",
    "$$\n",
    "y' = -\\sin y \\implies\n",
    "y'' = -y'\\cos y  = \\sin y\\cos y\n",
    "$$\n",
    "Таким образом, $\\delta_{n+1} = O(\\tau^2)$. Имеем апроксимацию второго порядка."
   ]
  },
  {
   "cell_type": "markdown",
   "metadata": {
    "slideshow": {
     "slide_type": "slide"
    }
   },
   "source": [
    "### Устойчивость\n",
    "\n",
    "Оказывается, что одной аппроксимации недостаточно, чтобы гарантировать близость решений разностной задачи $u_n$ и точного решения диффернциальной задачи $[y]_n$. Для этого необходимо, чтобы разностная задача была *устойчивой*.\n",
    "\n",
    "Пусть $u_n$ &mdash; решение разностной задачи, а $v_n$ &mdash; решение возмущенной задачи:\n",
    "$$\n",
    "\\begin{cases}\n",
    "\\frac{u_{n+1} - u_n}{\\tau} + \\sin \\left(u_n - \\frac{\\tau}{2} \\sin u_n\\right) = 0\\\\\n",
    "u_0 = 1\n",
    "\\end{cases}\n",
    "\\qquad\n",
    "\\begin{cases}\n",
    "\\frac{v_{n+1} - v_n}{\\tau} + \\sin \\left(v_n - \\frac{\\tau}{2} \\sin u_v\\right) = \\color{red}{\\epsilon_{n+1}}\\\\\n",
    "u_0 = 1 + \\color{red}{\\epsilon_0}\n",
    "\\end{cases}\n",
    "$$\n",
    "\n",
    "Устойчивость разностной задачи означает существование такой константы $C$, что\n",
    "$$\n",
    "\\max_n |u_n - v_n| \\leqslant C \\max_n |\\epsilon_n|,\n",
    "$$\n",
    "причем $C$ не зависит от шага $\\tau$."
   ]
  },
  {
   "cell_type": "code",
   "execution_count": 12,
   "metadata": {
    "collapsed": false,
    "slideshow": {
     "slide_type": "slide"
    }
   },
   "outputs": [
    {
     "name": "stdout",
     "output_type": "stream",
     "text": [
      "N = 8  max |u_n - v_n| = 7.0643050476e-07\n",
      "N = 16  max |u_n - v_n| = 8.03801930682e-07\n",
      "N = 32  max |u_n - v_n| = 7.20776045626e-07\n",
      "N = 64  max |u_n - v_n| = 4.28423205578e-07\n",
      "N = 128  max |u_n - v_n| = 3.53711414103e-07\n",
      "N = 256  max |u_n - v_n| = 7.21712172358e-07\n",
      "N = 512  max |u_n - v_n| = 3.8929621804e-07\n"
     ]
    }
   ],
   "source": [
    "import numpy as np\n",
    "\n",
    "def difference_solution(N, eps=0):\n",
    "    T = 1.0\n",
    "    tau = T / N\n",
    "    u = np.zeros(N+1)\n",
    "    u[0] = 1 + eps * np.random.rand(1)\n",
    "    for n in range(N):\n",
    "        k1 = -np.sin(u[n])\n",
    "        k2 = -np.sin(u[n] + tau/2 * k1)\n",
    "        u[n+1] = u[n] + tau * k2 + tau * eps * np.random.rand(1)\n",
    "    return u\n",
    "# Проверяем устойчивость\n",
    "for N in 2**np.arange(3, 10):\n",
    "    u = difference_solution(N)\n",
    "    v = difference_solution(N, 1e-6)\n",
    "    print('N =', N, ' max |u_n - v_n| =', np.linalg.norm(u - v, np.inf))"
   ]
  },
  {
   "cell_type": "code",
   "execution_count": 24,
   "metadata": {
    "collapsed": false,
    "slideshow": {
     "slide_type": "subslide"
    }
   },
   "outputs": [
    {
     "data": {
      "image/png": "[encoded data removed]",
      "text/plain": [
       "<matplotlib.figure.Figure at 0x7f8aa97660f0>"
      ]
     },
     "metadata": {},
     "output_type": "display_data"
    }
   ],
   "source": [
    "import matplotlib.pyplot as plt\n",
    "%matplotlib inline\n",
    "\n",
    "def exact_solution(t): return 2 * np.arctan(np.exp(-t) * np.tan(0.5))\n",
    "# Сравним численное решение с точным\n",
    "plt.plot(np.linspace(0, 1, 1000), exact_solution(np.linspace(0, 1, 1000)))\n",
    "for N in [10, 20, 40]:\n",
    "    u = difference_solution(N)\n",
    "    y = exact_solution(np.linspace(0, 1, N+1))\n",
    "    plt.plot(np.linspace(0, 1, N+1), u, '.',\n",
    "        label='N = %d, error = %e' % (N, np.linalg.norm(u - y, np.inf)))\n",
    "plt.legend(); plt.show()"
   ]
  },
  {
   "cell_type": "markdown",
   "metadata": {
    "slideshow": {
     "slide_type": "slide"
    }
   },
   "source": [
    "### Неустойчивые схемы\n",
    "Рассмотрим следующую разностную задачу\n",
    "$$\n",
    "\\frac{2u_{n+1} + u_n - 3 u_{n-1}}{5\\tau} +\n",
    "\\frac{9 \\sin u_n + \\sin u_{n-1}}{10} = 0, \\quad n = 1, \\dots, N-1\\\\\n",
    "u_0 = 1, \\qquad u_1 = 1 - \\tau \\sin 1\n",
    "$$\n",
    "Можно убедиться, что эта задача аппроксимирует со вторым порядком ту же дифференциальную задачу\n",
    "$$\n",
    "y'(t) + \\sin y(t) = 0\\\\\n",
    "y(0) = 1\n",
    "$$"
   ]
  },
  {
   "cell_type": "code",
   "execution_count": 26,
   "metadata": {
    "collapsed": false,
    "slideshow": {
     "slide_type": "slide"
    }
   },
   "outputs": [
    {
     "name": "stdout",
     "output_type": "stream",
     "text": [
      "N = 8  max |u_n - v_n| = 5.57383362154e-06\n",
      "N = 16  max |u_n - v_n| = 0.000422585953988\n",
      "N = 32  max |u_n - v_n| = 0.0864150519454\n",
      "N = 64  max |u_n - v_n| = 24380.7386585\n",
      "N = 128  max |u_n - v_n| = 3.37333692632e+15\n",
      "N = 256  max |u_n - v_n| = 1.94248734307e+38\n",
      "N = 512  max |u_n - v_n| = 3.50060667232e+83\n"
     ]
    }
   ],
   "source": [
    "def unstable_method(N, eps=0):\n",
    "    T = 1.0\n",
    "    tau = T / N\n",
    "    u = np.zeros(N+1)\n",
    "    u[0] = 1 + eps * np.random.rand(1)\n",
    "    u[1] = 1 - tau * np.sin(1) + eps * np.random.rand(1)\n",
    "    for n in range(1, N):\n",
    "        rhs = 0.9 * np.sin(u[n]) + 0.1 * np.sin(u[n-1])\n",
    "        u[n+1] = 0.5*(3*u[n-1]-u[n] - 5*tau*rhs + 5*tau*eps*np.random.rand(1))\n",
    "    return u\n",
    "# Проверяем устойчивость\n",
    "for N in 2**np.arange(3, 10):\n",
    "    u = unstable_method(N)\n",
    "    v = unstable_method(N, 1e-6)\n",
    "    print('N =', N, ' max |u_n - v_n| =', np.linalg.norm(u - v, np.inf))"
   ]
  },
  {
   "cell_type": "code",
   "execution_count": 29,
   "metadata": {
    "collapsed": false,
    "slideshow": {
     "slide_type": "subslide"
    }
   },
   "outputs": [
    {
     "data": {
      "image/png": "[encoded data removed]",
      "text/plain": [
       "<matplotlib.figure.Figure at 0x7f8aa95290b8>"
      ]
     },
     "metadata": {},
     "output_type": "display_data"
    }
   ],
   "source": [
    "# Сравним численное решение с точным\n",
    "plt.plot(np.linspace(0, 1, 1000), exact_solution(np.linspace(0, 1, 1000)))\n",
    "for N in [5, 10, 20]:\n",
    "    u = unstable_method(N)\n",
    "    y = exact_solution(np.linspace(0, 1, N+1))\n",
    "    plt.plot(np.linspace(0, 1, N+1), u, '.-',\n",
    "        label='N = %d, error = %e' % (N, np.linalg.norm(u - y, np.inf)))\n",
    "plt.legend(); plt.show()"
   ]
  },
  {
   "cell_type": "markdown",
   "metadata": {
    "slideshow": {
     "slide_type": "slide"
    }
   },
   "source": [
    "### Методы Рунге-Кутты\n",
    "\n",
    "Методы Рунге-Кутты относятся к одношаговым методам, то есть для вычисления решения в узле $t_{n+1}$ необходимо знать лишь решение в узле $t_n$. Каждый такой шаг состоит из нескольких *стадий*. На каждой стадии вычисляется вспомогательная величина &mdash; наклон $k_i, \\; i = 1, \\dots, s$, $s$ &mdash; число стадий."
   ]
  },
  {
   "cell_type": "markdown",
   "metadata": {
    "slideshow": {
     "slide_type": "slide"
    }
   },
   "source": [
    "### Шаг метода Рунге-Кутты\n",
    "Для уравнения (или системы уравнений) \n",
    "$$\n",
    "\\mathbf y'(t) = \\mathbf G(t, \\mathbf y(t))\n",
    "$$\n",
    "один шаг $s$-стадийного метода Рунге-Кутты для перехода от $t_n$ к $t_{n+1}$ задается формулами\n",
    "$$\n",
    "\\begin{array}{c}\n",
    "\\mathbf k_1 = \\mathbf G\\left(t_n + c_1 \\tau, \\mathbf u_n + \\tau\\sum_{j=1}^s a_{1j} \\mathbf k_j\\right)\\\\\n",
    "\\vdots\\\\\n",
    "\\mathbf k_s = \\mathbf G\\left(t_n + c_s \\tau, \\mathbf u_n + \\tau\\sum_{j=1}^s a_{sj} \\mathbf k_j\\right)\\\\\n",
    "\\frac{\\mathbf u_{n+1} - \\mathbf u_n}{\\tau} = \\sum_{i=1}^s b_i \\mathbf k_i\n",
    "\\end{array}\n",
    "\\qquad\n",
    "\\begin{array}{c|cccc}\n",
    "c_1 & a_{11} & a_{12} & \\dots & a_{1s}\\\\\n",
    "c_2 & a_{21} & a_{22} & \\dots & a_{2s}\\\\\n",
    "\\vdots & \\vdots & \\vdots & \\ddots & \\vdots\\\\\n",
    "c_s & a_{s1} & a_{s2} & \\dots & a_{ss}\\\\\n",
    "\\hline\n",
    "& b_1 & b_2 & \\dots & b_s\n",
    "\\end{array}\n",
    "$$"
   ]
  },
  {
   "cell_type": "markdown",
   "metadata": {
    "slideshow": {
     "slide_type": "slide"
    }
   },
   "source": [
    "### Коэффициенты метода\n",
    "Числа $c_i, a_{ij}, b_i$ являются фиксированными константами, которые определяют конкретный численный метод. Их часто организуют в *таблицу Бутчера*\n",
    "$$\n",
    "\\begin{array}{c|cccc}\n",
    "c_1 & a_{11} & a_{12} & \\dots & a_{1s}\\\\\n",
    "c_2 & a_{21} & a_{22} & \\dots & a_{2s}\\\\\n",
    "\\vdots & \\vdots & \\vdots & \\ddots & \\vdots\\\\\n",
    "c_s & a_{s1} & a_{s2} & \\dots & a_{ss}\\\\\n",
    "\\hline\n",
    "& b_1 & b_2 & \\dots & b_s\n",
    "\\end{array}\n",
    "$$\n",
    "Фактически, все свойства конкретного метода Рунге-Кутты определяются его таблицей Бутчера."
   ]
  },
  {
   "cell_type": "markdown",
   "metadata": {
    "slideshow": {
     "slide_type": "slide"
    }
   },
   "source": [
    "### Явные методы РК\n",
    "Метод Рунге-Кутты называется явным, если его матрица $A$ содержит нули на главной диагонали и выше нее:\n",
    "$$\n",
    "\\begin{array}{c}\n",
    "\\color{blue}{\\mathbf k_1} = \\mathbf G\\left(t_n + c_1 \\tau, \\mathbf u_n\\right)\\\\\n",
    "\\color{green}{\\mathbf k_2} = \\mathbf G\\left(t_n + c_2 \\tau, \\mathbf u_n + \\tau a_{21} \\color{blue}{\\mathbf k_1}\\right)\\\\\n",
    "\\color{brown}{\\mathbf k_3} = \\mathbf G\\left(t_n + c_3 \\tau, \\mathbf u_n + \\tau a_{31} \\color{blue}{\\mathbf k_1} + \\tau a_{32} \\color{green}{\\mathbf k_2}\\right)\\\\\n",
    "\\vdots\\\\\n",
    "\\mathbf k_s = \\mathbf G\\left(t_n + c_s \\tau, \\mathbf u_n + \\tau\\sum_{j=1}^{s-1} a_{sj} \\mathbf k_j\\right)\\\\\n",
    "\\frac{\\mathbf u_{n+1} - \\mathbf u_n}{\\tau} = \\sum_{i=1}^s b_i \\mathbf k_i\n",
    "\\end{array}\n",
    "\\qquad\n",
    "\\begin{array}{c|ccccc}\n",
    "c_1 & 0 & 0 & 0 & \\dots & 0\\\\\n",
    "c_2 & a_{21} & 0 & 0 & \\dots & 0\\\\\n",
    "c_3 & a_{31} & a_{32} & 0 &\\dots & 0\\\\\n",
    "\\vdots & \\vdots & \\vdots & \\ddots & \\ddots & \\vdots\\\\\n",
    "c_s & a_{s1} & a_{s2} & \\dots & a_{s,s-1}& 0\\\\\n",
    "\\hline\n",
    "& b_1 & b_2 & \\dots & b_{s-1} & b_s\n",
    "\\end{array}\n",
    "$$\n",
    "Таким образом, все наклоны $\\mathbf k_i$ вычисляются по явным формулам друг за другом."
   ]
  },
  {
   "cell_type": "markdown",
   "metadata": {
    "slideshow": {
     "slide_type": "subslide"
    }
   },
   "source": [
    "### Полуявные методы РК\n",
    "Метод Рунге-Кутты называется полуявным (диагонально-неявным), если его матрица $A$ содержит нули выше главной диагонали:\n",
    "$$\n",
    "\\begin{array}{c}\n",
    "\\color{blue}{\\mathbf k_1} = \\mathbf G\\left(t_n + c_1 \\tau, \\mathbf u_n + \\tau a_{11} \\color{blue}{\\mathbf k_1}\\right)\\\\\n",
    "\\color{green}{\\mathbf k_2} = \\mathbf G\\left(t_n + c_2 \\tau, \\mathbf u_n + \\tau a_{21} \\color{blue}{\\mathbf k_1} + \\tau a_{22}\\color{green}{\\mathbf k_2}\\right)\\\\\n",
    "\\color{brown}{\\mathbf k_3} = \\mathbf G\\left(t_n + c_3 \\tau, \\mathbf u_n + \\tau a_{31} \\color{blue}{\\mathbf k_1} + \\tau a_{32} \\color{green}{\\mathbf k_2} + \\tau a_{33}\\color{brown}{\\mathbf k_3}\\right)\\\\\n",
    "\\vdots\\\\\n",
    "\\mathbf k_s = \\mathbf G\\left(t_n + c_s \\tau, \\mathbf u_n + \\tau\\sum_{j=1}^{s-1} a_{sj} \\mathbf k_j\\right)\\\\\n",
    "\\frac{\\mathbf u_{n+1} - \\mathbf u_n}{\\tau} = \\sum_{i=1}^s b_i \\mathbf k_i\n",
    "\\end{array}\n",
    "\\qquad\n",
    "\\begin{array}{c|ccccc}\n",
    "c_1 & a_{11} & 0 & 0 & \\dots & 0\\\\\n",
    "c_2 & a_{21} & a_{22} & 0 & \\dots & 0\\\\\n",
    "c_3 & a_{31} & a_{32} & a_{33} &\\dots & 0\\\\\n",
    "\\vdots & \\vdots & \\vdots & \\ddots & \\ddots & \\vdots\\\\\n",
    "c_s & a_{s1} & a_{s2} & \\dots & a_{s,s-1}& a_{ss}\\\\\n",
    "\\hline\n",
    "& b_1 & b_2 & \\dots & b_{s-1} & b_s\n",
    "\\end{array}\n",
    "$$\n",
    "Таким образом, все наклоны $\\mathbf k_i$ вычисляются из алгебраических уравнений друг за другом."
   ]
  },
  {
   "cell_type": "markdown",
   "metadata": {
    "slideshow": {
     "slide_type": "subslide"
    }
   },
   "source": [
    "### Неявные методы РК\n",
    "В противном случае метод называется неявным. Для определения всех наклонов необходимо решить систему алгебраических уравнений относительно всех $\\mathbf k_i$ одновременно\n",
    "$$\n",
    "\\begin{cases}\n",
    "\\color{blue}{\\mathbf k_1} = \\mathbf G\\left(t_n + c_1 \\tau, \\mathbf u_n + \\tau a_{11} \\color{blue}{\\mathbf k_1} + \\tau a_{21} \\color{green}{\\mathbf k_2} + \\dots + \\tau a_{1s} \\color{brown}{\\mathbf k_s}\\right)\\\\\n",
    "\\color{green}{\\mathbf k_2} = \\mathbf G\\left(t_n + c_2 \\tau, \\mathbf u_n + \\tau a_{21} \\color{blue}{\\mathbf k_1} + \\tau a_{22}\\color{green}{\\mathbf k_2} + \\dots + \\tau a_{2s}\\color{brown}{\\mathbf k_s}\\right)\\\\\n",
    "\\vdots\\\\\n",
    "\\color{brown}{\\mathbf k_s} = \\mathbf G\\left(t_n + c_s \\tau, \\mathbf u_n + \\tau a_{s1} \\color{blue}{\\mathbf k_1} + \\tau a_{s2}\\color{green}{\\mathbf k_2} + \\dots + \\tau a_{ss}\\color{brown}{\\mathbf k_s}\\right)\n",
    "\\end{cases}\\\\\n",
    "\\frac{\\mathbf u_{n+1} - \\mathbf u_n}{\\tau} = \\sum_{i=1}^s b_i \\mathbf k_i\n",
    "$$"
   ]
  },
  {
   "cell_type": "markdown",
   "metadata": {
    "slideshow": {
     "slide_type": "slide"
    }
   },
   "source": [
    "### Порядок аппроксимации метода РК\n",
    "Порядок аппроксимации метода Рунге-Кутты можно определить из его коэффициентов. Обычно при рассмотрении методов Рунге-Кутты принимают дополнительные условия Кутты $c_i = \\sum_j a_{ij}$. Эти условия значительно упрощают выкладки при анализе и не снижают общности рассматриваемых методов. Для того, чтобы метод имел порядок $p$ он должен удовлетворять следующим условиям порядка вплоть до $p$ вкючительно:\n",
    "* Условия 1-го порядка: $\\sum_{i=1}^s b_i = 1$\n",
    "* Условия 2-го порядка: $\\sum_{i=1}^s b_i c_i = 1/2$\n",
    "* Условия 3-го порядка: $\\sum_{i=1}^s b_i c_i^2 = 1/3, \\quad \\sum_{i,j=1}^s b_i a_{ij} c_j = 1/6$"
   ]
  },
  {
   "cell_type": "code",
   "execution_count": 34,
   "metadata": {
    "collapsed": true,
    "slideshow": {
     "slide_type": "slide"
    }
   },
   "outputs": [],
   "source": [
    "def rk4step(tau, tn, un, G):\n",
    "    k1 = G(tn, un)\n",
    "    k2 = G(tn + 0.5*tau, un + 0.5*tau*k1)\n",
    "    k3 = G(tn + 0.5*tau, un + 0.5*tau*k2)\n",
    "    k4 = G(tn + tau, un + tau*k3)\n",
    "    return un + tau * (k1 + 2*k2 + 2*k3 + k4) / 6.0\n",
    "\n",
    "def G(t, u): return -np.sin(u)\n",
    "\n",
    "def rk4(N):\n",
    "    T = 1.0\n",
    "    tau = T / N\n",
    "    u = np.zeros(N+1)\n",
    "    u[0] = 1\n",
    "    for n in range(N):\n",
    "        u[n+1] = rk4step(tau, tau*n, u[n], G)\n",
    "    return u"
   ]
  },
  {
   "cell_type": "code",
   "execution_count": 36,
   "metadata": {
    "collapsed": false,
    "slideshow": {
     "slide_type": "subslide"
    }
   },
   "outputs": [
    {
     "data": {
      "image/png": "[encoded data removed]",
      "text/plain": [
       "<matplotlib.figure.Figure at 0x7f8aa9723588>"
      ]
     },
     "metadata": {},
     "output_type": "display_data"
    }
   ],
   "source": [
    "def exact_solution(t): return 2 * np.arctan(np.exp(-t) * np.tan(0.5))\n",
    "# Сравним численное решение методом РК4 с точным\n",
    "plt.plot(np.linspace(0, 1, 1000), exact_solution(np.linspace(0, 1, 1000)))\n",
    "for N in [5, 10, 20]:\n",
    "    u = rk4(N)\n",
    "    y = exact_solution(np.linspace(0, 1, N+1))\n",
    "    plt.plot(np.linspace(0, 1, N+1), u, '.',\n",
    "        label='N = %d, error = %e' % (N, np.linalg.norm(u - y, np.inf)))\n",
    "plt.legend(); plt.show()"
   ]
  }
 ],
 "metadata": {
  "anaconda-cloud": {},
  "celltoolbar": "Slideshow",
  "kernelspec": {
   "display_name": "Python [Root]",
   "language": "python",
   "name": "Python [Root]"
  },
  "language_info": {
   "codemirror_mode": {
    "name": "ipython",
    "version": 3
   },
   "file_extension": ".py",
   "mimetype": "text/x-python",
   "name": "python",
   "nbconvert_exporter": "python",
   "pygments_lexer": "ipython3",
   "version": "3.5.2"
  },
  "livereveal": {
   "theme": "beige",
   "transition": "none"
  },
  "nbpresent": {
   "slides": {
    "1ffee25c-251f-4cbf-af3d-a1d5521081b9": {
     "id": "1ffee25c-251f-4cbf-af3d-a1d5521081b9",
     "prev": "eb43fa9f-eb7c-417b-ab1a-99371ff452e2",
     "regions": {
      "2e1a7b46-c253-4096-a0a5-dfbc6cfb086e": {
       "attrs": {
        "height": 0.8,
        "width": 0.8,
        "x": 0.1,
        "y": 0.1
       },
       "content": {
        "cell": "bf40e897-f1f8-4e69-b826-fe53fb761aad",
        "part": "whole"
       },
       "id": "2e1a7b46-c253-4096-a0a5-dfbc6cfb086e"
      }
     }
    },
    "37c43f64-6426-4a98-8de1-a6ca1dd72190": {
     "id": "37c43f64-6426-4a98-8de1-a6ca1dd72190",
     "prev": "d2b700ea-e44e-4bed-9ce4-ddf1532b44cb",
     "regions": {
      "45a20e24-b33f-4c55-8df2-e96075b5e2af": {
       "attrs": {
        "height": 0.8,
        "width": 0.8,
        "x": 0.1,
        "y": 0.1
       },
       "content": {
        "cell": "e730e690-97c9-4acd-bf81-4c5ab0bbd48e",
        "part": "whole"
       },
       "id": "45a20e24-b33f-4c55-8df2-e96075b5e2af"
      }
     }
    },
    "5bf0841a-23d1-413e-a557-911111e3e336": {
     "id": "5bf0841a-23d1-413e-a557-911111e3e336",
     "prev": "ebd3a807-2380-4bd6-8e58-c9424f3ed713",
     "regions": {
      "3c8adac9-5366-49e9-96ab-965c77e83485": {
       "attrs": {
        "height": 0.8,
        "width": 0.8,
        "x": 0.1,
        "y": 0.1
       },
       "content": {
        "cell": "2e08a439-2699-4ecf-9189-dfbbf745ad4e",
        "part": "whole"
       },
       "id": "3c8adac9-5366-49e9-96ab-965c77e83485"
      }
     }
    },
    "60ffd9bc-f20d-41e5-8771-5f11695177c6": {
     "id": "60ffd9bc-f20d-41e5-8771-5f11695177c6",
     "prev": "97575fe4-de27-4833-b616-7479f99519d0",
     "regions": {
      "807a955a-60c8-4f03-8734-54dfd52113d6": {
       "attrs": {
        "height": 0.8,
        "width": 0.8,
        "x": 0.1,
        "y": 0.1
       },
       "content": {
        "cell": "795c8121-f820-4edc-aeba-fc399b38f4b2",
        "part": "whole"
       },
       "id": "807a955a-60c8-4f03-8734-54dfd52113d6"
      }
     }
    },
    "623d8bc9-43df-451f-b862-76c2b54708ea": {
     "id": "623d8bc9-43df-451f-b862-76c2b54708ea",
     "prev": "eded54a5-7710-4ab6-8229-3ca4029d1ae7",
     "regions": {
      "42b1d4d4-2905-454b-b564-92f58dec8f81": {
       "attrs": {
        "height": 0.8,
        "width": 0.8,
        "x": 0.1,
        "y": 0.1
       },
       "content": {
        "cell": "16fd05b0-8ac8-4da2-8980-54d0d253d110",
        "part": "whole"
       },
       "id": "42b1d4d4-2905-454b-b564-92f58dec8f81"
      }
     }
    },
    "6dabcfe1-1c90-4893-8f01-c39e431f00bb": {
     "id": "6dabcfe1-1c90-4893-8f01-c39e431f00bb",
     "prev": "37c43f64-6426-4a98-8de1-a6ca1dd72190",
     "regions": {
      "1126b4c4-7df3-4db1-962b-abe099db9928": {
       "attrs": {
        "height": 0.8,
        "width": 0.8,
        "x": 0.1,
        "y": 0.1
       },
       "content": {
        "cell": "54519c05-1028-4e5c-a2d2-e21f821e99aa",
        "part": "whole"
       },
       "id": "1126b4c4-7df3-4db1-962b-abe099db9928"
      }
     }
    },
    "91753ba8-05fe-465f-806d-0faf4a21a031": {
     "id": "91753ba8-05fe-465f-806d-0faf4a21a031",
     "prev": "5bf0841a-23d1-413e-a557-911111e3e336",
     "regions": {
      "eb271beb-70d0-452e-b896-43695be4ae85": {
       "attrs": {
        "height": 0.8,
        "width": 0.8,
        "x": 0.1,
        "y": 0.1
       },
       "content": {
        "cell": "31cc3d04-22a5-4773-b4e1-abfb09f8bbc2",
        "part": "whole"
       },
       "id": "eb271beb-70d0-452e-b896-43695be4ae85"
      }
     }
    },
    "97575fe4-de27-4833-b616-7479f99519d0": {
     "id": "97575fe4-de27-4833-b616-7479f99519d0",
     "prev": "b8aebb38-1266-40c2-928a-026f9d33ec5c",
     "regions": {
      "01deb5d1-73e8-4d64-b93e-e7646647af3b": {
       "attrs": {
        "height": 0.8,
        "width": 0.8,
        "x": 0.1,
        "y": 0.1
       },
       "content": {
        "cell": "7f2bdffe-4f2a-446b-8805-d4fd262fced1",
        "part": "whole"
       },
       "id": "01deb5d1-73e8-4d64-b93e-e7646647af3b"
      }
     }
    },
    "9cc88d72-9ac9-4c24-96d5-abc94cea6e92": {
     "id": "9cc88d72-9ac9-4c24-96d5-abc94cea6e92",
     "prev": "1ffee25c-251f-4cbf-af3d-a1d5521081b9",
     "regions": {
      "78febecd-5100-493b-8f0d-0cc35ceae42e": {
       "attrs": {
        "height": 0.8,
        "width": 0.8,
        "x": 0.1,
        "y": 0.1
       },
       "content": {
        "cell": "bef00443-818c-4614-aa63-8a2e117462ec",
        "part": "whole"
       },
       "id": "78febecd-5100-493b-8f0d-0cc35ceae42e"
      }
     }
    },
    "a5df524d-67a8-4ae1-8258-9231728bdd14": {
     "id": "a5df524d-67a8-4ae1-8258-9231728bdd14",
     "prev": "623d8bc9-43df-451f-b862-76c2b54708ea",
     "regions": {
      "68e876ca-f943-4b2e-8268-439db992b310": {
       "attrs": {
        "height": 0.8,
        "width": 0.8,
        "x": 0.1,
        "y": 0.1
       },
       "content": {
        "cell": "40af6766-3ae3-4acc-8417-439eb8968553",
        "part": "whole"
       },
       "id": "68e876ca-f943-4b2e-8268-439db992b310"
      }
     }
    },
    "b62355d8-8b93-4dfc-8016-6548952c0f8c": {
     "id": "b62355d8-8b93-4dfc-8016-6548952c0f8c",
     "prev": "f59840cf-124e-4d10-8b89-3aafe98f38ba",
     "regions": {
      "381cc6bd-bde3-4d58-8277-99fbd69c7a4f": {
       "attrs": {
        "height": 0.8,
        "width": 0.8,
        "x": 0.1,
        "y": 0.1
       },
       "content": {
        "cell": "b92c1827-c799-44b9-b770-f45e95c917da",
        "part": "whole"
       },
       "id": "381cc6bd-bde3-4d58-8277-99fbd69c7a4f"
      }
     }
    },
    "b8aebb38-1266-40c2-928a-026f9d33ec5c": {
     "id": "b8aebb38-1266-40c2-928a-026f9d33ec5c",
     "prev": "9cc88d72-9ac9-4c24-96d5-abc94cea6e92",
     "regions": {
      "1bc2d24e-0782-443b-83a4-bc683c5ac6cb": {
       "attrs": {
        "height": 0.8,
        "width": 0.8,
        "x": 0.1,
        "y": 0.1
       },
       "content": {
        "cell": "cbb3d96a-fdd6-436e-86b6-1be446b43e84",
        "part": "whole"
       },
       "id": "1bc2d24e-0782-443b-83a4-bc683c5ac6cb"
      }
     }
    },
    "d2b700ea-e44e-4bed-9ce4-ddf1532b44cb": {
     "id": "d2b700ea-e44e-4bed-9ce4-ddf1532b44cb",
     "prev": "a5df524d-67a8-4ae1-8258-9231728bdd14",
     "regions": {
      "474bc80d-f262-4e62-afae-4565c0979e03": {
       "attrs": {
        "height": 0.8,
        "width": 0.8,
        "x": 0.1,
        "y": 0.1
       },
       "content": {
        "cell": "a67001a3-e51e-4a22-bdcd-249cde5581c1",
        "part": "whole"
       },
       "id": "474bc80d-f262-4e62-afae-4565c0979e03"
      }
     }
    },
    "d989978f-1d85-4802-953f-0e82f1a0fd51": {
     "id": "d989978f-1d85-4802-953f-0e82f1a0fd51",
     "prev": null,
     "regions": {
      "e3ddb97a-209b-4c70-91d7-df0cadcefb0d": {
       "attrs": {
        "height": 0.8,
        "width": 0.8,
        "x": 0.1,
        "y": 0.1
       },
       "content": {
        "cell": "13101ac1-2637-4d0f-9f1f-cd32215b02c3",
        "part": "whole"
       },
       "id": "e3ddb97a-209b-4c70-91d7-df0cadcefb0d"
      }
     }
    },
    "eb43fa9f-eb7c-417b-ab1a-99371ff452e2": {
     "id": "eb43fa9f-eb7c-417b-ab1a-99371ff452e2",
     "prev": "b62355d8-8b93-4dfc-8016-6548952c0f8c",
     "regions": {
      "b9415d21-f857-4a93-a788-c7dc51dedea0": {
       "attrs": {
        "height": 0.8,
        "width": 0.8,
        "x": 0.1,
        "y": 0.1
       },
       "content": {
        "cell": "e29b9590-fc86-46fd-83be-3ff48c7a8df4",
        "part": "whole"
       },
       "id": "b9415d21-f857-4a93-a788-c7dc51dedea0"
      }
     }
    },
    "ebd3a807-2380-4bd6-8e58-c9424f3ed713": {
     "id": "ebd3a807-2380-4bd6-8e58-c9424f3ed713",
     "prev": "f3fb61c6-f807-4942-8c41-0e80240a5146",
     "regions": {
      "7eaeb4e2-d47e-43e4-92c4-ed8cc1e9aac7": {
       "attrs": {
        "height": 0.8,
        "width": 0.8,
        "x": 0.1,
        "y": 0.1
       },
       "content": {
        "cell": "412353c7-42b2-42c7-8702-69568c809a97",
        "part": "whole"
       },
       "id": "7eaeb4e2-d47e-43e4-92c4-ed8cc1e9aac7"
      }
     }
    },
    "eded54a5-7710-4ab6-8229-3ca4029d1ae7": {
     "id": "eded54a5-7710-4ab6-8229-3ca4029d1ae7",
     "prev": "91753ba8-05fe-465f-806d-0faf4a21a031",
     "regions": {
      "816c3f73-4147-4cdb-b7d1-f5f82fa6003b": {
       "attrs": {
        "height": 0.8,
        "width": 0.8,
        "x": 0.1,
        "y": 0.1
       },
       "content": {
        "cell": "fa2d4b89-0d7a-41f1-8635-c5905d106cf3",
        "part": "whole"
       },
       "id": "816c3f73-4147-4cdb-b7d1-f5f82fa6003b"
      }
     }
    },
    "f3fb61c6-f807-4942-8c41-0e80240a5146": {
     "id": "f3fb61c6-f807-4942-8c41-0e80240a5146",
     "prev": "d989978f-1d85-4802-953f-0e82f1a0fd51",
     "regions": {
      "4f7abbfb-161b-44ce-bdab-05ef0b2a5542": {
       "attrs": {
        "height": 0.8,
        "width": 0.8,
        "x": 0.1,
        "y": 0.1
       },
       "content": {
        "cell": "8ce7bf3f-66e0-4462-a540-e87bceeadb7f",
        "part": "whole"
       },
       "id": "4f7abbfb-161b-44ce-bdab-05ef0b2a5542"
      }
     }
    },
    "f59840cf-124e-4d10-8b89-3aafe98f38ba": {
     "id": "f59840cf-124e-4d10-8b89-3aafe98f38ba",
     "prev": "6dabcfe1-1c90-4893-8f01-c39e431f00bb",
     "regions": {
      "e67fa4b9-f237-40ff-8621-fcdbfdd83101": {
       "attrs": {
        "height": 0.8,
        "width": 0.8,
        "x": 0.1,
        "y": 0.1
       },
       "content": {
        "cell": "4ae9a30c-81bc-4396-90d8-939a8e59f287",
        "part": "whole"
       },
       "id": "e67fa4b9-f237-40ff-8621-fcdbfdd83101"
      }
     }
    }
   },
   "themes": {
    "default": "c04eebe0-c348-41e9-bcfb-a65d4bd126df",
    "theme": {
     "c04eebe0-c348-41e9-bcfb-a65d4bd126df": {
      "id": "c04eebe0-c348-41e9-bcfb-a65d4bd126df",
      "palette": {
       "19cc588f-0593-49c9-9f4b-e4d7cc113b1c": {
        "id": "19cc588f-0593-49c9-9f4b-e4d7cc113b1c",
        "rgb": [
         252,
         252,
         252
        ]
       },
       "31af15d2-7e15-44c5-ab5e-e04b16a89eff": {
        "id": "31af15d2-7e15-44c5-ab5e-e04b16a89eff",
        "rgb": [
         68,
         68,
         68
        ]
       },
       "50f92c45-a630-455b-aec3-788680ec7410": {
        "id": "50f92c45-a630-455b-aec3-788680ec7410",
        "rgb": [
         155,
         177,
         192
        ]
       },
       "c5cc3653-2ee1-402a-aba2-7caae1da4f6c": {
        "id": "c5cc3653-2ee1-402a-aba2-7caae1da4f6c",
        "rgb": [
         43,
         126,
         184
        ]
       },
       "efa7f048-9acb-414c-8b04-a26811511a21": {
        "id": "efa7f048-9acb-414c-8b04-a26811511a21",
        "rgb": [
         25.118061674008803,
         73.60176211453744,
         107.4819383259912
        ]
       }
      },
      "rules": {
       "blockquote": {
        "color": "50f92c45-a630-455b-aec3-788680ec7410"
       },
       "code": {
        "font-family": "Anonymous Pro"
       },
       "h1": {
        "color": "c5cc3653-2ee1-402a-aba2-7caae1da4f6c",
        "font-family": "Lato",
        "font-size": 8
       },
       "h2": {
        "color": "c5cc3653-2ee1-402a-aba2-7caae1da4f6c",
        "font-family": "Lato",
        "font-size": 6
       },
       "h3": {
        "color": "50f92c45-a630-455b-aec3-788680ec7410",
        "font-family": "Lato",
        "font-size": 5.5
       },
       "h4": {
        "color": "c5cc3653-2ee1-402a-aba2-7caae1da4f6c",
        "font-family": "Lato",
        "font-size": 5
       },
       "h5": {
        "font-family": "Lato"
       },
       "h6": {
        "font-family": "Lato"
       },
       "h7": {
        "font-family": "Lato"
       },
       "pre": {
        "font-family": "Anonymous Pro",
        "font-size": 4
       }
      },
      "text-base": {
       "font-family": "Merriweather",
       "font-size": 4
      }
     },
     "f0b95bb9-67a7-4d14-bf09-657a5b556dbe": {
      "id": "f0b95bb9-67a7-4d14-bf09-657a5b556dbe",
      "palette": {
       "19cc588f-0593-49c9-9f4b-e4d7cc113b1c": {
        "id": "19cc588f-0593-49c9-9f4b-e4d7cc113b1c",
        "rgb": [
         252,
         252,
         252
        ]
       },
       "31af15d2-7e15-44c5-ab5e-e04b16a89eff": {
        "id": "31af15d2-7e15-44c5-ab5e-e04b16a89eff",
        "rgb": [
         68,
         68,
         68
        ]
       },
       "50f92c45-a630-455b-aec3-788680ec7410": {
        "id": "50f92c45-a630-455b-aec3-788680ec7410",
        "rgb": [
         155,
         177,
         192
        ]
       },
       "c5cc3653-2ee1-402a-aba2-7caae1da4f6c": {
        "id": "c5cc3653-2ee1-402a-aba2-7caae1da4f6c",
        "rgb": [
         43,
         126,
         184
        ]
       },
       "efa7f048-9acb-414c-8b04-a26811511a21": {
        "id": "efa7f048-9acb-414c-8b04-a26811511a21",
        "rgb": [
         25.118061674008803,
         73.60176211453744,
         107.4819383259912
        ]
       }
      },
      "rules": {
       "blockquote": {
        "color": "50f92c45-a630-455b-aec3-788680ec7410"
       },
       "code": {
        "font-family": "Anonymous Pro"
       },
       "h1": {
        "color": "c5cc3653-2ee1-402a-aba2-7caae1da4f6c",
        "font-family": "Lato",
        "font-size": 8
       },
       "h2": {
        "color": "c5cc3653-2ee1-402a-aba2-7caae1da4f6c",
        "font-family": "Lato",
        "font-size": 6
       },
       "h3": {
        "color": "50f92c45-a630-455b-aec3-788680ec7410",
        "font-family": "Lato",
        "font-size": 5.5
       },
       "h4": {
        "color": "c5cc3653-2ee1-402a-aba2-7caae1da4f6c",
        "font-family": "Lato",
        "font-size": 5
       },
       "h5": {
        "font-family": "Lato"
       },
       "h6": {
        "font-family": "Lato"
       },
       "h7": {
        "font-family": "Lato"
       },
       "pre": {
        "font-family": "Anonymous Pro",
        "font-size": 4
       }
      },
      "text-base": {
       "font-family": "Merriweather",
       "font-size": 4
      }
     }
    }
   }
  }
 },
 "nbformat": 4,
 "nbformat_minor": 0
}
