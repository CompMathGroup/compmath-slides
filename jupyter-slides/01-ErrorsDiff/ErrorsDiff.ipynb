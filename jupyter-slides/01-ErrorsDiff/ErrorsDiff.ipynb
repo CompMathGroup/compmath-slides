{
 "cells": [
  {
   "cell_type": "markdown",
   "metadata": {
    "nbpresent": {
     "id": "13101ac1-2637-4d0f-9f1f-cd32215b02c3"
    },
    "slideshow": {
     "slide_type": "slide"
    }
   },
   "source": [
    "# Вычислительная математика\n",
    "## Погрешности вычислений и численное дифференцирование\n",
    "\n",
    "Цыбулин Иван ([tsybulin@crec.mipt.ru](mailto:tsybulin@crec.mipt.ru))"
   ]
  },
  {
   "cell_type": "markdown",
   "metadata": {
    "nbpresent": {
     "id": "412353c7-42b2-42c7-8702-69568c809a97"
    },
    "slideshow": {
     "slide_type": "slide"
    }
   },
   "source": [
    "## Организация курса\n",
    "* Курс рассчитан на 2 семестра\n",
    "* В каждом семестре 2 контрольные — полусеместровая на семинаре и семестровая на лекции\n",
    "* После каждой контрольной сдача задания"
   ]
  },
  {
   "cell_type": "markdown",
   "metadata": {
    "slideshow": {
     "slide_type": "slide"
    }
   },
   "source": [
    "## БРС\n",
    "* Посещение лекций - 10 баллов\n",
    "* Полусеместровая контрольная - 20 баллов \n",
    "* Семестровая контрольная - 30 баллов \n",
    "* Каждое задание - 20 баллов\n",
    "  * Решенные задачи из задавальника - 10 баллов\n",
    "  * Лабы по темам или задачи для программирования - 10 баллов\n",
    "* Активность на семинарах - до 10 баллов\n",
    "  * Работа у доски\n",
    "  * Задачи после семинаров\n",
    "\n",
    "Оценка = Баллы / 10 округленные вниз"
   ]
  },
  {
   "cell_type": "markdown",
   "metadata": {
    "nbpresent": {
     "id": "2e08a439-2699-4ecf-9189-dfbbf745ad4e"
    },
    "slideshow": {
     "slide_type": "slide"
    }
   },
   "source": [
    "## Материалы\n",
    " * [Курс на сайте кафедры](https://mipt.ru/education/chair/computational_mathematics/study/materials/compmath/)\n",
    " * [Репозиторий с презентациями на GitHub](https://github.com/CompMathGroup/compmath-slides)\n",
    " * [Группа ВК](https://vk.com/mipt_compmath)\n"
   ]
  },
  {
   "cell_type": "markdown",
   "metadata": {
    "nbpresent": {
     "id": "31cc3d04-22a5-4773-b4e1-abfb09f8bbc2"
    },
    "slideshow": {
     "slide_type": "slide"
    }
   },
   "source": [
    "## Предмет вычислительной математики\n",
    "Разделы вычислительной математики\n",
    " * Численный анализ\n",
    " * Вычислительная линейная алгебра\n",
    " * Численное решение диффуров\n",
    " \n",
    "Для вычислительных задач ответом обычно является _число_, а также _погрешность_ ответа."
   ]
  },
  {
   "cell_type": "markdown",
   "metadata": {
    "nbpresent": {
     "id": "fa2d4b89-0d7a-41f1-8635-c5905d106cf3"
    },
    "slideshow": {
     "slide_type": "slide"
    }
   },
   "source": [
    "## Машинная арифметика\n",
    "Вычислительная техника оперирует числами с конечным числом (двоичных) цифр (числа с плавающей точкой, floating-point values)\n",
    "$$\n",
    "x = \\pm\\overline{1.b_1 b_2 \\dots b_K} \\cdot 2^e\n",
    "$$\n",
    "Сравните с научной нотацией для записи чисел\n",
    "$$\n",
    "x = 1.2345 \\cdot 10^6\n",
    "$$\n",
    "Числа в машинном представлении имеют _фиксированное число значащих цифр_ $K+1$.\n"
   ]
  },
  {
   "cell_type": "markdown",
   "metadata": {
    "nbpresent": {
     "id": "16fd05b0-8ac8-4da2-8980-54d0d253d110"
    },
    "slideshow": {
     "slide_type": "slide"
    }
   },
   "source": [
    "## Погрешность машинного представления\n",
    "Действительные числа в машинном представлении приходится округлять до $K$ значящих цифр. при этом реальное число $x$ находится где-то в диапазоне\n",
    "$$\n",
    "x \\in \\left[X - \\Delta X, X + \\Delta X\\right], \\qquad X = \\pm\\overline{1.b_1 b_2 \\dots b_K} \\cdot 2^e\\\\\n",
    "\\Delta X \\leqslant  \\frac{1}{2} 2^{-K} \\cdot 2^e \\leqslant |X| \\cdot 2^{-K-1}\n",
    "$$\n",
    "**Относительная погрешность** представления чисел в арифметике с плавающей точкой фиксированна:\n",
    "$$\n",
    "\\frac{\\Delta X}{|X|} \\leqslant \\delta = 2^{-K-1}\n",
    "$$"
   ]
  },
  {
   "cell_type": "markdown",
   "metadata": {
    "nbpresent": {
     "id": "40af6766-3ae3-4acc-8417-439eb8968553"
    },
    "slideshow": {
     "slide_type": "slide"
    }
   },
   "source": [
    "## Одинарная и двойная точность\n",
    "Стандартом IEEE определяются несколько форматов представления чисел в компьютере. Самыми распространенными являются\n",
    " * одинарная точность, single precision (`float` в C). Имеет $K = 23$ и обеспечивает относительную точность $\\delta = 2^{-24} \\approx 5.96 \\cdot 10^{-8}$\n",
    " * двойная точность, double precision (`double` в C). Имеет $K = 52$ и обеспечивает относительную точность $\\delta = 2^{-53} \\approx 1.11 \\cdot 10^{-16}$"
   ]
  },
  {
   "cell_type": "markdown",
   "metadata": {
    "nbpresent": {
     "id": "a67001a3-e51e-4a22-bdcd-249cde5581c1"
    },
    "slideshow": {
     "slide_type": "slide"
    }
   },
   "source": [
    "## Погрешность при вычислении функции\n",
    "Пусть $x^*$ — результат измерения величины $x$ с погрешностью $\\Delta x$ (то есть $|x^* - x | \\leqslant \\Delta x$). Пусть также $f(x)$ — некоторая функция. Интересует насколько $y = f(x)$ может отличаться от $y^* = f(x^*)$.\n",
    "\n",
    "Воспользуемся формулой Тейлора с остаточным членом в форме Лагранжа\n",
    "$$f(x) = f(x^*) + f'(\\xi) (x - x^*), \\quad \\xi \\in [x, x^*]$$\n",
    "Отсюда следует оценка $|y - y^*| \\leqslant |f'(\\xi)| \\Delta x$, содержащая неизвестную точку $\\xi$.\n",
    "$$\n",
    "|y - y^*| \\leqslant |f'(\\xi)| \\Delta x \\leqslant \\Delta x \\cdot \\max_{\\xi \\in [x^* - \\Delta x, x^* + \\Delta x]} |f'(\\xi)|\n",
    "$$"
   ]
  },
  {
   "cell_type": "markdown",
   "metadata": {
    "nbpresent": {
     "id": "e730e690-97c9-4acd-bf81-4c5ab0bbd48e"
    },
    "slideshow": {
     "slide_type": "subslide"
    }
   },
   "source": [
    "Из формулы Тейлора в форме Коши\n",
    "$$\n",
    "f(x) = f(x^*) + f'(x^*) (x - x^*) + O((x - x^*)^2)\n",
    "$$\n",
    "также можно получить оценку, если пренебречь слагаемым $O(\\Delta x^2).$\n",
    "\n",
    "В этом случае оценка имеет вид\n",
    "$$\n",
    "f(x) \\approx f(x^*) + f'(x^*) (x - x^*)\\\\\n",
    "|y - y^* | \\lesssim |f'(x^*)| \\Delta x\n",
    "$$\n",
    "Эта оценка погрешности — приближенная, она позволяет составить представление об ошибке, но пользоваться ей необходимо аккуратно. Например, если вдруг $f'(x^*) = 0$, эта оценка теряет смысл."
   ]
  },
  {
   "cell_type": "markdown",
   "metadata": {
    "nbpresent": {
     "id": "54519c05-1028-4e5c-a2d2-e21f821e99aa"
    },
    "slideshow": {
     "slide_type": "slide"
    }
   },
   "source": [
    "## Приближенные методы\n",
    "Многие методы вычислительной математики являются приближенными, то есть позволяют получить ответ с заданной точностью. Крайне важно уметь определять погрешность, обусловленную использованием приближенного метода. Такая погрешность называется **ошибкой метода**.\n",
    "\n",
    "Например, рассмотрим метод вычисления функции $e^x$, основанный на формуле Тейлора в окрестности $x = 0$.\n",
    "$$\n",
    "e^x \\approx 1 + x + \\frac{x^2}{2} + \\dots = \\sum_{k = 0}^{n-1} \\frac{x^k}{k!}.\n",
    "$$\n",
    "Отметим, что число $n$ является параметром метода."
   ]
  },
  {
   "cell_type": "markdown",
   "metadata": {
    "nbpresent": {
     "id": "4ae9a30c-81bc-4396-90d8-939a8e59f287"
    },
    "slideshow": {
     "slide_type": "slide"
    }
   },
   "source": [
    "## Суммирования ряда Тейлора\n",
    "С помощью формулы Тейлора с остаточным членов в форме Лагранжа удается оценить ошибку такого метода:\n",
    "$$\n",
    "S_n = \\sum_{k=0}^{n-1} \\frac{x^k}{k!}\\\\\n",
    "e^x = 1 + x + \\dots + \\frac{x^{n-1}}{(n-1)!} + e^{\\xi}\\frac{x^n}{n!}, \\quad \\xi \\in [0, x]\\\\\n",
    "|e^x - S_n| \\leqslant \\max(1, e^x) \\frac{|x|^n}{n!} \\equiv \\varepsilon_\\text{method}\n",
    "$$\n",
    "Несложно видеть, что при $n \\to \\infty$ ошибка метода стремится к нулю."
   ]
  },
  {
   "cell_type": "markdown",
   "metadata": {
    "nbpresent": {
     "id": "b92c1827-c799-44b9-b770-f45e95c917da"
    },
    "slideshow": {
     "slide_type": "subslide"
    }
   },
   "source": [
    "Если ряд является знакопеременным, как например, для функции $\\sin x$\n",
    "$$\n",
    "\\sin x \\approx S_n = x - \\frac{x^3}{6} + \\frac{x^5}{120} + \\dots = \\sum_{k=0}^{n-1} (-1)^k\\frac{x^{2k+1}}{(2k+1)!},\n",
    "$$\n",
    "в качестве ошибки метода можно использовать первое отброшенное слагаемое: \n",
    "$$\n",
    "|\\sin x - S_n| \\leqslant \\left|\\frac{x^{2n+1}}{(2n+1)!}\\right|.\n",
    "$$\n",
    "Такая оценка справедлива, если все отброшенные слагаемые знакопеременного ряда монотонно убывают по модулю."
   ]
  },
  {
   "cell_type": "code",
   "execution_count": 1,
   "metadata": {
    "collapsed": false,
    "nbpresent": {
     "id": "e29b9590-fc86-46fd-83be-3ff48c7a8df4"
    },
    "slideshow": {
     "slide_type": "slide"
    }
   },
   "outputs": [],
   "source": [
    "def myexp(x, n):\n",
    "    S = 0.\n",
    "    a = 1.\n",
    "    for k in range(n):\n",
    "        S += a\n",
    "        a *= x / (k + 1)\n",
    "    return S"
   ]
  },
  {
   "cell_type": "code",
   "execution_count": 2,
   "metadata": {
    "collapsed": false,
    "hideCode": true,
    "hidePrompt": false,
    "nbpresent": {
     "id": "bf40e897-f1f8-4e69-b826-fe53fb761aad"
    },
    "slideshow": {
     "slide_type": "subslide"
    }
   },
   "outputs": [
    {
     "data": {
      "image/png": "[encoded data removed]",
      "text/plain": [
       "<matplotlib.figure.Figure at 0x7fc1b01e2438>"
      ]
     },
     "metadata": {},
     "output_type": "display_data"
    }
   ],
   "source": [
    "import numpy as np\n",
    "from scipy.special import gamma\n",
    "import matplotlib.pyplot as plt\n",
    "%matplotlib inline\n",
    "plt.rc('font', **{'size' : 22})\n",
    "\n",
    "x = 1\n",
    "ns = []; errs = [];\n",
    "for n in range(30):\n",
    "    ns.append(n)\n",
    "    errs.append(abs(np.exp(x) - myexp(x, n)))\n",
    "ns = np.array(ns)\n",
    "\n",
    "plt.figure(figsize=(16, 12))\n",
    "plt.semilogy(ns, errs, 'k.', ms=16)\n",
    "plt.semilogy(ns, max(1, np.exp(x)) * x**ns / gamma(ns+1), 'r', lw=3)\n",
    "plt.ylim([1e-18, 1])\n",
    "plt.xlabel('$n$')\n",
    "plt.ylabel('$\\\\varepsilon$')\n",
    "plt.title('Error for $e^{%g}$' % x)\n",
    "plt.show()"
   ]
  },
  {
   "cell_type": "code",
   "execution_count": 3,
   "metadata": {
    "collapsed": false,
    "hideCode": true,
    "hidePrompt": false,
    "nbpresent": {
     "id": "bef00443-818c-4614-aa63-8a2e117462ec"
    },
    "slideshow": {
     "slide_type": "subslide"
    }
   },
   "outputs": [
    {
     "data": {
      "image/png": "[encoded data removed]",
      "text/plain": [
       "<matplotlib.figure.Figure at 0x7fc1721595f8>"
      ]
     },
     "metadata": {},
     "output_type": "display_data"
    }
   ],
   "source": [
    "from scipy.special import loggamma\n",
    "ns = []; errs = [];\n",
    "x = -30\n",
    "for n in range(0, 150, 5):\n",
    "    ns.append(n)\n",
    "    errs.append(abs(np.exp(x) - myexp(x, n)))\n",
    "ns = np.array(ns)\n",
    "plt.figure(figsize=(16, 12))\n",
    "plt.semilogy(ns, errs, 'k.', ms=16)\n",
    "plt.semilogy(ns, max(1, np.exp(x)) * np.exp(ns * np.log(abs(x)) \\\n",
    "                            - np.real(loggamma(ns+1))), 'r-', lw=3)\n",
    "plt.ylim([1e-16, 1e12])\n",
    "plt.title('Error for $e^{%g}$' % x)\n",
    "plt.xlabel('$n$')\n",
    "plt.ylabel('$\\\\varepsilon$')\n",
    "plt.show()"
   ]
  },
  {
   "cell_type": "markdown",
   "metadata": {
    "nbpresent": {
     "id": "cbb3d96a-fdd6-436e-86b6-1be446b43e84"
    },
    "slideshow": {
     "slide_type": "slide"
    }
   },
   "source": [
    "## Накопление ошибок округления\n",
    "Cуммируя величину $\\displaystyle S_n = \\sum_{k=0}^{n-1} a_n$\n",
    "в машинной арифметике, мы на самом деле суммируем *округленные* величины. Каждое слагаемое $a_n$ представлено с абсолютной погрешностью $\\Delta a_n \\leqslant |a_n| \\cdot \\delta$, где $\\delta$ — относительная ошибка округления. \n",
    "\n",
    "Так как при суммировании чисел их абсолюная погрешность суммируется, при вычислении $S_n$ накопится ошибка\n",
    "$$\n",
    "\\Delta S_n \\leqslant \\varepsilon_\\text{round} = \\sum_{k=0}^{n-1} |a_n| \\cdot \\delta = \\delta \\cdot \\sum_{k=0}^{n-1} |a_n|.\n",
    "$$"
   ]
  },
  {
   "cell_type": "markdown",
   "metadata": {
    "nbpresent": {
     "id": "7f2bdffe-4f2a-446b-8805-d4fd262fced1"
    },
    "slideshow": {
     "slide_type": "subslide"
    }
   },
   "source": [
    "При вычислении $e^{-30} \\approx 9.35 \\cdot 10^{-14}$ в худшем случе накапливается ошибка\n",
    "$$\n",
    "\\varepsilon_\\text{round} = \\delta \\cdot \\sum_{k=0}^{n-1} \\frac{|x|^k}{k!} \\approx \\delta \\sum_{k=0}^{\\infty}\n",
    "\\frac{|x|^k}{k!} = \\delta e^{|x|} \\approx 1.1 \\cdot 10^{-3}\n",
    "$$\n",
    "Фактически, ошибка превосходит результат на $10$ порядков.\n",
    "\n",
    "Заметим, что для знакопостоянного ряда такого случиться не могло:\n",
    "$$\n",
    "\\Delta S_n \\leq \\delta \\sum_{k=0}^{n-1} |a_n| = \\delta \\left|\\sum_{k=0}^{n-1} a_n\\right| = \\delta |S_n|\n",
    "\\implies \\frac{\\Delta S_n}{|S_n|} \\leq \\delta.\n",
    "$$"
   ]
  },
  {
   "cell_type": "markdown",
   "metadata": {
    "nbpresent": {
     "id": "795c8121-f820-4edc-aeba-fc399b38f4b2"
    },
    "slideshow": {
     "slide_type": "slide"
    }
   },
   "source": [
    "## Численное дифференцирование\n",
    "Дана функция $f(x)$ в виде черного ящика: ее можно вычислять в различных точках $x$ и получать резлультат с погрешностью $\\Delta f$. Известно, что функция достаточно гладкая, но конкретный вид функции не задан. Необходимо получить значение ее производной $f'(x)$ в точке $x_0$.\n",
    "\n",
    "Вспомним определение производной\n",
    "$$\n",
    "f'(x) = \\lim_{h \\to 0} \\frac{f(x+h) - f(x)}{h}.\n",
    "$$"
   ]
  },
  {
   "cell_type": "markdown",
   "metadata": {
    "slideshow": {
     "slide_type": "slide"
    }
   },
   "source": [
    "## Конечные разности\n",
    "Рассмотрим в качестве приближенного метода\n",
    "$$\n",
    "f'(x_0) \\approx \\frac{f(x_0 + h) - f(x_0)}{h}\n",
    "$$\n",
    "при некотором значении $h > 0$. Интуитивно понятно, что чем меньше $h$, тем точнее метод. Покажем это, найдя ошибку метода. Для этого нужно оценить величину\n",
    "$$\n",
    "\\left|f'(x_0) - \\frac{f(x_0 + h) - f(x_0)}{h}\\right|\n",
    "$$"
   ]
  },
  {
   "cell_type": "markdown",
   "metadata": {
    "slideshow": {
     "slide_type": "slide"
    }
   },
   "source": [
    "## Оценка ошибки метода для конечных разностей\n",
    "\n",
    "Воспользуемся формулой Тейлора с остаточным членом в форме Лагранжа:\n",
    "$$\n",
    "f(x_0 + h) = f(x_0) + f'(x_0) h + \\frac{f''(\\xi)}{2} h^2, \\;\\; \\xi \\in [x_0, x_0 + h].\\\\\n",
    "\\left|f'(x_0) - \\frac{f(x_0 + h) - f(x_0)}{h}\\right| = \\frac{|f''(\\xi)|h}{2}.\n",
    "$$\n",
    "Пусть известно, что $|f''(\\xi)| \\leq M_2$. Тогда ошибку метода можно оценить как\n",
    "$$\n",
    "\\left|f'(x_0) - \\frac{f(x_0 + h) - f(x_0)}{h}\\right| \\leqslant \\varepsilon_\\text{method} = \\frac{M_2 h}{2}.\n",
    "$$"
   ]
  },
  {
   "cell_type": "markdown",
   "metadata": {
    "slideshow": {
     "slide_type": "subslide"
    }
   },
   "source": [
    "Из оценки\n",
    "$$\n",
    "\\left|f'(x_0) - \\frac{f(x_0 + h) - f(x_0)}{h}\\right| \\leqslant \\varepsilon_\\text{method} = \\frac{M_2 h}{2}.\n",
    "$$\n",
    "видно, что ошибка метода стремится к нулю при $h \\to 0$, причем $ \\varepsilon_\\text{method} = O(h)$.\n",
    "\n",
    "Говорят, что данный метод имеет *первый порядок*, так как его ошибка стремится к нулю как первая степень величины $h$, которую называют *шагом дифференцирования*"
   ]
  },
  {
   "cell_type": "markdown",
   "metadata": {
    "slideshow": {
     "slide_type": "subslide"
    }
   },
   "source": [
    "$$\n",
    "f'(x) \\approx \\frac{f(x + h) - f(x - h)}{2h}.\n",
    "$$\n",
    "Пользуясь такими же разложениями\n",
    "$$\n",
    "f(x_0 \\pm h) = f(x_0) \\pm f'(x_0) h + \\frac{f''(x_0)}{2} h^2 \\pm \\frac{f'''(\\xi_{1,2})}{6} h^3,\\\\\n",
    "\\xi_1 \\in [x_0 - h, x_0], \\xi_2 \\in [x_0, x_0 + h],\n",
    "$$\n",
    "заключаем, что\n",
    "$$\n",
    "\\left|f'(x_0) - \\frac{f(x_0 + h) - f(x_0 - h)}{2h}\\right| = \\frac{|f'''(\\xi_2) + f'''(\\xi_1)|h^2}{12},\\\\\n",
    "\\left|f'(x_0) - \\frac{f(x_0 + h) - f(x_0 - h)}{2h}\\right| \\leqslant  \\varepsilon_\\text{method} = \\frac{M_3 h^2}{6}, \\qquad M_3 = \\max |f'''(\\xi)|\n",
    "$$\n",
    "Отметим, что данный метод имеет *второй порядок*, так как $\\varepsilon_\\text{method} = O(h^2)$."
   ]
  },
  {
   "cell_type": "code",
   "execution_count": 4,
   "metadata": {
    "collapsed": true,
    "slideshow": {
     "slide_type": "slide"
    }
   },
   "outputs": [],
   "source": [
    "def diff1(f, x0, h):\n",
    "    return (f(x0 + h) - f(x0)) / h\n",
    "\n",
    "def diff2(f, x0, h):\n",
    "    return (f(x0 + h) - f(x0 - h)) / (2 * h)"
   ]
  },
  {
   "cell_type": "code",
   "execution_count": 5,
   "metadata": {
    "collapsed": false,
    "hideCode": true,
    "hideOutput": false,
    "hidePrompt": false,
    "slideshow": {
     "slide_type": "subslide"
    }
   },
   "outputs": [
    {
     "data": {
      "image/png": "[encoded data removed]",
      "text/plain": [
       "<matplotlib.figure.Figure at 0x7fc1b21e5e48>"
      ]
     },
     "metadata": {},
     "output_type": "display_data"
    }
   ],
   "source": [
    "hs = np.logspace(-16, 0, num=50) # h = 1e-16 ... 1\n",
    "errs1 = []\n",
    "errs2 = []\n",
    "for h in hs:\n",
    "    errs1.append(abs(diff1(np.sin, 1, h) - np.cos(1)))\n",
    "    errs2.append(abs(diff2(np.sin, 1, h) - np.cos(1)))\n",
    "\n",
    "M2 = M3 = 1\n",
    "plt.figure(figsize=(16, 12))\n",
    "plt.loglog(hs, errs1, 'k.', ms=16)\n",
    "plt.loglog(hs, errs2, 'r.', ms=16)\n",
    "plt.loglog(hs, M2 * hs / 2, 'k-', label='First order', lw=3)\n",
    "plt.loglog(hs, M3 * hs**2 / 6, 'r-', label='Second order', lw=3)\n",
    "plt.ylim(1e-14, 1)\n",
    "plt.xlabel('$h$')\n",
    "plt.ylabel('$\\\\varepsilon$')\n",
    "plt.legend(loc='upper center')\n",
    "plt.show()"
   ]
  },
  {
   "cell_type": "markdown",
   "metadata": {
    "slideshow": {
     "slide_type": "slide"
    }
   },
   "source": [
    "## Погрешности при дифференцировании\n",
    "\n",
    "Вспомним, что функция $f(x)$ вычисляется с погрешностью $\\Delta f$. При вычислении\n",
    "$$f'(x_0) \\approx \\frac{f(x_0 + h) - f(x_0)}{h}$$\n",
    "из-за приближенных значений $f(x_0 + h)$ и $f(x_0)$ появляется ошибка\n",
    "$$\n",
    "\\varepsilon_\\text{comp} = \\frac{2\\Delta f}{h}\n",
    "$$\n",
    "соответственно. Эта ошибка при уменьшении $h$ *растет* как $O(h^{-1})$. "
   ]
  },
  {
   "cell_type": "markdown",
   "metadata": {
    "slideshow": {
     "slide_type": "slide"
    }
   },
   "source": [
    "## Оптимальный шаг дифференцирования\n",
    "\n",
    "При дифференцировании функции имеются два основных источника погрешности\n",
    " * Ошибка метода — уменьшается при уменьшении $h$\n",
    " * Ошибка вычислений — растет при уменьшении $h$\n",
    " \n",
    "Поскольку характер роста ошибок различный, существует неокторое значение $h^*$, при котором ошибка минимальна. Рассмотим полную ошибку $$\n",
    "\\varepsilon_\\text{total} = \\varepsilon_\\text{method} + \\varepsilon_\\text{comp}\n",
    "$$\n",
    "как функцию от $h$ и найдем минимум."
   ]
  },
  {
   "cell_type": "markdown",
   "metadata": {
    "slideshow": {
     "slide_type": "subslide"
    }
   },
   "source": [
    "Продифферецируем полную ошибку\n",
    "$$\n",
    "\\varepsilon_{\\text{total}}(h) = \\frac{M_2h}{2} + \\frac{2\\Delta f}{h}\\\\\n",
    "$$\n",
    "по $h$:\n",
    "$$\n",
    "0 = \\varepsilon_\\text{total}'(h^*) = \\frac{M_2}{2} - \\frac{2\\Delta f}{{h^*}^2}\\\\h^* = 2\\sqrt\\frac{\\Delta f}{M_2}\n",
    "$$\n",
    "\n",
    "Для функции $f(x) = \\sin x$ оценки производных $M_2 = M_3 = 1$. Также примем $\\Delta f = 10^{-16}$. При этом\n",
    "$$\n",
    "h^* = 2 \\cdot 10^{-8}, \\qquad \\varepsilon_{\\text{total}}^* = 2\\cdot 10^{-8}\n",
    "$$"
   ]
  },
  {
   "cell_type": "markdown",
   "metadata": {
    "slideshow": {
     "slide_type": "subslide"
    }
   },
   "source": [
    "Проделав то же самое для формулы дифференцирования второго порядка, получаем\n",
    "$$\n",
    "\\varepsilon_{\\text{total}}(h) = \\frac{M_3h^2}{6} + \\frac{2\\Delta f}{2h}\\\\\n",
    "$$\n",
    "по $h$:\n",
    "$$\n",
    "0 = \\varepsilon_\\text{total}'(h^*) = \\frac{M_3h^*}{3} - \\frac{\\Delta f}{{h^*}^2}\\\\h^* = \\sqrt[3]\\frac{3\\Delta f}{M_3}\n",
    "$$\n",
    "\n",
    "При тех же значениях $M_2, M_3$ и $\\Delta f$ получаем\n",
    "$$\n",
    "h^* \\approx 6.69 \\cdot 10^{-6}, \\qquad \\varepsilon_{\\text{total}}^* \\approx 2.24\\cdot 10^{-11}\n",
    "$$"
   ]
  },
  {
   "cell_type": "markdown",
   "metadata": {
    "slideshow": {
     "slide_type": "subslide"
    }
   },
   "source": [
    "Хорошо видно, что метод второго порядка позволил добиться более высокой точности при большем шаге дифференцирования.\n",
    "\n",
    "Методы повышеного порядка обычно позволяют\n",
    "* добиться большей точности при меньших вычислительных затаратах\n",
    "* получить более точный результат в рамках той же точности вычислений"
   ]
  }
 ],
 "metadata": {
  "anaconda-cloud": {},
  "celltoolbar": "Slideshow",
  "kernelspec": {
   "display_name": "Python [default]",
   "language": "python",
   "name": "python3"
  },
  "language_info": {
   "codemirror_mode": {
    "name": "ipython",
    "version": 3
   },
   "file_extension": ".py",
   "mimetype": "text/x-python",
   "name": "python",
   "nbconvert_exporter": "python",
   "pygments_lexer": "ipython3",
   "version": "3.5.2"
  },
  "livereveal": {
   "theme": "beige",
   "transition": "none"
  },
  "nbpresent": {
   "slides": {
    "1ffee25c-251f-4cbf-af3d-a1d5521081b9": {
     "id": "1ffee25c-251f-4cbf-af3d-a1d5521081b9",
     "prev": "eb43fa9f-eb7c-417b-ab1a-99371ff452e2",
     "regions": {
      "2e1a7b46-c253-4096-a0a5-dfbc6cfb086e": {
       "attrs": {
        "height": 0.8,
        "width": 0.8,
        "x": 0.1,
        "y": 0.1
       },
       "content": {
        "cell": "bf40e897-f1f8-4e69-b826-fe53fb761aad",
        "part": "whole"
       },
       "id": "2e1a7b46-c253-4096-a0a5-dfbc6cfb086e"
      }
     }
    },
    "37c43f64-6426-4a98-8de1-a6ca1dd72190": {
     "id": "37c43f64-6426-4a98-8de1-a6ca1dd72190",
     "prev": "d2b700ea-e44e-4bed-9ce4-ddf1532b44cb",
     "regions": {
      "45a20e24-b33f-4c55-8df2-e96075b5e2af": {
       "attrs": {
        "height": 0.8,
        "width": 0.8,
        "x": 0.1,
        "y": 0.1
       },
       "content": {
        "cell": "e730e690-97c9-4acd-bf81-4c5ab0bbd48e",
        "part": "whole"
       },
       "id": "45a20e24-b33f-4c55-8df2-e96075b5e2af"
      }
     }
    },
    "5bf0841a-23d1-413e-a557-911111e3e336": {
     "id": "5bf0841a-23d1-413e-a557-911111e3e336",
     "prev": "ebd3a807-2380-4bd6-8e58-c9424f3ed713",
     "regions": {
      "3c8adac9-5366-49e9-96ab-965c77e83485": {
       "attrs": {
        "height": 0.8,
        "width": 0.8,
        "x": 0.1,
        "y": 0.1
       },
       "content": {
        "cell": "2e08a439-2699-4ecf-9189-dfbbf745ad4e",
        "part": "whole"
       },
       "id": "3c8adac9-5366-49e9-96ab-965c77e83485"
      }
     }
    },
    "60ffd9bc-f20d-41e5-8771-5f11695177c6": {
     "id": "60ffd9bc-f20d-41e5-8771-5f11695177c6",
     "prev": "97575fe4-de27-4833-b616-7479f99519d0",
     "regions": {
      "807a955a-60c8-4f03-8734-54dfd52113d6": {
       "attrs": {
        "height": 0.8,
        "width": 0.8,
        "x": 0.1,
        "y": 0.1
       },
       "content": {
        "cell": "795c8121-f820-4edc-aeba-fc399b38f4b2",
        "part": "whole"
       },
       "id": "807a955a-60c8-4f03-8734-54dfd52113d6"
      }
     }
    },
    "623d8bc9-43df-451f-b862-76c2b54708ea": {
     "id": "623d8bc9-43df-451f-b862-76c2b54708ea",
     "prev": "eded54a5-7710-4ab6-8229-3ca4029d1ae7",
     "regions": {
      "42b1d4d4-2905-454b-b564-92f58dec8f81": {
       "attrs": {
        "height": 0.8,
        "width": 0.8,
        "x": 0.1,
        "y": 0.1
       },
       "content": {
        "cell": "16fd05b0-8ac8-4da2-8980-54d0d253d110",
        "part": "whole"
       },
       "id": "42b1d4d4-2905-454b-b564-92f58dec8f81"
      }
     }
    },
    "6dabcfe1-1c90-4893-8f01-c39e431f00bb": {
     "id": "6dabcfe1-1c90-4893-8f01-c39e431f00bb",
     "prev": "37c43f64-6426-4a98-8de1-a6ca1dd72190",
     "regions": {
      "1126b4c4-7df3-4db1-962b-abe099db9928": {
       "attrs": {
        "height": 0.8,
        "width": 0.8,
        "x": 0.1,
        "y": 0.1
       },
       "content": {
        "cell": "54519c05-1028-4e5c-a2d2-e21f821e99aa",
        "part": "whole"
       },
       "id": "1126b4c4-7df3-4db1-962b-abe099db9928"
      }
     }
    },
    "91753ba8-05fe-465f-806d-0faf4a21a031": {
     "id": "91753ba8-05fe-465f-806d-0faf4a21a031",
     "prev": "5bf0841a-23d1-413e-a557-911111e3e336",
     "regions": {
      "eb271beb-70d0-452e-b896-43695be4ae85": {
       "attrs": {
        "height": 0.8,
        "width": 0.8,
        "x": 0.1,
        "y": 0.1
       },
       "content": {
        "cell": "31cc3d04-22a5-4773-b4e1-abfb09f8bbc2",
        "part": "whole"
       },
       "id": "eb271beb-70d0-452e-b896-43695be4ae85"
      }
     }
    },
    "97575fe4-de27-4833-b616-7479f99519d0": {
     "id": "97575fe4-de27-4833-b616-7479f99519d0",
     "prev": "b8aebb38-1266-40c2-928a-026f9d33ec5c",
     "regions": {
      "01deb5d1-73e8-4d64-b93e-e7646647af3b": {
       "attrs": {
        "height": 0.8,
        "width": 0.8,
        "x": 0.1,
        "y": 0.1
       },
       "content": {
        "cell": "7f2bdffe-4f2a-446b-8805-d4fd262fced1",
        "part": "whole"
       },
       "id": "01deb5d1-73e8-4d64-b93e-e7646647af3b"
      }
     }
    },
    "9cc88d72-9ac9-4c24-96d5-abc94cea6e92": {
     "id": "9cc88d72-9ac9-4c24-96d5-abc94cea6e92",
     "prev": "1ffee25c-251f-4cbf-af3d-a1d5521081b9",
     "regions": {
      "78febecd-5100-493b-8f0d-0cc35ceae42e": {
       "attrs": {
        "height": 0.8,
        "width": 0.8,
        "x": 0.1,
        "y": 0.1
       },
       "content": {
        "cell": "bef00443-818c-4614-aa63-8a2e117462ec",
        "part": "whole"
       },
       "id": "78febecd-5100-493b-8f0d-0cc35ceae42e"
      }
     }
    },
    "a5df524d-67a8-4ae1-8258-9231728bdd14": {
     "id": "a5df524d-67a8-4ae1-8258-9231728bdd14",
     "prev": "623d8bc9-43df-451f-b862-76c2b54708ea",
     "regions": {
      "68e876ca-f943-4b2e-8268-439db992b310": {
       "attrs": {
        "height": 0.8,
        "width": 0.8,
        "x": 0.1,
        "y": 0.1
       },
       "content": {
        "cell": "40af6766-3ae3-4acc-8417-439eb8968553",
        "part": "whole"
       },
       "id": "68e876ca-f943-4b2e-8268-439db992b310"
      }
     }
    },
    "b62355d8-8b93-4dfc-8016-6548952c0f8c": {
     "id": "b62355d8-8b93-4dfc-8016-6548952c0f8c",
     "prev": "f59840cf-124e-4d10-8b89-3aafe98f38ba",
     "regions": {
      "381cc6bd-bde3-4d58-8277-99fbd69c7a4f": {
       "attrs": {
        "height": 0.8,
        "width": 0.8,
        "x": 0.1,
        "y": 0.1
       },
       "content": {
        "cell": "b92c1827-c799-44b9-b770-f45e95c917da",
        "part": "whole"
       },
       "id": "381cc6bd-bde3-4d58-8277-99fbd69c7a4f"
      }
     }
    },
    "b8aebb38-1266-40c2-928a-026f9d33ec5c": {
     "id": "b8aebb38-1266-40c2-928a-026f9d33ec5c",
     "prev": "9cc88d72-9ac9-4c24-96d5-abc94cea6e92",
     "regions": {
      "1bc2d24e-0782-443b-83a4-bc683c5ac6cb": {
       "attrs": {
        "height": 0.8,
        "width": 0.8,
        "x": 0.1,
        "y": 0.1
       },
       "content": {
        "cell": "cbb3d96a-fdd6-436e-86b6-1be446b43e84",
        "part": "whole"
       },
       "id": "1bc2d24e-0782-443b-83a4-bc683c5ac6cb"
      }
     }
    },
    "d2b700ea-e44e-4bed-9ce4-ddf1532b44cb": {
     "id": "d2b700ea-e44e-4bed-9ce4-ddf1532b44cb",
     "prev": "a5df524d-67a8-4ae1-8258-9231728bdd14",
     "regions": {
      "474bc80d-f262-4e62-afae-4565c0979e03": {
       "attrs": {
        "height": 0.8,
        "width": 0.8,
        "x": 0.1,
        "y": 0.1
       },
       "content": {
        "cell": "a67001a3-e51e-4a22-bdcd-249cde5581c1",
        "part": "whole"
       },
       "id": "474bc80d-f262-4e62-afae-4565c0979e03"
      }
     }
    },
    "d989978f-1d85-4802-953f-0e82f1a0fd51": {
     "id": "d989978f-1d85-4802-953f-0e82f1a0fd51",
     "prev": null,
     "regions": {
      "e3ddb97a-209b-4c70-91d7-df0cadcefb0d": {
       "attrs": {
        "height": 0.8,
        "width": 0.8,
        "x": 0.1,
        "y": 0.1
       },
       "content": {
        "cell": "13101ac1-2637-4d0f-9f1f-cd32215b02c3",
        "part": "whole"
       },
       "id": "e3ddb97a-209b-4c70-91d7-df0cadcefb0d"
      }
     }
    },
    "eb43fa9f-eb7c-417b-ab1a-99371ff452e2": {
     "id": "eb43fa9f-eb7c-417b-ab1a-99371ff452e2",
     "prev": "b62355d8-8b93-4dfc-8016-6548952c0f8c",
     "regions": {
      "b9415d21-f857-4a93-a788-c7dc51dedea0": {
       "attrs": {
        "height": 0.8,
        "width": 0.8,
        "x": 0.1,
        "y": 0.1
       },
       "content": {
        "cell": "e29b9590-fc86-46fd-83be-3ff48c7a8df4",
        "part": "whole"
       },
       "id": "b9415d21-f857-4a93-a788-c7dc51dedea0"
      }
     }
    },
    "ebd3a807-2380-4bd6-8e58-c9424f3ed713": {
     "id": "ebd3a807-2380-4bd6-8e58-c9424f3ed713",
     "prev": "f3fb61c6-f807-4942-8c41-0e80240a5146",
     "regions": {
      "7eaeb4e2-d47e-43e4-92c4-ed8cc1e9aac7": {
       "attrs": {
        "height": 0.8,
        "width": 0.8,
        "x": 0.1,
        "y": 0.1
       },
       "content": {
        "cell": "412353c7-42b2-42c7-8702-69568c809a97",
        "part": "whole"
       },
       "id": "7eaeb4e2-d47e-43e4-92c4-ed8cc1e9aac7"
      }
     }
    },
    "eded54a5-7710-4ab6-8229-3ca4029d1ae7": {
     "id": "eded54a5-7710-4ab6-8229-3ca4029d1ae7",
     "prev": "91753ba8-05fe-465f-806d-0faf4a21a031",
     "regions": {
      "816c3f73-4147-4cdb-b7d1-f5f82fa6003b": {
       "attrs": {
        "height": 0.8,
        "width": 0.8,
        "x": 0.1,
        "y": 0.1
       },
       "content": {
        "cell": "fa2d4b89-0d7a-41f1-8635-c5905d106cf3",
        "part": "whole"
       },
       "id": "816c3f73-4147-4cdb-b7d1-f5f82fa6003b"
      }
     }
    },
    "f3fb61c6-f807-4942-8c41-0e80240a5146": {
     "id": "f3fb61c6-f807-4942-8c41-0e80240a5146",
     "prev": "d989978f-1d85-4802-953f-0e82f1a0fd51",
     "regions": {
      "4f7abbfb-161b-44ce-bdab-05ef0b2a5542": {
       "attrs": {
        "height": 0.8,
        "width": 0.8,
        "x": 0.1,
        "y": 0.1
       },
       "content": {
        "cell": "8ce7bf3f-66e0-4462-a540-e87bceeadb7f",
        "part": "whole"
       },
       "id": "4f7abbfb-161b-44ce-bdab-05ef0b2a5542"
      }
     }
    },
    "f59840cf-124e-4d10-8b89-3aafe98f38ba": {
     "id": "f59840cf-124e-4d10-8b89-3aafe98f38ba",
     "prev": "6dabcfe1-1c90-4893-8f01-c39e431f00bb",
     "regions": {
      "e67fa4b9-f237-40ff-8621-fcdbfdd83101": {
       "attrs": {
        "height": 0.8,
        "width": 0.8,
        "x": 0.1,
        "y": 0.1
       },
       "content": {
        "cell": "4ae9a30c-81bc-4396-90d8-939a8e59f287",
        "part": "whole"
       },
       "id": "e67fa4b9-f237-40ff-8621-fcdbfdd83101"
      }
     }
    }
   },
   "themes": {
    "default": "c04eebe0-c348-41e9-bcfb-a65d4bd126df",
    "theme": {
     "c04eebe0-c348-41e9-bcfb-a65d4bd126df": {
      "id": "c04eebe0-c348-41e9-bcfb-a65d4bd126df",
      "palette": {
       "19cc588f-0593-49c9-9f4b-e4d7cc113b1c": {
        "id": "19cc588f-0593-49c9-9f4b-e4d7cc113b1c",
        "rgb": [
         252,
         252,
         252
        ]
       },
       "31af15d2-7e15-44c5-ab5e-e04b16a89eff": {
        "id": "31af15d2-7e15-44c5-ab5e-e04b16a89eff",
        "rgb": [
         68,
         68,
         68
        ]
       },
       "50f92c45-a630-455b-aec3-788680ec7410": {
        "id": "50f92c45-a630-455b-aec3-788680ec7410",
        "rgb": [
         155,
         177,
         192
        ]
       },
       "c5cc3653-2ee1-402a-aba2-7caae1da4f6c": {
        "id": "c5cc3653-2ee1-402a-aba2-7caae1da4f6c",
        "rgb": [
         43,
         126,
         184
        ]
       },
       "efa7f048-9acb-414c-8b04-a26811511a21": {
        "id": "efa7f048-9acb-414c-8b04-a26811511a21",
        "rgb": [
         25.118061674008803,
         73.60176211453744,
         107.4819383259912
        ]
       }
      },
      "rules": {
       "blockquote": {
        "color": "50f92c45-a630-455b-aec3-788680ec7410"
       },
       "code": {
        "font-family": "Anonymous Pro"
       },
       "h1": {
        "color": "c5cc3653-2ee1-402a-aba2-7caae1da4f6c",
        "font-family": "Lato",
        "font-size": 8
       },
       "h2": {
        "color": "c5cc3653-2ee1-402a-aba2-7caae1da4f6c",
        "font-family": "Lato",
        "font-size": 6
       },
       "h3": {
        "color": "50f92c45-a630-455b-aec3-788680ec7410",
        "font-family": "Lato",
        "font-size": 5.5
       },
       "h4": {
        "color": "c5cc3653-2ee1-402a-aba2-7caae1da4f6c",
        "font-family": "Lato",
        "font-size": 5
       },
       "h5": {
        "font-family": "Lato"
       },
       "h6": {
        "font-family": "Lato"
       },
       "h7": {
        "font-family": "Lato"
       },
       "pre": {
        "font-family": "Anonymous Pro",
        "font-size": 4
       }
      },
      "text-base": {
       "font-family": "Merriweather",
       "font-size": 4
      }
     },
     "f0b95bb9-67a7-4d14-bf09-657a5b556dbe": {
      "id": "f0b95bb9-67a7-4d14-bf09-657a5b556dbe",
      "palette": {
       "19cc588f-0593-49c9-9f4b-e4d7cc113b1c": {
        "id": "19cc588f-0593-49c9-9f4b-e4d7cc113b1c",
        "rgb": [
         252,
         252,
         252
        ]
       },
       "31af15d2-7e15-44c5-ab5e-e04b16a89eff": {
        "id": "31af15d2-7e15-44c5-ab5e-e04b16a89eff",
        "rgb": [
         68,
         68,
         68
        ]
       },
       "50f92c45-a630-455b-aec3-788680ec7410": {
        "id": "50f92c45-a630-455b-aec3-788680ec7410",
        "rgb": [
         155,
         177,
         192
        ]
       },
       "c5cc3653-2ee1-402a-aba2-7caae1da4f6c": {
        "id": "c5cc3653-2ee1-402a-aba2-7caae1da4f6c",
        "rgb": [
         43,
         126,
         184
        ]
       },
       "efa7f048-9acb-414c-8b04-a26811511a21": {
        "id": "efa7f048-9acb-414c-8b04-a26811511a21",
        "rgb": [
         25.118061674008803,
         73.60176211453744,
         107.4819383259912
        ]
       }
      },
      "rules": {
       "blockquote": {
        "color": "50f92c45-a630-455b-aec3-788680ec7410"
       },
       "code": {
        "font-family": "Anonymous Pro"
       },
       "h1": {
        "color": "c5cc3653-2ee1-402a-aba2-7caae1da4f6c",
        "font-family": "Lato",
        "font-size": 8
       },
       "h2": {
        "color": "c5cc3653-2ee1-402a-aba2-7caae1da4f6c",
        "font-family": "Lato",
        "font-size": 6
       },
       "h3": {
        "color": "50f92c45-a630-455b-aec3-788680ec7410",
        "font-family": "Lato",
        "font-size": 5.5
       },
       "h4": {
        "color": "c5cc3653-2ee1-402a-aba2-7caae1da4f6c",
        "font-family": "Lato",
        "font-size": 5
       },
       "h5": {
        "font-family": "Lato"
       },
       "h6": {
        "font-family": "Lato"
       },
       "h7": {
        "font-family": "Lato"
       },
       "pre": {
        "font-family": "Anonymous Pro",
        "font-size": 4
       }
      },
      "text-base": {
       "font-family": "Merriweather",
       "font-size": 4
      }
     }
    }
   }
  }
 },
 "nbformat": 4,
 "nbformat_minor": 0
}
