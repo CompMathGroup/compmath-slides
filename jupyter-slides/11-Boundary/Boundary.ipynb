{
 "cells": [
  {
   "cell_type": "markdown",
   "metadata": {
    "nbpresent": {
     "id": "13101ac1-2637-4d0f-9f1f-cd32215b02c3"
    },
    "slideshow": {
     "slide_type": "slide"
    }
   },
   "source": [
    "## Краевая задача для ОДУ\n",
    "\n",
    "\n",
    "Цыбулин Иван ([tsybulin@crec.mipt.ru](mailto:tsybulin@crec.mipt.ru))"
   ]
  },
  {
   "cell_type": "markdown",
   "metadata": {
    "slideshow": {
     "slide_type": "slide"
    }
   },
   "source": [
    "### Линейная краевая задача для ОДУ\n",
    "\n",
    "$$\\begin{aligned}\n",
    "\\frac{d\\mathbf y(x)}{dx} &= \\mathbf A(x) \\mathbf y(x) + \\mathbf f(x), \\qquad x \\in [a, b]\\\\\n",
    "&\\ell_i^\\top \\mathbf y(a) = \\alpha_i, \\quad i = 1,\\dots,r\\\\\n",
    "&\\ell_i^\\top \\mathbf y(b) = \\alpha_i, \\quad i = r+1,\\dots,n\n",
    "\\end{aligned}\n",
    "$$"
   ]
  },
  {
   "cell_type": "markdown",
   "metadata": {
    "slideshow": {
     "slide_type": "slide"
    }
   },
   "source": [
    "### Построение фундаментальной системы\n",
    "Решение ОДУ зависит от $n$ констант, причем в линейном случае можно записать\n",
    "$$\n",
    "\\mathbf y(x) = \\mathbf y_0(x) + \\sum_{i=1}^n C_i \\mathbf y_i(x),\n",
    "$$\n",
    "где $\\mathbf y_0(x)$ &mdash; частное решение ОДУ, $\\mathbf y_i(x)$ &mdash; линейно независимые решения однородного уравнения\n",
    "$$\n",
    "\\frac{d\\mathbf y(x)}{dx} = \\mathbf A(x) \\mathbf y(x), \\qquad x \\in [a, b]\n",
    "$$"
   ]
  },
  {
   "cell_type": "markdown",
   "metadata": {
    "slideshow": {
     "slide_type": "subslide"
    }
   },
   "source": [
    "Фундаментальную систему можно построить численно. Для этого можно найти каждое $\\mathbf y_i(x)$, сформулировав для нее подходящую задачу Коши. Например,\n",
    "\n",
    "$$\n",
    "\\begin{cases}\n",
    "\\dfrac{d\\mathbf y_0(x)}{dx} &= \\mathbf A(x) \\mathbf y_0(x) + \\mathbf f(x)\\\\\n",
    "\\mathbf y_0(a) &= \\mathbf 0\n",
    "\\end{cases}\n",
    "\\qquad\n",
    "\\begin{cases}\n",
    "\\dfrac{d\\mathbf y_i(x)}{dx} &= \\mathbf A(x) \\mathbf y_i(x)\\\\\n",
    "\\mathbf y_i(a) &= \\mathbf e_i\n",
    "\\end{cases}\n",
    "$$"
   ]
  },
  {
   "cell_type": "markdown",
   "metadata": {
    "collapsed": true,
    "slideshow": {
     "slide_type": "slide"
    }
   },
   "source": [
    "### Решение краевой задачи\n",
    "После нахождения фундаментральной системы, решение краевой задачи сводится к разрешению краевых условий относительно $C_i$:\n",
    "\n",
    "$$\\begin{aligned}\n",
    "&\\ell_i^\\top \\left[\\mathbf y_0(a) + \\sum_{i=1}^n C_i \\mathbf y_i(a)\\right] = \\alpha_i, \\quad i = 1,\\dots,r\\\\\n",
    "&\\ell_i^\\top \\left[\\mathbf y_0(b) + \\sum_{i=1}^n C_i \\mathbf y_i(b)\\right] = \\alpha_i, \\quad i = r+1,\\dots,n\n",
    "\\end{aligned}\n",
    "$$\n",
    "Это линейная система из $n$ уравнений для $n$ неизвестных $C_i$."
   ]
  },
  {
   "cell_type": "markdown",
   "metadata": {
    "slideshow": {
     "slide_type": "slide"
    }
   },
   "source": [
    "Решим численно систему\n",
    "$$\n",
    "\\begin{aligned}\n",
    "u'(x) &= v(x)\\\\\n",
    "v'(x) &= (1-x^2) u(x) + e^{-x}\\\\\n",
    "u(0) = 1,&\\qquad u(2) + v(2) = 0\n",
    "\\end{aligned}\n",
    "$$"
   ]
  },
  {
   "cell_type": "code",
   "execution_count": 24,
   "metadata": {
    "collapsed": true,
    "slideshow": {
     "slide_type": "skip"
    }
   },
   "outputs": [],
   "source": [
    "import numpy as np\n",
    "import matplotlib.pyplot as plt\n",
    "%matplotlib inline\n",
    "\n",
    "def rk4(f, tau, t, u):\n",
    "    k1 = f(t, u)\n",
    "    k2 = f(t + tau/2, u + tau/2*k1)\n",
    "    k3 = f(t + tau/2, u + tau/2*k2)\n",
    "    k4 = f(t + tau  , u + tau  *k3)\n",
    "    return u + tau * (k1 + 2*k2 + 2*k3 + k4) / 6\n",
    "rk4.order = 4; rk4.name = 'Классический метод РК 4 порядка'\n",
    "\n",
    "def fixed_stepsize(f, y0, tmax, method, tau=0.1, verbose=False):\n",
    "    t = 0; u = y0\n",
    "    T = [0]; Y = [y0]\n",
    "    name = method.name\n",
    "    while t < tmax:\n",
    "        # Если последний шаг выхдит за tmax - уменьшаем tau\n",
    "        if t + tau > tmax: tau = tmax - t\n",
    "        u = method(f, tau, t, u)\n",
    "        t += tau;\n",
    "        T.append(t)\n",
    "        Y.append(u)\n",
    "    if verbose:\n",
    "        print('%s, всего шагов: %d'%(name, len(T)-1))\n",
    "    return np.array(T), np.array(Y)"
   ]
  },
  {
   "cell_type": "code",
   "execution_count": 45,
   "metadata": {
    "collapsed": false,
    "slideshow": {
     "slide_type": "slide"
    }
   },
   "outputs": [
    {
     "name": "stdout",
     "output_type": "stream",
     "text": [
      "Классический метод РК 4 порядка, всего шагов: 200\n"
     ]
    },
    {
     "data": {
      "image/png": "[encoded data removed]",
      "text/plain": [
       "<matplotlib.figure.Figure at 0x7ff4f6a6a3c8>"
      ]
     },
     "metadata": {},
     "output_type": "display_data"
    }
   ],
   "source": [
    "def G(x, y): # Правая часть неоднородной ОДУ\n",
    "    u, v = y; return np.array([v, (1-x*x)*u + np.exp(-x)])\n",
    "def Ghom(x, y): # Правая часть однородной ОДУ\n",
    "    u, v = y; return np.array([v, (1-x*x)*u])\n",
    "a = 0; b = 2\n",
    "X, Y0 = fixed_stepsize(G   , np.array([0., 0.]), b, rk4, b / 200, verbose=True)\n",
    "X, Y1 = fixed_stepsize(Ghom, np.array([1., 0.]), b, rk4, b / 200)\n",
    "X, Y2 = fixed_stepsize(Ghom, np.array([0., 1.]), b, rk4, b / 200)\n",
    "\n",
    "plt.figure(figsize=(15, 3)); plt.rc('font', size=14)\n",
    "plt.subplot(1, 3, 1); plt.plot(X, Y0); plt.title(r'${\\bf y}_0(x)$')\n",
    "plt.subplot(1, 3, 2); plt.plot(X, Y1); plt.title(r'${\\bf y}_1(x)$')\n",
    "plt.subplot(1, 3, 3); plt.plot(X, Y2); plt.title(r'${\\bf y}_2(x)$')\n",
    "plt.show()"
   ]
  },
  {
   "cell_type": "code",
   "execution_count": 43,
   "metadata": {
    "collapsed": false,
    "slideshow": {
     "slide_type": "slide"
    }
   },
   "outputs": [
    {
     "name": "stdout",
     "output_type": "stream",
     "text": [
      "C1 = 1.000000, C2 = -1.082561\n"
     ]
    },
    {
     "data": {
      "image/png": "[encoded data removed]",
      "text/plain": [
       "<matplotlib.figure.Figure at 0x7ff4f69b2240>"
      ]
     },
     "metadata": {},
     "output_type": "display_data"
    }
   ],
   "source": [
    "# Теперь можно разрешить условия u(0) = 1, u(2) + v(2) = 0\n",
    "# (u(x),v(x)) = Y0(x) + C1 Y1(x) + C2 Y2(x)\n",
    "\n",
    "A = [[     Y1[0, 0],            Y2[0, 0]      ], # Левое условие\n",
    "     [Y1[-1, 0]+Y1[-1, 1], Y2[-1, 0]+Y2[-1, 1]]] # Правое условие\n",
    "b = np.array([1, 0]) - [Y0[0, 0], Y0[-1, 0]+Y0[-1, 1]]\n",
    "C1, C2 = np.linalg.solve(A, b)\n",
    "print('C1 = %f, C2 = %f' % (C1, C2))\n",
    "plt.figure(figsize=(8, 4)); plt.plot(X, Y0 + C1*Y1 + C2*Y2); plt.grid()"
   ]
  },
  {
   "cell_type": "markdown",
   "metadata": {
    "slideshow": {
     "slide_type": "slide"
    }
   },
   "source": [
    "### Задача XI.8.1\n",
    "Построить общее решение для \n",
    "* $y''(x) + (10+x) y(x) = xe^{-x}, \\quad x \\in [0, 10]$\n",
    "* $y''(x) - (10+x) y(x) = xe^{-x}, \\quad x \\in [0, 10]$"
   ]
  },
  {
   "cell_type": "code",
   "execution_count": 80,
   "metadata": {
    "collapsed": false,
    "slideshow": {
     "slide_type": "subslide"
    }
   },
   "outputs": [
    {
     "name": "stdout",
     "output_type": "stream",
     "text": [
      "Классический метод РК 4 порядка, всего шагов: 200\n"
     ]
    },
    {
     "data": {
      "image/png": "[encoded data removed]",
      "text/plain": [
       "<matplotlib.figure.Figure at 0x7ff4f6c145c0>"
      ]
     },
     "metadata": {},
     "output_type": "display_data"
    }
   ],
   "source": [
    "def G(x, y): # Правая часть неоднородной ОДУ\n",
    "    u, v = y; return np.array([v, -(10+x)*u + x*np.exp(-x)])\n",
    "def Ghom(x, y): # Правая часть однородной ОДУ\n",
    "    u, v = y; return np.array([v, -(10+x)*u])\n",
    "\n",
    "a = 0; b = 10\n",
    "X, Y0 = fixed_stepsize(G   , np.array([0., 0.]), b, rk4, b / 200, verbose=True)\n",
    "X, Y1 = fixed_stepsize(Ghom, np.array([1., 0.]), b, rk4, b / 200)\n",
    "X, Y2 = fixed_stepsize(Ghom, np.array([0., 1.]), b, rk4, b / 200)\n",
    "\n",
    "plt.figure(figsize=(15, 3)); plt.rc('font', size=14)\n",
    "plt.subplot(1, 3, 1); plt.plot(X, Y0); plt.title(r'$y_0(x), y_0^\\prime(x)$')\n",
    "plt.subplot(1, 3, 2); plt.plot(X, Y1); plt.title(r'$y_1(x), y_1^\\prime(x)$')\n",
    "plt.subplot(1, 3, 3); plt.plot(X, Y2); plt.title(r'$y_2(x), y_2^\\prime(x)$')\n",
    "plt.show()"
   ]
  },
  {
   "cell_type": "code",
   "execution_count": 105,
   "metadata": {
    "collapsed": false,
    "slideshow": {
     "slide_type": "subslide"
    }
   },
   "outputs": [
    {
     "name": "stdout",
     "output_type": "stream",
     "text": [
      "Классический метод РК 4 порядка, всего шагов: 200\n"
     ]
    },
    {
     "data": {
      "image/png": "[encoded data removed]",
      "text/plain": [
       "<matplotlib.figure.Figure at 0x7ff4f6fe29b0>"
      ]
     },
     "metadata": {},
     "output_type": "display_data"
    }
   ],
   "source": [
    "def G(x, y): # Правая часть неоднородной ОДУ\n",
    "    u, v = y; return np.array([v, (10+x)*u + x*np.exp(-x)])\n",
    "def Ghom(x, y): # Правая часть однородной ОДУ\n",
    "    u, v = y; return np.array([v, (10+x)*u])\n",
    "\n",
    "a = 0; b = 10\n",
    "X, Z0 = fixed_stepsize(G   , np.array([0., 0.]), b, rk4, b / 200, verbose=True)\n",
    "X, Z1 = fixed_stepsize(Ghom, np.array([1., 0.]), b, rk4, b / 200)\n",
    "X, Z2 = fixed_stepsize(Ghom, np.array([0., 1.]), b, rk4, b / 200)\n",
    "\n",
    "plt.figure(figsize=(15, 3)); plt.rc('font', size=14)\n",
    "plt.subplot(1, 3, 1); plt.plot(X, Z0); plt.title(r'$y_0(x), y_0^\\prime(x)$')\n",
    "plt.subplot(1, 3, 2); plt.plot(X, Z1); plt.title(r'$y_1(x), y_1^\\prime(x)$')\n",
    "plt.subplot(1, 3, 3); plt.plot(X, Z2); plt.title(r'$y_2(x), y_2^\\prime(x)$')\n",
    "plt.show()"
   ]
  },
  {
   "cell_type": "markdown",
   "metadata": {
    "slideshow": {
     "slide_type": "subslide"
    }
   },
   "source": [
    "Мы численно построили для каждой задачи фундаментальную систему в форме\n",
    "$$\n",
    "y(x) = y_0(x) + C_1 y_1(x) + C_2 y_2(x).\n",
    "$$\n",
    "Но можно ли использовать эту систему для решения краевой задачи? Пусть граничные условия заданы в виде\n",
    "$$\n",
    "y(a) = \\alpha, \\; y(b) = \\beta\n",
    "$$\n",
    "Матрица системы для определения $C_1, C_2$ будет иметь вид\n",
    "$$\n",
    "A = \\begin{pmatrix}\n",
    "y_1(a) & y_2(a)\\\\\n",
    "y_1(b) & y_2(b)\n",
    "\\end{pmatrix}\n",
    "$$"
   ]
  },
  {
   "cell_type": "code",
   "execution_count": 106,
   "metadata": {
    "collapsed": false,
    "slideshow": {
     "slide_type": "subslide"
    }
   },
   "outputs": [
    {
     "name": "stdout",
     "output_type": "stream",
     "text": [
      "Для колебательных решений cond(A) = 5.01011683375\n",
      "Для экспоненциальных решений cond(A) = 7.29850742218e+15\n"
     ]
    }
   ],
   "source": [
    "def cond(A):\n",
    "    lam = np.sqrt(np.linalg.eigvalsh(A.T * A))\n",
    "    return lam[-1] / lam[0]\n",
    "\n",
    "A = np.array([[Y1[0, 0], Y2[0, 0]], [Y1[-1, 0], Y2[-1, 0]]]) \n",
    "print('Для колебательных решений cond(A) =', cond(A))\n",
    "\n",
    "A = np.array([[Z1[0, 0], Z2[0, 0]], [Z1[-1, 0], Z2[-1, 0]]]) \n",
    "print('Для экспоненциальных решений cond(A) =', cond(A))"
   ]
  },
  {
   "cell_type": "markdown",
   "metadata": {
    "slideshow": {
     "slide_type": "subslide"
    }
   },
   "source": [
    "Видно, что во втором случае система для определения $C_1, C_2$ очень плохо определена, а значит $C_1, C_2$ будут найдены с большими ошибками, что в свою очередь приведет к большим ошибкам в итоговом решении, вычисляемом по формуле\n",
    "$$\n",
    "y(x) = y_0(x) + C_1 y_1(x) + C_2 y_2(x)\n",
    "$$"
   ]
  },
  {
   "cell_type": "code",
   "execution_count": 107,
   "metadata": {
    "collapsed": false,
    "slideshow": {
     "slide_type": "fragment"
    }
   },
   "outputs": [
    {
     "name": "stdout",
     "output_type": "stream",
     "text": [
      "C1 = 2.000000, C2 = -6.429219\n"
     ]
    },
    {
     "data": {
      "image/png": "[encoded data removed]",
      "text/plain": [
       "<matplotlib.figure.Figure at 0x7ff4f69c12b0>"
      ]
     },
     "metadata": {},
     "output_type": "display_data"
    }
   ],
   "source": [
    "A = np.array([[Z1[0, 0], Z2[0, 0]], [Z1[-1, 0], Z2[-1, 0]]])\n",
    "b = np.array([2-Z0[0, 0], 3-Z0[-1, 0]])\n",
    "C1, C2 = np.linalg.solve(A, b)\n",
    "print('C1 = %f, C2 = %f' % (C1, C2))\n",
    "plt.figure(figsize=(8, 4)); plt.plot(X, Z0[:, 0] + C1*Z1[:, 0] + C2*Z2[:, 0])\n",
    "plt.grid()"
   ]
  },
  {
   "cell_type": "markdown",
   "metadata": {
    "slideshow": {
     "slide_type": "slide"
    }
   },
   "source": [
    "Для краевых задач для уравнений второго порядка в форме\n",
    "$$\n",
    "\\frac{d}{dx}\\left[\n",
    "p(x) \\frac{dy}{dx}\n",
    "\\right] + \n",
    "r(x) \\frac{dy}{dx} - q(x) y(x) = f(x)\n",
    "$$\n",
    "можно вопользоваться другим методом &mdash; методом прогонки (конечно-разностным методом). Для этого уравнение аппроксимируется на равномерной сетке на отрезке $[a,b]$.\n",
    "\n",
    "$$\n",
    "\\frac{p_{m+1/2}(y_{m+1} - y_m) - p_{m-1/2} (y_m - y_{m-1})}{h^2}\n",
    "+ r_m \\frac{y_{m+1} - y_{m-1}}{2h} - q_m y_m = f_m,\\\\\n",
    "p_{m+1/2} \\equiv p\\left(\\frac{x_m + x_{m+1}}{2}\\right), \\quad\n",
    "q_m \\equiv q(x_m), \\quad r_m \\equiv r(x_m), \\quad f_m \\equiv f(x_m)\n",
    "$$\n",
    "\n",
    "![stencil](stencil.png)"
   ]
  },
  {
   "cell_type": "markdown",
   "metadata": {
    "collapsed": true,
    "slideshow": {
     "slide_type": "subslide"
    }
   },
   "source": [
    "Такая аппроксимация уравнения имеет второй порядок и обладает преимуществами перед аппроксимацией \n",
    "$$\n",
    "\\frac{d}{dx}\\left[\n",
    "p(x) \\frac{dy}{dx}\n",
    "\\right] = \\frac{dp}{dx} \\frac{dy}{dx} + p(x) \\frac{d^2y}{dx^2} \n",
    "\\sim \\frac{p_{m+1} - p_{m-1}}{2h}\\frac{y_{m+1} - y_{m-1}}{2h} + p_m \\frac{y_{m+1} -2y_m + y_{m-1}}{h^2}.\n",
    "$$\n",
    "\n",
    "Граничные условия первого рода $y(a) = \\alpha, y(b) = \\beta$ аппроксимируются в разностной задаче тривиально:\n",
    "$$\n",
    "y_0 = \\alpha, \\qquad y_M = \\beta.\n",
    "$$\n",
    "Для условий с производными\n",
    "$$\n",
    "p(a) y'(a) + \\sigma y(a) = \\gamma\\\\\n",
    "p(b) y'(b) + \\rho y(a) = \\delta\n",
    "$$\n",
    "аппроксимация на границе со вторым порядком производится сложнее."
   ]
  },
  {
   "cell_type": "markdown",
   "metadata": {
    "slideshow": {
     "slide_type": "subslide"
    }
   },
   "source": [
    "Рассмотрим левое условие $p(a) y'(a) + \\sigma y(a) = \\gamma$. Проинтегрируем уравнение\n",
    "$$\n",
    "\\frac{d}{dx}\\left[\n",
    "p(x) \\frac{dy}{dx}\n",
    "\\right] + \n",
    "r(x) \\frac{dy}{dx} - q(x) y(x) = f(x)\n",
    "$$\n",
    "на отрезке $[a, a+h]$, предварительно умножив на $\\phi(x) = 1 - \\frac{x-a}{h}$. \n",
    "$$\n",
    "0 = \\int_a^{a+h}\n",
    "\\left[\\frac{d}{dx}\\left(\n",
    "p(x) \\frac{dy}{dx}\n",
    "\\right) + \n",
    "r(x) \\frac{dy}{dx} - q(x) y(x) - f(x)\n",
    "\\right] \\phi(x) dx = \\\\ =\n",
    "-p(a) y'(a) +\\int_a^{a+h} \\left(r(x) \\phi(x) -p(x) \\frac{d\\phi}{dx}\\right) \\frac{dy}{dx} dx\n",
    "-\\int_a^{a+h} (q(x) y(x) + f(x)) \\phi(x) dx =\n",
    "$$\n",
    "Приближая первый интеграл по формуле средней точки, а второй по формуле трапеций, получим\n",
    "$$\n",
    "= -p(a) y'(a) + \\left(\\frac{r_{1/2}}{2} + \\frac{p_{1/2}}{h}\\right) \\frac{y_1 - y_0}{h}\n",
    "-\\frac{h}{2} (q_0 y_0 + f_0) + O(h^2).\n",
    "$$"
   ]
  },
  {
   "cell_type": "markdown",
   "metadata": {
    "slideshow": {
     "slide_type": "subslide"
    }
   },
   "source": [
    "Таким образом,\n",
    "$$\n",
    "p(a) y'(a) = \\left(\\frac{r_{1/2}}{2} + \\frac{p_{1/2}}{h}\\right) \\frac{y_1 - y_0}{h}\n",
    "-\\frac{h}{2} (q_0 y_0 + f_0) + O(h^2).\n",
    "$$\n",
    "Требуемая аппроксимация граничного условия\n",
    "$$p(a) y'(a) + \\sigma y(a) = \\gamma$$\n",
    "принимает вид\n",
    "$$\n",
    "\\left(\\frac{r_{1/2}}{2} + \\frac{p_{1/2}}{h}\\right) \\frac{y_1 - y_0}{h}\n",
    "-\\frac{h}{2} (q_0 y_0 + f_0) + \\sigma y_0 = \\gamma\n",
    "$$"
   ]
  },
  {
   "cell_type": "markdown",
   "metadata": {
    "slideshow": {
     "slide_type": "slide"
    }
   },
   "source": [
    "Возвращаясь к задаче XI.7.1, построим фундаментальное решение\n",
    "$$y''(x) - (10+x) y(x) = xe^{-x}, \\quad x \\in [0, 10]$$\n",
    "как линейную комбинацию\n",
    "$$\n",
    "y(x) = y_0(x) + C_1 y_1(x) + C_2 y_2(x),\n",
    "$$\n",
    "где $y_i$ получаются не из решение задачи Коши, а из решения *краевых задач* методом прогонки.\n",
    "$$\n",
    "\\begin{cases}\n",
    "y_0''(x) - (10+x)y_0(x) = xe^{-x}\\\\\n",
    "y_0(0) = 0\\\\\n",
    "y_0(10) = 0\n",
    "\\end{cases}\n",
    "\\quad\n",
    "\\begin{cases}\n",
    "y_1''(x) - (10+x)y_1(x) = 0\\\\\n",
    "y_1(0) = 0\\\\\n",
    "y_1(10) = 1\n",
    "\\end{cases}\n",
    "\\quad\n",
    "\\begin{cases}\n",
    "y_2''(x) - (10+x)y_2(x) = 0\\\\\n",
    "y_2(0) = 1\\\\\n",
    "y_2(10) = 0\n",
    "\\end{cases}\n",
    "$$"
   ]
  },
  {
   "cell_type": "code",
   "execution_count": 111,
   "metadata": {
    "collapsed": true,
    "slideshow": {
     "slide_type": "slide"
    }
   },
   "outputs": [],
   "source": [
    "from scipy.linalg import solve_banded\n",
    "\n",
    "M = 200; X = np.linspace(0, 10, M+1)\n",
    "def sweep_solve(x, alpha, beta, rhs):\n",
    "    h = x[1] - x[0]; M = len(x) - 1\n",
    "    A = np.zeros((3, M+1)); b = np.zeros(M+1)\n",
    "    \n",
    "    # Заполняем строки трехдиагональной системы с 1 до M-1\n",
    "    A[0, 2:] = A[2, :-2] = 1/h**2\n",
    "    A[1, 1:M] = -2/h**2 - (10 + x[1:M])\n",
    "    b[1:M] = rhs[1:M]\n",
    "    \n",
    "    # Первая и последняя строки содержат граничные условия\n",
    "    A[0, 1] = A[2, -1] = 0\n",
    "    A[1, 0] = A[1, M] = 1\n",
    "    b[0] = alpha; b[M] = beta;\n",
    "    return solve_banded((1, 1), A, b)"
   ]
  },
  {
   "cell_type": "code",
   "execution_count": 112,
   "metadata": {
    "collapsed": false,
    "slideshow": {
     "slide_type": "subslide"
    }
   },
   "outputs": [
    {
     "data": {
      "image/png": "[encoded data removed]",
      "text/plain": [
       "<matplotlib.figure.Figure at 0x7ff4f5041828>"
      ]
     },
     "metadata": {},
     "output_type": "display_data"
    },
    {
     "data": {
      "image/png": "[encoded data removed]",
      "text/plain": [
       "<matplotlib.figure.Figure at 0x7ff4f6c7de10>"
      ]
     },
     "metadata": {},
     "output_type": "display_data"
    }
   ],
   "source": [
    "Z0 = sweep_solve(X, 0, 0, X*np.exp(-X))\n",
    "Z1 = sweep_solve(X, 0, 1, np.zeros_like(X))\n",
    "Z2 = sweep_solve(X, 1, 0, np.zeros_like(X))\n",
    "\n",
    "plt.figure(figsize=(15, 3)); plt.rc('font', size=14)\n",
    "plt.subplot(1, 3, 1); plt.plot(X, Z0); plt.title(r'$y_0(x), y_0^\\prime(x)$')\n",
    "plt.subplot(1, 3, 2); plt.plot(X, Z1); plt.title(r'$y_1(x), y_1^\\prime(x)$')\n",
    "plt.subplot(1, 3, 3); plt.plot(X, Z2); plt.title(r'$y_2(x), y_2^\\prime(x)$')\n",
    "plt.show()\n",
    "plt.figure(figsize=(8, 4)); plt.plot(X, Z0 + 3*Z1 + 2*Z2)\n",
    "plt.grid()"
   ]
  },
  {
   "cell_type": "markdown",
   "metadata": {
    "slideshow": {
     "slide_type": "slide"
    }
   },
   "source": [
    "### Нелинейная краевая задача. Метод стрельбы\n",
    "Рассмотрим нелинейную краевую задачу второго порядка\n",
    "$$\n",
    "y''(x) = f(x, y(x), y'(x)), \\qquad x \\in [a,b]\\\\\n",
    "y(a) = \\alpha\\\\\n",
    "y(b) = \\beta\n",
    "$$\n",
    "\n",
    "Для нелинейных задач не существует понятия фундаментальной системы, так как решение больше не представляется *линейной* комбинацией."
   ]
  },
  {
   "cell_type": "markdown",
   "metadata": {
    "slideshow": {
     "slide_type": "slide"
    }
   },
   "source": [
    "Рассмотрим вспомогательную задачу Коши\n",
    "$$\n",
    "y''(x) = f(x, y(x), y'(x)), \\qquad x \\in [a,b]\\\\\n",
    "y(a) = \\alpha\\\\\n",
    "y'(a) = p.\n",
    "$$\n",
    "Здесь $p$ &mdash; параметр. При некотором его значении решение задачи Коши совпадает с решением исходной краевой задачи. При каждом значении параметра $p$ задача может быть легко решена численно.\n",
    "\n",
    "Рассмотрим на примере\n",
    "$$\n",
    "y'' = \\sin y, \\quad x \\in [0, \\pi/2]\\\\\n",
    "y(0) = 0\\\\\n",
    "y(\\pi/2) = 1\n",
    "$$"
   ]
  },
  {
   "cell_type": "code",
   "execution_count": 124,
   "metadata": {
    "collapsed": false,
    "slideshow": {
     "slide_type": "slide"
    }
   },
   "outputs": [
    {
     "data": {
      "image/png": "[encoded data removed]",
      "text/plain": [
       "<matplotlib.figure.Figure at 0x7ff4f69c3a90>"
      ]
     },
     "metadata": {},
     "output_type": "display_data"
    }
   ],
   "source": [
    "def G(x, Y): # Правая часть для задачи Коши\n",
    "    y, yp = Y\n",
    "    return np.array([yp, np.sin(y)])\n",
    "\n",
    "def shoot_plot(p):\n",
    "    b = np.pi/2\n",
    "    X, Y = fixed_stepsize(G, np.array([0., p]), b, rk4, b / 200)\n",
    "    plt.plot(X, Y)\n",
    "    return\n",
    "\n",
    "shoot_plot(0.5)"
   ]
  },
  {
   "cell_type": "markdown",
   "metadata": {
    "slideshow": {
     "slide_type": "slide"
    }
   },
   "source": [
    "Значение решения на правом конце можно рассмотреть как функцию $p$. Мы умеем вычислять ее поточечно при каждом p."
   ]
  },
  {
   "cell_type": "code",
   "execution_count": 125,
   "metadata": {
    "collapsed": false,
    "slideshow": {
     "slide_type": "fragment"
    }
   },
   "outputs": [
    {
     "data": {
      "text/plain": [
       "<matplotlib.text.Text at 0x7ff4f6ae50f0>"
      ]
     },
     "execution_count": 125,
     "metadata": {},
     "output_type": "execute_result"
    },
    {
     "data": {
      "image/png": "[encoded data removed]",
      "text/plain": [
       "<matplotlib.figure.Figure at 0x7ff4f6c8f780>"
      ]
     },
     "metadata": {},
     "output_type": "display_data"
    }
   ],
   "source": [
    "def shoot(p):\n",
    "    b = np.pi/2\n",
    "    X, Y = fixed_stepsize(G, np.array([0., p]), b, rk4, b / 200)\n",
    "    return Y[-1, 0]\n",
    "\n",
    "val = []; P = np.linspace(0.3, 0.7, 100)\n",
    "for p in P:\n",
    "    val.append(shoot(p))\n",
    "    \n",
    "plt.plot(P, val); plt.plot(P, np.ones_like(P)); \n",
    "plt.xlabel('p')\n",
    "plt.ylabel(r'y(1, p)')"
   ]
  },
  {
   "cell_type": "code",
   "execution_count": 127,
   "metadata": {
    "collapsed": false,
    "slideshow": {
     "slide_type": "slide"
    }
   },
   "outputs": [
    {
     "data": {
      "image/png": "[encoded data removed]",
      "text/plain": [
       "<matplotlib.figure.Figure at 0x7ff4f6a38080>"
      ]
     },
     "metadata": {},
     "output_type": "display_data"
    }
   ],
   "source": [
    "from scipy.optimize import fsolve\n",
    "\n",
    "ptrue = fsolve(lambda p: shoot(p) - 1, 0.5)\n",
    "shoot_plot(ptrue)"
   ]
  }
 ],
 "metadata": {
  "anaconda-cloud": {},
  "celltoolbar": "Slideshow",
  "kernelspec": {
   "display_name": "Python [Root]",
   "language": "python",
   "name": "Python [Root]"
  },
  "language_info": {
   "codemirror_mode": {
    "name": "ipython",
    "version": 3
   },
   "file_extension": ".py",
   "mimetype": "text/x-python",
   "name": "python",
   "nbconvert_exporter": "python",
   "pygments_lexer": "ipython3",
   "version": "3.5.2"
  },
  "livereveal": {
   "theme": "beige",
   "transition": "none"
  },
  "nbpresent": {
   "slides": {
    "1ffee25c-251f-4cbf-af3d-a1d5521081b9": {
     "id": "1ffee25c-251f-4cbf-af3d-a1d5521081b9",
     "prev": "eb43fa9f-eb7c-417b-ab1a-99371ff452e2",
     "regions": {
      "2e1a7b46-c253-4096-a0a5-dfbc6cfb086e": {
       "attrs": {
        "height": 0.8,
        "width": 0.8,
        "x": 0.1,
        "y": 0.1
       },
       "content": {
        "cell": "bf40e897-f1f8-4e69-b826-fe53fb761aad",
        "part": "whole"
       },
       "id": "2e1a7b46-c253-4096-a0a5-dfbc6cfb086e"
      }
     }
    },
    "37c43f64-6426-4a98-8de1-a6ca1dd72190": {
     "id": "37c43f64-6426-4a98-8de1-a6ca1dd72190",
     "prev": "d2b700ea-e44e-4bed-9ce4-ddf1532b44cb",
     "regions": {
      "45a20e24-b33f-4c55-8df2-e96075b5e2af": {
       "attrs": {
        "height": 0.8,
        "width": 0.8,
        "x": 0.1,
        "y": 0.1
       },
       "content": {
        "cell": "e730e690-97c9-4acd-bf81-4c5ab0bbd48e",
        "part": "whole"
       },
       "id": "45a20e24-b33f-4c55-8df2-e96075b5e2af"
      }
     }
    },
    "5bf0841a-23d1-413e-a557-911111e3e336": {
     "id": "5bf0841a-23d1-413e-a557-911111e3e336",
     "prev": "ebd3a807-2380-4bd6-8e58-c9424f3ed713",
     "regions": {
      "3c8adac9-5366-49e9-96ab-965c77e83485": {
       "attrs": {
        "height": 0.8,
        "width": 0.8,
        "x": 0.1,
        "y": 0.1
       },
       "content": {
        "cell": "2e08a439-2699-4ecf-9189-dfbbf745ad4e",
        "part": "whole"
       },
       "id": "3c8adac9-5366-49e9-96ab-965c77e83485"
      }
     }
    },
    "60ffd9bc-f20d-41e5-8771-5f11695177c6": {
     "id": "60ffd9bc-f20d-41e5-8771-5f11695177c6",
     "prev": "97575fe4-de27-4833-b616-7479f99519d0",
     "regions": {
      "807a955a-60c8-4f03-8734-54dfd52113d6": {
       "attrs": {
        "height": 0.8,
        "width": 0.8,
        "x": 0.1,
        "y": 0.1
       },
       "content": {
        "cell": "795c8121-f820-4edc-aeba-fc399b38f4b2",
        "part": "whole"
       },
       "id": "807a955a-60c8-4f03-8734-54dfd52113d6"
      }
     }
    },
    "623d8bc9-43df-451f-b862-76c2b54708ea": {
     "id": "623d8bc9-43df-451f-b862-76c2b54708ea",
     "prev": "eded54a5-7710-4ab6-8229-3ca4029d1ae7",
     "regions": {
      "42b1d4d4-2905-454b-b564-92f58dec8f81": {
       "attrs": {
        "height": 0.8,
        "width": 0.8,
        "x": 0.1,
        "y": 0.1
       },
       "content": {
        "cell": "16fd05b0-8ac8-4da2-8980-54d0d253d110",
        "part": "whole"
       },
       "id": "42b1d4d4-2905-454b-b564-92f58dec8f81"
      }
     }
    },
    "6dabcfe1-1c90-4893-8f01-c39e431f00bb": {
     "id": "6dabcfe1-1c90-4893-8f01-c39e431f00bb",
     "prev": "37c43f64-6426-4a98-8de1-a6ca1dd72190",
     "regions": {
      "1126b4c4-7df3-4db1-962b-abe099db9928": {
       "attrs": {
        "height": 0.8,
        "width": 0.8,
        "x": 0.1,
        "y": 0.1
       },
       "content": {
        "cell": "54519c05-1028-4e5c-a2d2-e21f821e99aa",
        "part": "whole"
       },
       "id": "1126b4c4-7df3-4db1-962b-abe099db9928"
      }
     }
    },
    "91753ba8-05fe-465f-806d-0faf4a21a031": {
     "id": "91753ba8-05fe-465f-806d-0faf4a21a031",
     "prev": "5bf0841a-23d1-413e-a557-911111e3e336",
     "regions": {
      "eb271beb-70d0-452e-b896-43695be4ae85": {
       "attrs": {
        "height": 0.8,
        "width": 0.8,
        "x": 0.1,
        "y": 0.1
       },
       "content": {
        "cell": "31cc3d04-22a5-4773-b4e1-abfb09f8bbc2",
        "part": "whole"
       },
       "id": "eb271beb-70d0-452e-b896-43695be4ae85"
      }
     }
    },
    "97575fe4-de27-4833-b616-7479f99519d0": {
     "id": "97575fe4-de27-4833-b616-7479f99519d0",
     "prev": "b8aebb38-1266-40c2-928a-026f9d33ec5c",
     "regions": {
      "01deb5d1-73e8-4d64-b93e-e7646647af3b": {
       "attrs": {
        "height": 0.8,
        "width": 0.8,
        "x": 0.1,
        "y": 0.1
       },
       "content": {
        "cell": "7f2bdffe-4f2a-446b-8805-d4fd262fced1",
        "part": "whole"
       },
       "id": "01deb5d1-73e8-4d64-b93e-e7646647af3b"
      }
     }
    },
    "9cc88d72-9ac9-4c24-96d5-abc94cea6e92": {
     "id": "9cc88d72-9ac9-4c24-96d5-abc94cea6e92",
     "prev": "1ffee25c-251f-4cbf-af3d-a1d5521081b9",
     "regions": {
      "78febecd-5100-493b-8f0d-0cc35ceae42e": {
       "attrs": {
        "height": 0.8,
        "width": 0.8,
        "x": 0.1,
        "y": 0.1
       },
       "content": {
        "cell": "bef00443-818c-4614-aa63-8a2e117462ec",
        "part": "whole"
       },
       "id": "78febecd-5100-493b-8f0d-0cc35ceae42e"
      }
     }
    },
    "a5df524d-67a8-4ae1-8258-9231728bdd14": {
     "id": "a5df524d-67a8-4ae1-8258-9231728bdd14",
     "prev": "623d8bc9-43df-451f-b862-76c2b54708ea",
     "regions": {
      "68e876ca-f943-4b2e-8268-439db992b310": {
       "attrs": {
        "height": 0.8,
        "width": 0.8,
        "x": 0.1,
        "y": 0.1
       },
       "content": {
        "cell": "40af6766-3ae3-4acc-8417-439eb8968553",
        "part": "whole"
       },
       "id": "68e876ca-f943-4b2e-8268-439db992b310"
      }
     }
    },
    "b62355d8-8b93-4dfc-8016-6548952c0f8c": {
     "id": "b62355d8-8b93-4dfc-8016-6548952c0f8c",
     "prev": "f59840cf-124e-4d10-8b89-3aafe98f38ba",
     "regions": {
      "381cc6bd-bde3-4d58-8277-99fbd69c7a4f": {
       "attrs": {
        "height": 0.8,
        "width": 0.8,
        "x": 0.1,
        "y": 0.1
       },
       "content": {
        "cell": "b92c1827-c799-44b9-b770-f45e95c917da",
        "part": "whole"
       },
       "id": "381cc6bd-bde3-4d58-8277-99fbd69c7a4f"
      }
     }
    },
    "b8aebb38-1266-40c2-928a-026f9d33ec5c": {
     "id": "b8aebb38-1266-40c2-928a-026f9d33ec5c",
     "prev": "9cc88d72-9ac9-4c24-96d5-abc94cea6e92",
     "regions": {
      "1bc2d24e-0782-443b-83a4-bc683c5ac6cb": {
       "attrs": {
        "height": 0.8,
        "width": 0.8,
        "x": 0.1,
        "y": 0.1
       },
       "content": {
        "cell": "cbb3d96a-fdd6-436e-86b6-1be446b43e84",
        "part": "whole"
       },
       "id": "1bc2d24e-0782-443b-83a4-bc683c5ac6cb"
      }
     }
    },
    "d2b700ea-e44e-4bed-9ce4-ddf1532b44cb": {
     "id": "d2b700ea-e44e-4bed-9ce4-ddf1532b44cb",
     "prev": "a5df524d-67a8-4ae1-8258-9231728bdd14",
     "regions": {
      "474bc80d-f262-4e62-afae-4565c0979e03": {
       "attrs": {
        "height": 0.8,
        "width": 0.8,
        "x": 0.1,
        "y": 0.1
       },
       "content": {
        "cell": "a67001a3-e51e-4a22-bdcd-249cde5581c1",
        "part": "whole"
       },
       "id": "474bc80d-f262-4e62-afae-4565c0979e03"
      }
     }
    },
    "d989978f-1d85-4802-953f-0e82f1a0fd51": {
     "id": "d989978f-1d85-4802-953f-0e82f1a0fd51",
     "prev": null,
     "regions": {
      "e3ddb97a-209b-4c70-91d7-df0cadcefb0d": {
       "attrs": {
        "height": 0.8,
        "width": 0.8,
        "x": 0.1,
        "y": 0.1
       },
       "content": {
        "cell": "13101ac1-2637-4d0f-9f1f-cd32215b02c3",
        "part": "whole"
       },
       "id": "e3ddb97a-209b-4c70-91d7-df0cadcefb0d"
      }
     }
    },
    "eb43fa9f-eb7c-417b-ab1a-99371ff452e2": {
     "id": "eb43fa9f-eb7c-417b-ab1a-99371ff452e2",
     "prev": "b62355d8-8b93-4dfc-8016-6548952c0f8c",
     "regions": {
      "b9415d21-f857-4a93-a788-c7dc51dedea0": {
       "attrs": {
        "height": 0.8,
        "width": 0.8,
        "x": 0.1,
        "y": 0.1
       },
       "content": {
        "cell": "e29b9590-fc86-46fd-83be-3ff48c7a8df4",
        "part": "whole"
       },
       "id": "b9415d21-f857-4a93-a788-c7dc51dedea0"
      }
     }
    },
    "ebd3a807-2380-4bd6-8e58-c9424f3ed713": {
     "id": "ebd3a807-2380-4bd6-8e58-c9424f3ed713",
     "prev": "f3fb61c6-f807-4942-8c41-0e80240a5146",
     "regions": {
      "7eaeb4e2-d47e-43e4-92c4-ed8cc1e9aac7": {
       "attrs": {
        "height": 0.8,
        "width": 0.8,
        "x": 0.1,
        "y": 0.1
       },
       "content": {
        "cell": "412353c7-42b2-42c7-8702-69568c809a97",
        "part": "whole"
       },
       "id": "7eaeb4e2-d47e-43e4-92c4-ed8cc1e9aac7"
      }
     }
    },
    "eded54a5-7710-4ab6-8229-3ca4029d1ae7": {
     "id": "eded54a5-7710-4ab6-8229-3ca4029d1ae7",
     "prev": "91753ba8-05fe-465f-806d-0faf4a21a031",
     "regions": {
      "816c3f73-4147-4cdb-b7d1-f5f82fa6003b": {
       "attrs": {
        "height": 0.8,
        "width": 0.8,
        "x": 0.1,
        "y": 0.1
       },
       "content": {
        "cell": "fa2d4b89-0d7a-41f1-8635-c5905d106cf3",
        "part": "whole"
       },
       "id": "816c3f73-4147-4cdb-b7d1-f5f82fa6003b"
      }
     }
    },
    "f3fb61c6-f807-4942-8c41-0e80240a5146": {
     "id": "f3fb61c6-f807-4942-8c41-0e80240a5146",
     "prev": "d989978f-1d85-4802-953f-0e82f1a0fd51",
     "regions": {
      "4f7abbfb-161b-44ce-bdab-05ef0b2a5542": {
       "attrs": {
        "height": 0.8,
        "width": 0.8,
        "x": 0.1,
        "y": 0.1
       },
       "content": {
        "cell": "8ce7bf3f-66e0-4462-a540-e87bceeadb7f",
        "part": "whole"
       },
       "id": "4f7abbfb-161b-44ce-bdab-05ef0b2a5542"
      }
     }
    },
    "f59840cf-124e-4d10-8b89-3aafe98f38ba": {
     "id": "f59840cf-124e-4d10-8b89-3aafe98f38ba",
     "prev": "6dabcfe1-1c90-4893-8f01-c39e431f00bb",
     "regions": {
      "e67fa4b9-f237-40ff-8621-fcdbfdd83101": {
       "attrs": {
        "height": 0.8,
        "width": 0.8,
        "x": 0.1,
        "y": 0.1
       },
       "content": {
        "cell": "4ae9a30c-81bc-4396-90d8-939a8e59f287",
        "part": "whole"
       },
       "id": "e67fa4b9-f237-40ff-8621-fcdbfdd83101"
      }
     }
    }
   },
   "themes": {
    "default": "c04eebe0-c348-41e9-bcfb-a65d4bd126df",
    "theme": {
     "c04eebe0-c348-41e9-bcfb-a65d4bd126df": {
      "id": "c04eebe0-c348-41e9-bcfb-a65d4bd126df",
      "palette": {
       "19cc588f-0593-49c9-9f4b-e4d7cc113b1c": {
        "id": "19cc588f-0593-49c9-9f4b-e4d7cc113b1c",
        "rgb": [
         252,
         252,
         252
        ]
       },
       "31af15d2-7e15-44c5-ab5e-e04b16a89eff": {
        "id": "31af15d2-7e15-44c5-ab5e-e04b16a89eff",
        "rgb": [
         68,
         68,
         68
        ]
       },
       "50f92c45-a630-455b-aec3-788680ec7410": {
        "id": "50f92c45-a630-455b-aec3-788680ec7410",
        "rgb": [
         155,
         177,
         192
        ]
       },
       "c5cc3653-2ee1-402a-aba2-7caae1da4f6c": {
        "id": "c5cc3653-2ee1-402a-aba2-7caae1da4f6c",
        "rgb": [
         43,
         126,
         184
        ]
       },
       "efa7f048-9acb-414c-8b04-a26811511a21": {
        "id": "efa7f048-9acb-414c-8b04-a26811511a21",
        "rgb": [
         25.118061674008803,
         73.60176211453744,
         107.4819383259912
        ]
       }
      },
      "rules": {
       "blockquote": {
        "color": "50f92c45-a630-455b-aec3-788680ec7410"
       },
       "code": {
        "font-family": "Anonymous Pro"
       },
       "h1": {
        "color": "c5cc3653-2ee1-402a-aba2-7caae1da4f6c",
        "font-family": "Lato",
        "font-size": 8
       },
       "h2": {
        "color": "c5cc3653-2ee1-402a-aba2-7caae1da4f6c",
        "font-family": "Lato",
        "font-size": 6
       },
       "h3": {
        "color": "50f92c45-a630-455b-aec3-788680ec7410",
        "font-family": "Lato",
        "font-size": 5.5
       },
       "h4": {
        "color": "c5cc3653-2ee1-402a-aba2-7caae1da4f6c",
        "font-family": "Lato",
        "font-size": 5
       },
       "h5": {
        "font-family": "Lato"
       },
       "h6": {
        "font-family": "Lato"
       },
       "h7": {
        "font-family": "Lato"
       },
       "pre": {
        "font-family": "Anonymous Pro",
        "font-size": 4
       }
      },
      "text-base": {
       "font-family": "Merriweather",
       "font-size": 4
      }
     },
     "f0b95bb9-67a7-4d14-bf09-657a5b556dbe": {
      "id": "f0b95bb9-67a7-4d14-bf09-657a5b556dbe",
      "palette": {
       "19cc588f-0593-49c9-9f4b-e4d7cc113b1c": {
        "id": "19cc588f-0593-49c9-9f4b-e4d7cc113b1c",
        "rgb": [
         252,
         252,
         252
        ]
       },
       "31af15d2-7e15-44c5-ab5e-e04b16a89eff": {
        "id": "31af15d2-7e15-44c5-ab5e-e04b16a89eff",
        "rgb": [
         68,
         68,
         68
        ]
       },
       "50f92c45-a630-455b-aec3-788680ec7410": {
        "id": "50f92c45-a630-455b-aec3-788680ec7410",
        "rgb": [
         155,
         177,
         192
        ]
       },
       "c5cc3653-2ee1-402a-aba2-7caae1da4f6c": {
        "id": "c5cc3653-2ee1-402a-aba2-7caae1da4f6c",
        "rgb": [
         43,
         126,
         184
        ]
       },
       "efa7f048-9acb-414c-8b04-a26811511a21": {
        "id": "efa7f048-9acb-414c-8b04-a26811511a21",
        "rgb": [
         25.118061674008803,
         73.60176211453744,
         107.4819383259912
        ]
       }
      },
      "rules": {
       "blockquote": {
        "color": "50f92c45-a630-455b-aec3-788680ec7410"
       },
       "code": {
        "font-family": "Anonymous Pro"
       },
       "h1": {
        "color": "c5cc3653-2ee1-402a-aba2-7caae1da4f6c",
        "font-family": "Lato",
        "font-size": 8
       },
       "h2": {
        "color": "c5cc3653-2ee1-402a-aba2-7caae1da4f6c",
        "font-family": "Lato",
        "font-size": 6
       },
       "h3": {
        "color": "50f92c45-a630-455b-aec3-788680ec7410",
        "font-family": "Lato",
        "font-size": 5.5
       },
       "h4": {
        "color": "c5cc3653-2ee1-402a-aba2-7caae1da4f6c",
        "font-family": "Lato",
        "font-size": 5
       },
       "h5": {
        "font-family": "Lato"
       },
       "h6": {
        "font-family": "Lato"
       },
       "h7": {
        "font-family": "Lato"
       },
       "pre": {
        "font-family": "Anonymous Pro",
        "font-size": 4
       }
      },
      "text-base": {
       "font-family": "Merriweather",
       "font-size": 4
      }
     }
    }
   }
  }
 },
 "nbformat": 4,
 "nbformat_minor": 0
}
